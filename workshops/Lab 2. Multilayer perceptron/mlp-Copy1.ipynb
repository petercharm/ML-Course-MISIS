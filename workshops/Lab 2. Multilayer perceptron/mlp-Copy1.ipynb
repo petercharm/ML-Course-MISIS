{
 "cells": [
  {
   "cell_type": "code",
   "execution_count": 1,
   "metadata": {},
   "outputs": [],
   "source": [
    "import numpy as np\n",
    "import pandas as pd\n",
    "import matplotlib.pyplot as plt\n",
    "\n",
    "%matplotlib inline"
   ]
  },
  {
   "cell_type": "markdown",
   "metadata": {},
   "source": [
    "<b> Загрузка и предобработка исходных данных"
   ]
  },
  {
   "cell_type": "code",
   "execution_count": 2,
   "metadata": {},
   "outputs": [],
   "source": [
    "data = pd.read_csv(\"../../Практические материалы/Lab 1. Linear and logistic regression/mnist/mnist_train.csv\")\n",
    "data_test = pd.read_csv(\"../../Практические материалы/Lab 1. Linear and logistic regression/mnist/mnist_test.csv\")"
   ]
  },
  {
   "cell_type": "code",
   "execution_count": 3,
   "metadata": {},
   "outputs": [],
   "source": [
    "X = data.iloc[:,1:].values\n",
    "X_test = data_test.iloc[:,1:].values"
   ]
  },
  {
   "cell_type": "code",
   "execution_count": 4,
   "metadata": {},
   "outputs": [],
   "source": [
    "mean = np.mean(X)\n",
    "std = np.std(X)\n",
    "\n",
    "X = (X - mean)/std\n",
    "X_test = (X_test - mean)/std"
   ]
  },
  {
   "cell_type": "code",
   "execution_count": null,
   "metadata": {},
   "outputs": [],
   "source": []
  },
  {
   "cell_type": "code",
   "execution_count": 5,
   "metadata": {},
   "outputs": [],
   "source": [
    "m = len(data)\n",
    "n = data.shape[1]-1"
   ]
  },
  {
   "cell_type": "code",
   "execution_count": 6,
   "metadata": {},
   "outputs": [],
   "source": [
    "Y = np.zeros([m,10])"
   ]
  },
  {
   "cell_type": "code",
   "execution_count": 7,
   "metadata": {},
   "outputs": [],
   "source": [
    "for i in range(m):\n",
    "    Y[i,data.label.values[i]] = 1"
   ]
  },
  {
   "cell_type": "code",
   "execution_count": 8,
   "metadata": {},
   "outputs": [
    {
     "data": {
      "text/plain": [
       "array([[0., 0., 0., ..., 0., 0., 0.],\n",
       "       [1., 0., 0., ..., 0., 0., 0.],\n",
       "       [0., 0., 0., ..., 0., 0., 0.],\n",
       "       ...,\n",
       "       [0., 0., 0., ..., 0., 0., 0.],\n",
       "       [0., 0., 0., ..., 0., 0., 0.],\n",
       "       [0., 0., 0., ..., 0., 1., 0.]])"
      ]
     },
     "execution_count": 8,
     "metadata": {},
     "output_type": "execute_result"
    }
   ],
   "source": [
    "Y"
   ]
  },
  {
   "cell_type": "markdown",
   "metadata": {},
   "source": [
    "<b> Алгоритм обратного распространения ошибки"
   ]
  },
  {
   "cell_type": "code",
   "execution_count": 10,
   "metadata": {},
   "outputs": [],
   "source": [
    "def sigmoid(z):\n",
    "    return 1/(1+np.exp(-z))"
   ]
  },
  {
   "cell_type": "code",
   "execution_count": 11,
   "metadata": {},
   "outputs": [],
   "source": [
    "def tanh(z):\n",
    "    return (np.exp(z)-np.exp(-z))/(np.exp(z)+np.exp(-z))"
   ]
  },
  {
   "cell_type": "code",
   "execution_count": 22,
   "metadata": {},
   "outputs": [],
   "source": [
    "def forward(W1,W2,W3,B1,B2,B3,X):\n",
    "    F1 = tanh(np.matmul(X,W1) + B1)\n",
    "    F2 = sigmoid(np.matmul(F1,W2) + B2)\n",
    "    H = sigmoid(np.matmul(F2,W3) + B3)\n",
    "    return F1,F2,H"
   ]
  },
  {
   "cell_type": "code",
   "execution_count": 23,
   "metadata": {},
   "outputs": [],
   "source": [
    "def backpropagation(W1,W2,W3,B1,B2,B3,H,F2,F1,X):\n",
    "    S3 = H - Y\n",
    "\n",
    "    dW3 = np.matmul(np.transpose(F2),S3)\n",
    "    dB3 = np.sum(S3, axis = 0)\n",
    "\n",
    "    S2 = np.matmul(S3,np.transpose(W3))*F2*(1-F2)\n",
    "\n",
    "    dW2 = np.matmul(np.transpose(F1),S2)\n",
    "    dB2 = np.sum(S2, axis = 0)\n",
    "\n",
    "    S1 = np.matmul(S2,np.transpose(W2))*(1-F1**2)\n",
    "\n",
    "    dW1 = np.matmul(np.transpose(X),S1)\n",
    "    dB1 = np.sum(S1, axis = 0)\n",
    "    \n",
    "    return dW3,dW2,dW1,dB3,dB2,dB1"
   ]
  },
  {
   "cell_type": "code",
   "execution_count": 24,
   "metadata": {
    "scrolled": true
   },
   "outputs": [
    {
     "name": "stdout",
     "output_type": "stream",
     "text": [
      "0 510865.7475493406\n"
     ]
    }
   ],
   "source": [
    "k1 = 100\n",
    "k2 = 50\n",
    "k3 = 10\n",
    "\n",
    "W1 = np.random.rand(n,k1) - 0.5\n",
    "W2 = np.random.rand(k1,k2) - 0.5\n",
    "W3 = np.random.rand(k2,k3) - 0.5\n",
    "B1 = np.zeros([1,k1])\n",
    "B2 = np.zeros([1,k2])\n",
    "B3 = np.zeros([1,k3])\n",
    "#dropout1 = np.round(np.random.rand(1,k1))\n",
    "#dropout2 = np.round(np.random.rand(1,k2))\n",
    "\n",
    "alpha = 0.00001\n",
    "\n",
    "for i in range(10000):\n",
    "    F1,F2,H = forward(W1,W2,W3,B1,B2,B3,X)\n",
    "    \n",
    "    J = -np.sum((Y*np.log(H) + (1-Y)*np.log(1-H)))\n",
    "    print(i,J)\n",
    "    \n",
    "    dW3,dW2,dW1,dB3,dB2,dB1 = backpropagation(W1,W2,W3,B1,B2,B3,H,F2,F1,X)\n",
    "    break\n",
    "    W3 = W3 - alpha*dW3\n",
    "    W2 = W2 - alpha*dW2\n",
    "    W1 = W1 - alpha*dW1\n",
    "    B3 = B3 - alpha*dB3\n",
    "    B2 = B2 - alpha*dB2\n",
    "    B1 = B1 - alpha*dB1"
   ]
  },
  {
   "cell_type": "markdown",
   "metadata": {},
   "source": [
    "<b> Численная проверка градиента"
   ]
  },
  {
   "cell_type": "code",
   "execution_count": 25,
   "metadata": {},
   "outputs": [
    {
     "name": "stdout",
     "output_type": "stream",
     "text": [
      "63.99858451914042\n"
     ]
    }
   ],
   "source": [
    "F1,F2,H = forward(W1,W2,W3,B1,B2,B3,X)\n",
    "\n",
    "J1 = -np.sum((Y*np.log(H) + (1-Y)*np.log(1-H)))\n",
    "\n",
    "W1[0,9] += 0.0001\n",
    "\n",
    "F1,F2,H = forward(W1,W2,W3,B1,B2,B3,X)\n",
    "\n",
    "J2 = -np.sum((Y*np.log(H) + (1-Y)*np.log(1-H)))\n",
    "\n",
    "W1[0,9] -= 0.0001\n",
    "\n",
    "print((J2-J1)/0.0001)"
   ]
  },
  {
   "cell_type": "code",
   "execution_count": 26,
   "metadata": {},
   "outputs": [
    {
     "name": "stdout",
     "output_type": "stream",
     "text": [
      "63.998465729436155\n"
     ]
    }
   ],
   "source": [
    "print(dW1[0,9])"
   ]
  },
  {
   "cell_type": "markdown",
   "metadata": {},
   "source": [
    "<b> Расчёт предсказаний для тестовой выборки"
   ]
  },
  {
   "cell_type": "code",
   "execution_count": 37,
   "metadata": {},
   "outputs": [],
   "source": [
    "_,_,pred = forward(W1*dropout1,W2*dropout2,W3*dropout3,B1,B2,B3,X_test)"
   ]
  },
  {
   "cell_type": "code",
   "execution_count": 38,
   "metadata": {},
   "outputs": [
    {
     "data": {
      "text/plain": [
       "array([[2.48374242e-03, 2.21395900e-03, 2.83102182e-05, ...,\n",
       "        9.99483950e-01, 5.29819257e-05, 1.51114354e-03],\n",
       "       [1.95513358e-03, 1.61850360e-05, 9.89319278e-01, ...,\n",
       "        1.34639176e-04, 1.64916875e-03, 1.06544445e-06],\n",
       "       [5.69135380e-06, 9.93854267e-01, 2.72311614e-03, ...,\n",
       "        4.24032586e-03, 3.86161621e-04, 7.57513044e-06],\n",
       "       ...,\n",
       "       [1.29084950e-03, 2.38206126e-05, 9.45360903e-04, ...,\n",
       "        8.92821970e-04, 8.87328736e-03, 2.26559810e-03],\n",
       "       [4.21069465e-04, 1.10188393e-02, 5.07410751e-05, ...,\n",
       "        8.97795556e-04, 2.71929559e-02, 5.03960462e-05],\n",
       "       [1.19111082e-02, 5.91523591e-04, 2.38543479e-03, ...,\n",
       "        3.29661469e-05, 1.68326475e-05, 1.81673843e-05]])"
      ]
     },
     "execution_count": 38,
     "metadata": {},
     "output_type": "execute_result"
    }
   ],
   "source": [
    "pred"
   ]
  },
  {
   "cell_type": "code",
   "execution_count": 39,
   "metadata": {},
   "outputs": [],
   "source": [
    "pred = np.argmax(pred,axis=1)"
   ]
  },
  {
   "cell_type": "code",
   "execution_count": 40,
   "metadata": {},
   "outputs": [
    {
     "data": {
      "text/plain": [
       "array([7, 2, 1, ..., 4, 5, 6])"
      ]
     },
     "execution_count": 40,
     "metadata": {},
     "output_type": "execute_result"
    }
   ],
   "source": [
    "pred"
   ]
  },
  {
   "cell_type": "code",
   "execution_count": 41,
   "metadata": {},
   "outputs": [
    {
     "data": {
      "text/plain": [
       "0       7\n",
       "1       2\n",
       "2       1\n",
       "3       0\n",
       "4       4\n",
       "       ..\n",
       "9995    2\n",
       "9996    3\n",
       "9997    4\n",
       "9998    5\n",
       "9999    6\n",
       "Name: label, Length: 10000, dtype: int64"
      ]
     },
     "execution_count": 41,
     "metadata": {},
     "output_type": "execute_result"
    }
   ],
   "source": [
    "data_test.label"
   ]
  },
  {
   "cell_type": "code",
   "execution_count": 42,
   "metadata": {},
   "outputs": [
    {
     "data": {
      "text/plain": [
       "0.9575"
      ]
     },
     "execution_count": 42,
     "metadata": {},
     "output_type": "execute_result"
    }
   ],
   "source": [
    "np.mean(data_test.label == pred)"
   ]
  },
  {
   "cell_type": "code",
   "execution_count": 43,
   "metadata": {},
   "outputs": [],
   "source": [
    "data_test['pred'] = pred"
   ]
  },
  {
   "cell_type": "code",
   "execution_count": 44,
   "metadata": {},
   "outputs": [
    {
     "name": "stdout",
     "output_type": "stream",
     "text": [
      "0.9877551020408163\n",
      "0.9859030837004406\n",
      "0.9505813953488372\n",
      "0.9574257425742574\n",
      "0.955193482688391\n",
      "0.9394618834080718\n",
      "0.965553235908142\n",
      "0.9455252918287937\n",
      "0.9455852156057495\n",
      "0.9375619425173439\n"
     ]
    }
   ],
   "source": [
    "for i in range(10):\n",
    "    temp = data_test[data_test.label == i]\n",
    "    print(np.mean(np.mean(temp.label == temp.pred)))"
   ]
  },
  {
   "cell_type": "code",
   "execution_count": null,
   "metadata": {},
   "outputs": [],
   "source": []
  }
 ],
 "metadata": {
  "kernelspec": {
   "display_name": "Python 3 (ipykernel)",
   "language": "python",
   "name": "python3"
  },
  "language_info": {
   "codemirror_mode": {
    "name": "ipython",
    "version": 3
   },
   "file_extension": ".py",
   "mimetype": "text/x-python",
   "name": "python",
   "nbconvert_exporter": "python",
   "pygments_lexer": "ipython3",
   "version": "3.10.9"
  }
 },
 "nbformat": 4,
 "nbformat_minor": 2
}
