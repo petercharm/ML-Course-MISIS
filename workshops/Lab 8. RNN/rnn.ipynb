{
 "cells": [
  {
   "cell_type": "markdown",
   "metadata": {},
   "source": [
    "# Character level language model - Dinosaurus land\n",
    "\n",
    "Добро пожаловать на остров динозавров! Динозавры существовали 65 миллионов лет назад, и в этой практической работе они вернулись. Ведущие исследователи в области биологии создают новые породы динозавров и оживляют их на Земле, и ваша задача - дать имена этим динозаврам. Если динозавру не нравится его имя, он может впасть в безумие, поэтому выбирайте с умом!\n",
    "\n",
    "<table>\n",
    "<td>\n",
    "<img src=\"dino.jpg\" style=\"width:250;height:300px;\">\n",
    "\n",
    "</td>\n",
    "\n",
    "</table>\n",
    "\n",
    "К счастью, мы научились глубокому обучению и воспользуемся им, чтобы спасти положение. Ваш помощник собрал список всех имен динозавров, которые смог найти, и собрал их в файл (dinos.txt). Чтобы создать новые имена динозавров, мы создадим языковую модель для создания новых имен. Наш алгоритм будет изучать различные шаблоны имен и случайным образом генерировать новые имена. "
   ]
  },
  {
   "cell_type": "markdown",
   "metadata": {},
   "source": [
    "### Архитектура используемой сети\n",
    "    \n",
    "<img src=\"rnn.png\" style=\"width:450;height:300px;\">"
   ]
  },
  {
   "cell_type": "markdown",
   "metadata": {},
   "source": [
    "### Сэмплирование - генерирование новых имён\n",
    "\n",
    "<img src=\"dinos3.png\" style=\"width:500;height:300px;\">"
   ]
  },
  {
   "cell_type": "code",
   "execution_count": null,
   "metadata": {},
   "outputs": [],
   "source": []
  },
  {
   "cell_type": "code",
   "execution_count": null,
   "metadata": {},
   "outputs": [],
   "source": []
  },
  {
   "cell_type": "code",
   "execution_count": null,
   "metadata": {},
   "outputs": [],
   "source": []
  }
 ],
 "metadata": {
  "coursera": {
   "course_slug": "nlp-sequence-models",
   "graded_item_id": "1dYg0",
   "launcher_item_id": "MLhxP"
  },
  "kernelspec": {
   "display_name": "Python 3",
   "language": "python",
   "name": "python3"
  },
  "language_info": {
   "codemirror_mode": {
    "name": "ipython",
    "version": 3
   },
   "file_extension": ".py",
   "mimetype": "text/x-python",
   "name": "python",
   "nbconvert_exporter": "python",
   "pygments_lexer": "ipython3",
   "version": "3.7.4"
  }
 },
 "nbformat": 4,
 "nbformat_minor": 2
}
