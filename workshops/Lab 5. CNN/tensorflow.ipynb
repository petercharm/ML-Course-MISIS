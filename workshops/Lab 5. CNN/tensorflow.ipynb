{
 "cells": [
  {
   "cell_type": "code",
   "execution_count": 4,
   "metadata": {},
   "outputs": [],
   "source": [
    "import tensorflow as tf\n",
    "import pandas as pd\n",
    "import numpy as np\n",
    "from tensorflow.keras import Input\n"
   ]
  },
  {
   "cell_type": "markdown",
   "metadata": {},
   "source": [
    "<b> Загрузка данных и предобработка"
   ]
  },
  {
   "cell_type": "code",
   "execution_count": 22,
   "metadata": {},
   "outputs": [],
   "source": [
    "data_train = pd.read_csv('mnist/mnist_train.csv')\n",
    "data_test = pd.read_csv('mnist/mnist_test.csv')"
   ]
  },
  {
   "cell_type": "code",
   "execution_count": 23,
   "metadata": {},
   "outputs": [],
   "source": [
    "X_train = data_train.iloc[:,1:].values\n",
    "X_test = data_test.iloc[:,1:].values"
   ]
  },
  {
   "cell_type": "code",
   "execution_count": 24,
   "metadata": {},
   "outputs": [],
   "source": [
    "X_train = X_train / 255.0\n",
    "X_test = X_test / 255.0"
   ]
  },
  {
   "cell_type": "code",
   "execution_count": 25,
   "metadata": {},
   "outputs": [],
   "source": [
    "Y_train = pd.get_dummies(data_train.label)"
   ]
  },
  {
   "cell_type": "code",
   "execution_count": 26,
   "metadata": {},
   "outputs": [],
   "source": [
    "X_train = np.array(X_train, dtype = np.float32)"
   ]
  },
  {
   "cell_type": "code",
   "execution_count": 27,
   "metadata": {},
   "outputs": [],
   "source": [
    "Y_train = np.array(Y_train, dtype = np.float32)"
   ]
  },
  {
   "cell_type": "code",
   "execution_count": 29,
   "metadata": {},
   "outputs": [],
   "source": [
    "X_test = np.array(X_test, dtype = np.float32)"
   ]
  },
  {
   "cell_type": "markdown",
   "metadata": {},
   "source": [
    "<b> Строим вычислительный граф в tensorflow и делаем градиентный спуск "
   ]
  },
  {
   "cell_type": "code",
   "execution_count": 32,
   "metadata": {},
   "outputs": [
    {
     "name": "stdout",
     "output_type": "stream",
     "text": [
      "tf.Tensor(1851681.4, shape=(), dtype=float32)\n",
      "tf.Tensor(647016.7, shape=(), dtype=float32)\n",
      "tf.Tensor(567053.2, shape=(), dtype=float32)\n",
      "tf.Tensor(536650.3, shape=(), dtype=float32)\n",
      "tf.Tensor(513397.75, shape=(), dtype=float32)\n",
      "tf.Tensor(492447.97, shape=(), dtype=float32)\n",
      "tf.Tensor(472452.47, shape=(), dtype=float32)\n",
      "tf.Tensor(453105.5, shape=(), dtype=float32)\n",
      "tf.Tensor(434454.97, shape=(), dtype=float32)\n",
      "tf.Tensor(416648.28, shape=(), dtype=float32)\n",
      "tf.Tensor(399837.66, shape=(), dtype=float32)\n",
      "tf.Tensor(384130.25, shape=(), dtype=float32)\n",
      "tf.Tensor(369552.56, shape=(), dtype=float32)\n",
      "tf.Tensor(356052.38, shape=(), dtype=float32)\n",
      "tf.Tensor(343535.2, shape=(), dtype=float32)\n",
      "tf.Tensor(331898.38, shape=(), dtype=float32)\n",
      "tf.Tensor(321048.6, shape=(), dtype=float32)\n",
      "tf.Tensor(310905.62, shape=(), dtype=float32)\n",
      "tf.Tensor(301402.84, shape=(), dtype=float32)\n",
      "tf.Tensor(292483.47, shape=(), dtype=float32)\n",
      "tf.Tensor(284097.5, shape=(), dtype=float32)\n",
      "tf.Tensor(276200.47, shape=(), dtype=float32)\n",
      "tf.Tensor(268754.38, shape=(), dtype=float32)\n",
      "tf.Tensor(261727.98, shape=(), dtype=float32)\n",
      "tf.Tensor(255093.19, shape=(), dtype=float32)\n",
      "tf.Tensor(248823.9, shape=(), dtype=float32)\n",
      "tf.Tensor(242895.94, shape=(), dtype=float32)\n",
      "tf.Tensor(237287.97, shape=(), dtype=float32)\n",
      "tf.Tensor(231980.81, shape=(), dtype=float32)\n",
      "tf.Tensor(226957.03, shape=(), dtype=float32)\n",
      "tf.Tensor(222199.84, shape=(), dtype=float32)\n",
      "tf.Tensor(217693.06, shape=(), dtype=float32)\n",
      "tf.Tensor(213420.98, shape=(), dtype=float32)\n",
      "tf.Tensor(209368.53, shape=(), dtype=float32)\n",
      "tf.Tensor(205521.69, shape=(), dtype=float32)\n",
      "tf.Tensor(201867.14, shape=(), dtype=float32)\n",
      "tf.Tensor(198392.53, shape=(), dtype=float32)\n",
      "tf.Tensor(195086.45, shape=(), dtype=float32)\n",
      "tf.Tensor(191938.19, shape=(), dtype=float32)\n",
      "tf.Tensor(188937.84, shape=(), dtype=float32)\n",
      "tf.Tensor(186076.0, shape=(), dtype=float32)\n",
      "tf.Tensor(183343.94, shape=(), dtype=float32)\n",
      "tf.Tensor(180733.44, shape=(), dtype=float32)\n",
      "tf.Tensor(178236.66, shape=(), dtype=float32)\n",
      "tf.Tensor(175846.39, shape=(), dtype=float32)\n",
      "tf.Tensor(173555.97, shape=(), dtype=float32)\n",
      "tf.Tensor(171359.11, shape=(), dtype=float32)\n",
      "tf.Tensor(169250.0, shape=(), dtype=float32)\n",
      "tf.Tensor(167223.33, shape=(), dtype=float32)\n",
      "tf.Tensor(165274.08, shape=(), dtype=float32)\n",
      "tf.Tensor(163397.6, shape=(), dtype=float32)\n",
      "tf.Tensor(161589.67, shape=(), dtype=float32)\n",
      "tf.Tensor(159846.38, shape=(), dtype=float32)\n",
      "tf.Tensor(158164.12, shape=(), dtype=float32)\n",
      "tf.Tensor(156539.52, shape=(), dtype=float32)\n",
      "tf.Tensor(154969.34, shape=(), dtype=float32)\n",
      "tf.Tensor(153450.8, shape=(), dtype=float32)\n",
      "tf.Tensor(151981.3, shape=(), dtype=float32)\n",
      "tf.Tensor(150558.16, shape=(), dtype=float32)\n",
      "tf.Tensor(149179.2, shape=(), dtype=float32)\n",
      "tf.Tensor(147842.2, shape=(), dtype=float32)\n",
      "tf.Tensor(146545.23, shape=(), dtype=float32)\n",
      "tf.Tensor(145286.34, shape=(), dtype=float32)\n",
      "tf.Tensor(144063.77, shape=(), dtype=float32)\n",
      "tf.Tensor(142875.9, shape=(), dtype=float32)\n",
      "tf.Tensor(141721.2, shape=(), dtype=float32)\n",
      "tf.Tensor(140598.19, shape=(), dtype=float32)\n",
      "tf.Tensor(139505.56, shape=(), dtype=float32)\n",
      "tf.Tensor(138441.97, shape=(), dtype=float32)\n",
      "tf.Tensor(137406.28, shape=(), dtype=float32)\n",
      "tf.Tensor(136397.25, shape=(), dtype=float32)\n",
      "tf.Tensor(135413.94, shape=(), dtype=float32)\n",
      "tf.Tensor(134455.3, shape=(), dtype=float32)\n",
      "tf.Tensor(133520.31, shape=(), dtype=float32)\n",
      "tf.Tensor(132608.1, shape=(), dtype=float32)\n",
      "tf.Tensor(131717.84, shape=(), dtype=float32)\n",
      "tf.Tensor(130848.64, shape=(), dtype=float32)\n",
      "tf.Tensor(129999.81, shape=(), dtype=float32)\n",
      "tf.Tensor(129170.56, shape=(), dtype=float32)\n",
      "tf.Tensor(128360.24, shape=(), dtype=float32)\n",
      "tf.Tensor(127568.125, shape=(), dtype=float32)\n",
      "tf.Tensor(126793.65, shape=(), dtype=float32)\n",
      "tf.Tensor(126036.14, shape=(), dtype=float32)\n",
      "tf.Tensor(125295.06, shape=(), dtype=float32)\n",
      "tf.Tensor(124569.84, shape=(), dtype=float32)\n",
      "tf.Tensor(123859.99, shape=(), dtype=float32)\n",
      "tf.Tensor(123165.016, shape=(), dtype=float32)\n",
      "tf.Tensor(122484.37, shape=(), dtype=float32)\n",
      "tf.Tensor(121817.664, shape=(), dtype=float32)\n",
      "tf.Tensor(121164.445, shape=(), dtype=float32)\n",
      "tf.Tensor(120524.29, shape=(), dtype=float32)\n",
      "tf.Tensor(119896.8, shape=(), dtype=float32)\n",
      "tf.Tensor(119281.59, shape=(), dtype=float32)\n",
      "tf.Tensor(118678.28, shape=(), dtype=float32)\n",
      "tf.Tensor(118086.53, shape=(), dtype=float32)\n",
      "tf.Tensor(117506.0, shape=(), dtype=float32)\n",
      "tf.Tensor(116936.37, shape=(), dtype=float32)\n",
      "tf.Tensor(116377.3, shape=(), dtype=float32)\n",
      "tf.Tensor(115828.516, shape=(), dtype=float32)\n",
      "tf.Tensor(115289.73, shape=(), dtype=float32)\n"
     ]
    }
   ],
   "source": [
    "W = tf.Variable(tf.random.truncated_normal([28*28, 10],mean=0), name=\"W\")\n",
    "b = tf.Variable(tf.ones(shape=(10)), name=\"b\")\n",
    "\n",
    "alpha = 0.00001\n",
    "\n",
    "for i in range(100): # Цикл обучения\n",
    "    #@tf.function\n",
    "    def forward(x,W,b):\n",
    "        return 1/(1+tf.math.exp(-(tf.matmul(x,W) + b)))\n",
    "\n",
    "    #@tf.function\n",
    "    def crossentropy(out,y):\n",
    "        return -tf.math.reduce_sum(y*tf.math.log(out+0.00001)+(1-y)*tf.math.log(1-out+0.00001)) \n",
    "\n",
    "    with tf.GradientTape() as g:\n",
    "        g.watch([W,b])\n",
    "        out_a = forward(X_train,W,b)\n",
    "        J = crossentropy(out_a,Y_train)\n",
    "        print(J)\n",
    "\n",
    "    dJ = g.gradient(J, [W,b])\n",
    "    W = W - alpha*dJ[0]\n",
    "    b = b - alpha*dJ[1]"
   ]
  },
  {
   "cell_type": "markdown",
   "metadata": {},
   "source": [
    "<b> Считаем предсказания на тестовой выборке и считаем ошибку"
   ]
  },
  {
   "cell_type": "code",
   "execution_count": 33,
   "metadata": {},
   "outputs": [],
   "source": [
    "pred = forward(X_test, W, b)"
   ]
  },
  {
   "cell_type": "code",
   "execution_count": 34,
   "metadata": {},
   "outputs": [],
   "source": [
    "pred = np.argmax(pred,axis=1)"
   ]
  },
  {
   "cell_type": "code",
   "execution_count": 35,
   "metadata": {},
   "outputs": [
    {
     "data": {
      "text/plain": [
       "0.797"
      ]
     },
     "execution_count": 35,
     "metadata": {},
     "output_type": "execute_result"
    }
   ],
   "source": [
    "np.mean(data_test.label == pred)"
   ]
  }
 ],
 "metadata": {
  "kernelspec": {
   "display_name": "Python 3",
   "language": "python",
   "name": "python3"
  },
  "language_info": {
   "codemirror_mode": {
    "name": "ipython",
    "version": 3
   },
   "file_extension": ".py",
   "mimetype": "text/x-python",
   "name": "python",
   "nbconvert_exporter": "python",
   "pygments_lexer": "ipython3",
   "version": "3.7.4"
  }
 },
 "nbformat": 4,
 "nbformat_minor": 2
}
