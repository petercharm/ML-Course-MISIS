{
 "cells": [
  {
   "cell_type": "code",
   "execution_count": 1,
   "metadata": {},
   "outputs": [],
   "source": [
    "import numpy as np\n",
    "import tensorflow as tf"
   ]
  },
  {
   "cell_type": "code",
   "execution_count": 2,
   "metadata": {},
   "outputs": [
    {
     "data": {
      "text/plain": [
       "'2.2.0'"
      ]
     },
     "execution_count": 2,
     "metadata": {},
     "output_type": "execute_result"
    }
   ],
   "source": [
    "tf.__version__"
   ]
  },
  {
   "cell_type": "code",
   "execution_count": 3,
   "metadata": {},
   "outputs": [],
   "source": [
    "with open(\"dinos.txt\") as f:\n",
    "    examples = f.readlines()"
   ]
  },
  {
   "cell_type": "code",
   "execution_count": 4,
   "metadata": {},
   "outputs": [],
   "source": [
    "data = open('dinos.txt', 'r').read()"
   ]
  },
  {
   "cell_type": "code",
   "execution_count": 5,
   "metadata": {},
   "outputs": [],
   "source": [
    "data = data.lower()"
   ]
  },
  {
   "cell_type": "code",
   "execution_count": 6,
   "metadata": {},
   "outputs": [],
   "source": [
    "chars = list(set(data))"
   ]
  },
  {
   "cell_type": "code",
   "execution_count": 7,
   "metadata": {},
   "outputs": [],
   "source": [
    "chars_to_ind = {ch:i for i,ch in enumerate(sorted(chars))}\n",
    "ind_to_chars = {i:ch for i,ch in enumerate(sorted(chars))}"
   ]
  },
  {
   "cell_type": "code",
   "execution_count": 8,
   "metadata": {},
   "outputs": [],
   "source": [
    "def softmax(x):\n",
    "    e_x = np.exp(x - np.max(x))\n",
    "    return e_x / e_x.sum(axis = 0)"
   ]
  },
  {
   "cell_type": "code",
   "execution_count": 9,
   "metadata": {},
   "outputs": [],
   "source": [
    "def rnn_step_forward(parameters, a_prev, x):\n",
    "    Waa, Wax, Wya, by, b = parameters['Waa'],parameters['Wax'],parameters['Wya'],parameters['by'],parameters['b']\n",
    "    a_next = np.tanh(np.matmul(Wax,x)+np.matmul(Waa,a_prev)+b) \n",
    "    y_t = softmax(np.matmul(Wya, a_next) + by)\n",
    "\n",
    "    return a_next, y_t"
   ]
  },
  {
   "cell_type": "code",
   "execution_count": 10,
   "metadata": {},
   "outputs": [],
   "source": [
    "def rnn_step_back(dy, gradients, parameters, a_prev, a, x):\n",
    "    gradients['Wya'] += np.matmul(dy, a.T)\n",
    "    gradients['by'] += dy\n",
    "    da = np.matmul(parameters['Wya'].T, dy) + gradients['da_next']\n",
    "    daraw = (1-a*a)*da\n",
    "    gradients['b'] += daraw\n",
    "    gradients['Wax'] += np.matmul(daraw,x.T)\n",
    "    gradients['Waa'] += np.matmul(daraw,a_prev.T)\n",
    "    gradients['da_next'] += np.matmul(parameters['Waa'].T, daraw)\n",
    "    \n",
    "    return gradients\n",
    "    "
   ]
  },
  {
   "cell_type": "code",
   "execution_count": 11,
   "metadata": {},
   "outputs": [],
   "source": [
    "def update_gradients(parameters, gradients, lr):\n",
    "    for key in ['Waa','Wax','Wya','b','by']:\n",
    "        parameters[key] += -lr*gradients[key]\n",
    "    return parameters"
   ]
  },
  {
   "cell_type": "code",
   "execution_count": 12,
   "metadata": {},
   "outputs": [],
   "source": [
    "def rnn_forward(X,Y, a0, parameters):\n",
    "    x, a, y_hat = {}, {}, {}\n",
    "    a[-1] = np.copy(a0)\n",
    "    \n",
    "    loss = 0 \n",
    "    \n",
    "    for t in range(len(X)):\n",
    "        x[t] = X[t:t+1].T\n",
    "        a[t], y_hat[t] = rnn_step_forward(parameters, a[t-1], x[t])\n",
    "        loss -= np.sum(Y[t]*np.log(y_hat[t])+(1-Y[t])*np.log(1-y_hat[t]))\n",
    "        \n",
    "    cache = (y_hat, a, x)\n",
    "    \n",
    "    return loss, cache"
   ]
  },
  {
   "cell_type": "code",
   "execution_count": 13,
   "metadata": {},
   "outputs": [],
   "source": [
    "def rnn_back(X,Y,parameters, cache):\n",
    "    gradients = {}\n",
    "    (y_hat, a, x) = cache\n",
    "    Waa, Wax, Wya, by, b = parameters['Waa'],parameters['Wax'],parameters['Wya'],parameters['by'],parameters['b']\n",
    "    gradients['Waa'] = np.zeros_like(parameters['Waa'])\n",
    "    gradients['Wax'] = np.zeros_like(parameters['Wax'])\n",
    "    gradients['Wya'] = np.zeros_like(parameters['Wya'])\n",
    "    gradients['by'] = np.zeros_like(parameters['by'])\n",
    "    gradients['b'] = np.zeros_like(parameters['b'])\n",
    "    gradients['da_next'] = np.zeros_like(a[0])\n",
    "    \n",
    "    for t in reversed(range(len(X))):\n",
    "        dy = np.copy(y_hat[t])\n",
    "        #print(dy.shape, Y[t].shape)\n",
    "        #dy[np.argmax(Y[t])] -= 1    ### ?\n",
    "        dy = dy - Y[t:t+1].T\n",
    "        gradients = rnn_step_back(dy, gradients, parameters, a[t-1], a[t], x[t])\n",
    "    \n",
    "    return gradients, a"
   ]
  },
  {
   "cell_type": "code",
   "execution_count": 14,
   "metadata": {},
   "outputs": [],
   "source": [
    "np.random.shuffle(examples)"
   ]
  },
  {
   "cell_type": "code",
   "execution_count": 32,
   "metadata": {},
   "outputs": [],
   "source": [
    "n_a = 50 # change it!\n",
    "n_x = 27\n",
    "n_y = 27\n",
    "Wax = np.random.randn(n_a,n_x)*0.01\n",
    "Waa = np.random.randn(n_a,n_a)*0.01\n",
    "Wya = np.random.randn(n_y,n_a)*0.01\n",
    "b = np.zeros([n_a,1])\n",
    "by = np.zeros([n_y,1])\n",
    "\n",
    "parameters = {'Wax':Wax, 'Waa':Waa, 'Wya':Wya, 'b':b, 'by':by}"
   ]
  },
  {
   "cell_type": "code",
   "execution_count": 33,
   "metadata": {},
   "outputs": [],
   "source": [
    "a0 = np.zeros([n_a,1])"
   ]
  },
  {
   "cell_type": "code",
   "execution_count": 34,
   "metadata": {},
   "outputs": [
    {
     "name": "stdout",
     "output_type": "stream",
     "text": [
      "1894.894617367917\n",
      "1943.7273906957134\n",
      "1951.966855754581\n",
      "1954.5940632853744\n",
      "1956.182569950101\n",
      "1957.652371135845\n",
      "1959.2688876276845\n",
      "1961.2730292889814\n",
      "1964.040067690214\n",
      "1966.9704205785147\n"
     ]
    }
   ],
   "source": [
    "for c in range(10):\n",
    "    for k in range(len(examples)):\n",
    "        X = np.zeros([len(examples[k]),27])\n",
    "        Y = np.zeros([len(examples[k]),27])\n",
    "        for i,char in enumerate(examples[k].lower()[:-1]):\n",
    "            X[i+1,chars_to_ind[char]] = 1\n",
    "\n",
    "        for i,char in enumerate(examples[k].lower()):\n",
    "            Y[i,chars_to_ind[char]] = 1\n",
    "            \n",
    "        a0 = np.zeros([n_a,1])\n",
    "        loss, cache = rnn_forward(X,Y, a0, parameters)\n",
    "        gradients, a = rnn_back(X,Y,parameters, cache)\n",
    "        #a0 = a[len(X)-1]\n",
    "        parameters = update_gradients(parameters, gradients, 0.001)\n",
    "    print(loss)"
   ]
  },
  {
   "cell_type": "code",
   "execution_count": 43,
   "metadata": {},
   "outputs": [
    {
     "name": "stdout",
     "output_type": "stream",
     "text": [
      "akeuosnoe\n"
     ]
    }
   ],
   "source": [
    "X = np.zeros([27,1])\n",
    "\n",
    "a_prev = np.zeros([n_a,1])\n",
    "\n",
    "count = 0 \n",
    "while True:\n",
    "    a_prev, y_t = rnn_step_forward(parameters, a_prev, X)\n",
    "    ind = np.random.choice(27, p=y_t[:,0])\n",
    "    X = np.zeros([27,1])\n",
    "    X[ind,0] = 1\n",
    "    print(ind_to_chars[ind],end = '')\n",
    "    count += 1\n",
    "    \n",
    "    if ind == 0 or count == 50:\n",
    "        break\n",
    "    "
   ]
  },
  {
   "cell_type": "code",
   "execution_count": null,
   "metadata": {},
   "outputs": [],
   "source": []
  },
  {
   "cell_type": "code",
   "execution_count": null,
   "metadata": {},
   "outputs": [],
   "source": []
  }
 ],
 "metadata": {
  "kernelspec": {
   "display_name": "Python 3",
   "language": "python",
   "name": "python3"
  },
  "language_info": {
   "codemirror_mode": {
    "name": "ipython",
    "version": 3
   },
   "file_extension": ".py",
   "mimetype": "text/x-python",
   "name": "python",
   "nbconvert_exporter": "python",
   "pygments_lexer": "ipython3",
   "version": "3.7.4"
  }
 },
 "nbformat": 4,
 "nbformat_minor": 2
}
