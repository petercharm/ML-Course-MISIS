{
 "cells": [
  {
   "cell_type": "code",
   "execution_count": 3,
   "metadata": {},
   "outputs": [],
   "source": [
    "import numpy as np\n",
    "import pandas as pd\n",
    "import matplotlib.pyplot as plt\n",
    "from sklearn.model_selection import train_test_split\n",
    "from sklearn.ensemble import RandomForestClassifier\n",
    "from sklearn.ensemble import GradientBoostingClassifier\n",
    "\n",
    "from sklearn.metrics import classification_report, roc_curve, auc\n",
    "\n",
    "from sklearn.decomposition import PCA\n",
    "\n",
    "%matplotlib inline"
   ]
  },
  {
   "cell_type": "code",
   "execution_count": 4,
   "metadata": {},
   "outputs": [],
   "source": [
    "data = pd.read_csv('data_st.csv')"
   ]
  },
  {
   "cell_type": "code",
   "execution_count": 5,
   "metadata": {},
   "outputs": [
    {
     "data": {
      "text/html": [
       "<div>\n",
       "<style scoped>\n",
       "    .dataframe tbody tr th:only-of-type {\n",
       "        vertical-align: middle;\n",
       "    }\n",
       "\n",
       "    .dataframe tbody tr th {\n",
       "        vertical-align: top;\n",
       "    }\n",
       "\n",
       "    .dataframe thead th {\n",
       "        text-align: right;\n",
       "    }\n",
       "</style>\n",
       "<table border=\"1\" class=\"dataframe\">\n",
       "  <thead>\n",
       "    <tr style=\"text-align: right;\">\n",
       "      <th></th>\n",
       "      <th>0</th>\n",
       "      <th>1</th>\n",
       "      <th>2</th>\n",
       "      <th>3</th>\n",
       "      <th>4</th>\n",
       "      <th>5</th>\n",
       "      <th>6</th>\n",
       "      <th>7</th>\n",
       "      <th>8</th>\n",
       "      <th>9</th>\n",
       "      <th>...</th>\n",
       "      <th>326</th>\n",
       "      <th>327</th>\n",
       "      <th>328</th>\n",
       "      <th>329</th>\n",
       "      <th>330</th>\n",
       "      <th>331</th>\n",
       "      <th>332</th>\n",
       "      <th>333</th>\n",
       "      <th>334</th>\n",
       "      <th>target</th>\n",
       "    </tr>\n",
       "  </thead>\n",
       "  <tbody>\n",
       "    <tr>\n",
       "      <td>0</td>\n",
       "      <td>0.897499</td>\n",
       "      <td>0.934905</td>\n",
       "      <td>2.000000</td>\n",
       "      <td>1.000000</td>\n",
       "      <td>4.728260e+09</td>\n",
       "      <td>1.736898e+09</td>\n",
       "      <td>803.0</td>\n",
       "      <td>14484.71</td>\n",
       "      <td>199400.00</td>\n",
       "      <td>132.50</td>\n",
       "      <td>...</td>\n",
       "      <td>9.804536e+06</td>\n",
       "      <td>3.351771e+07</td>\n",
       "      <td>1.078795e+06</td>\n",
       "      <td>8.273531e+06</td>\n",
       "      <td>4.365961e+06</td>\n",
       "      <td>1.990720e+06</td>\n",
       "      <td>4.605525e+07</td>\n",
       "      <td>8.492736e+06</td>\n",
       "      <td>6.101825e+07</td>\n",
       "      <td>0</td>\n",
       "    </tr>\n",
       "    <tr>\n",
       "      <td>1</td>\n",
       "      <td>0.897499</td>\n",
       "      <td>0.934905</td>\n",
       "      <td>41.000000</td>\n",
       "      <td>15.000000</td>\n",
       "      <td>4.728260e+09</td>\n",
       "      <td>1.736898e+09</td>\n",
       "      <td>819.0</td>\n",
       "      <td>93331.24</td>\n",
       "      <td>45354984.33</td>\n",
       "      <td>5538.83</td>\n",
       "      <td>...</td>\n",
       "      <td>9.804536e+06</td>\n",
       "      <td>3.351771e+07</td>\n",
       "      <td>1.078795e+06</td>\n",
       "      <td>8.273531e+06</td>\n",
       "      <td>4.365961e+06</td>\n",
       "      <td>1.990720e+06</td>\n",
       "      <td>2.350000e+04</td>\n",
       "      <td>8.492736e+06</td>\n",
       "      <td>7.250000e+04</td>\n",
       "      <td>0</td>\n",
       "    </tr>\n",
       "    <tr>\n",
       "      <td>2</td>\n",
       "      <td>0.897499</td>\n",
       "      <td>0.934905</td>\n",
       "      <td>16.519811</td>\n",
       "      <td>5.492198</td>\n",
       "      <td>4.728260e+09</td>\n",
       "      <td>1.736898e+09</td>\n",
       "      <td>829.0</td>\n",
       "      <td>43003.92</td>\n",
       "      <td>4056920.00</td>\n",
       "      <td>2.21</td>\n",
       "      <td>...</td>\n",
       "      <td>9.804536e+06</td>\n",
       "      <td>3.351771e+07</td>\n",
       "      <td>1.078795e+06</td>\n",
       "      <td>8.273531e+06</td>\n",
       "      <td>4.365961e+06</td>\n",
       "      <td>1.990720e+06</td>\n",
       "      <td>5.665218e+06</td>\n",
       "      <td>8.492736e+06</td>\n",
       "      <td>9.985774e+06</td>\n",
       "      <td>0</td>\n",
       "    </tr>\n",
       "    <tr>\n",
       "      <td>3</td>\n",
       "      <td>0.897499</td>\n",
       "      <td>0.934905</td>\n",
       "      <td>4.000000</td>\n",
       "      <td>2.000000</td>\n",
       "      <td>4.728260e+09</td>\n",
       "      <td>1.736898e+09</td>\n",
       "      <td>527.0</td>\n",
       "      <td>8459.08</td>\n",
       "      <td>1435236.45</td>\n",
       "      <td>688.05</td>\n",
       "      <td>...</td>\n",
       "      <td>9.804536e+06</td>\n",
       "      <td>3.351771e+07</td>\n",
       "      <td>1.078795e+06</td>\n",
       "      <td>8.273531e+06</td>\n",
       "      <td>4.365961e+06</td>\n",
       "      <td>1.990720e+06</td>\n",
       "      <td>5.665218e+06</td>\n",
       "      <td>8.492736e+06</td>\n",
       "      <td>9.985774e+06</td>\n",
       "      <td>0</td>\n",
       "    </tr>\n",
       "    <tr>\n",
       "      <td>4</td>\n",
       "      <td>0.897499</td>\n",
       "      <td>0.934905</td>\n",
       "      <td>16.519811</td>\n",
       "      <td>5.492198</td>\n",
       "      <td>4.728260e+09</td>\n",
       "      <td>1.736898e+09</td>\n",
       "      <td>522.0</td>\n",
       "      <td>0.00</td>\n",
       "      <td>0.00</td>\n",
       "      <td>0.00</td>\n",
       "      <td>...</td>\n",
       "      <td>9.804536e+06</td>\n",
       "      <td>3.351771e+07</td>\n",
       "      <td>1.078795e+06</td>\n",
       "      <td>8.273531e+06</td>\n",
       "      <td>4.365961e+06</td>\n",
       "      <td>1.990720e+06</td>\n",
       "      <td>1.202500e+05</td>\n",
       "      <td>8.492736e+06</td>\n",
       "      <td>2.522500e+05</td>\n",
       "      <td>0</td>\n",
       "    </tr>\n",
       "  </tbody>\n",
       "</table>\n",
       "<p>5 rows × 336 columns</p>\n",
       "</div>"
      ],
      "text/plain": [
       "          0         1          2          3             4             5  \\\n",
       "0  0.897499  0.934905   2.000000   1.000000  4.728260e+09  1.736898e+09   \n",
       "1  0.897499  0.934905  41.000000  15.000000  4.728260e+09  1.736898e+09   \n",
       "2  0.897499  0.934905  16.519811   5.492198  4.728260e+09  1.736898e+09   \n",
       "3  0.897499  0.934905   4.000000   2.000000  4.728260e+09  1.736898e+09   \n",
       "4  0.897499  0.934905  16.519811   5.492198  4.728260e+09  1.736898e+09   \n",
       "\n",
       "       6         7            8        9  ...           326           327  \\\n",
       "0  803.0  14484.71    199400.00   132.50  ...  9.804536e+06  3.351771e+07   \n",
       "1  819.0  93331.24  45354984.33  5538.83  ...  9.804536e+06  3.351771e+07   \n",
       "2  829.0  43003.92   4056920.00     2.21  ...  9.804536e+06  3.351771e+07   \n",
       "3  527.0   8459.08   1435236.45   688.05  ...  9.804536e+06  3.351771e+07   \n",
       "4  522.0      0.00         0.00     0.00  ...  9.804536e+06  3.351771e+07   \n",
       "\n",
       "            328           329           330           331           332  \\\n",
       "0  1.078795e+06  8.273531e+06  4.365961e+06  1.990720e+06  4.605525e+07   \n",
       "1  1.078795e+06  8.273531e+06  4.365961e+06  1.990720e+06  2.350000e+04   \n",
       "2  1.078795e+06  8.273531e+06  4.365961e+06  1.990720e+06  5.665218e+06   \n",
       "3  1.078795e+06  8.273531e+06  4.365961e+06  1.990720e+06  5.665218e+06   \n",
       "4  1.078795e+06  8.273531e+06  4.365961e+06  1.990720e+06  1.202500e+05   \n",
       "\n",
       "            333           334  target  \n",
       "0  8.492736e+06  6.101825e+07       0  \n",
       "1  8.492736e+06  7.250000e+04       0  \n",
       "2  8.492736e+06  9.985774e+06       0  \n",
       "3  8.492736e+06  9.985774e+06       0  \n",
       "4  8.492736e+06  2.522500e+05       0  \n",
       "\n",
       "[5 rows x 336 columns]"
      ]
     },
     "execution_count": 5,
     "metadata": {},
     "output_type": "execute_result"
    }
   ],
   "source": [
    "data.head()"
   ]
  },
  {
   "cell_type": "code",
   "execution_count": 6,
   "metadata": {},
   "outputs": [],
   "source": [
    "data_train, data_test = train_test_split(data, stratify = data.target)"
   ]
  },
  {
   "cell_type": "code",
   "execution_count": 19,
   "metadata": {},
   "outputs": [],
   "source": [
    "train_cols = data_train.columns[:-1]"
   ]
  },
  {
   "cell_type": "code",
   "execution_count": 83,
   "metadata": {},
   "outputs": [],
   "source": [
    "pca = PCA(n_components=5)"
   ]
  },
  {
   "cell_type": "code",
   "execution_count": 84,
   "metadata": {},
   "outputs": [],
   "source": [
    "X_train = pca.fit_transform(data_train[train_cols].values)"
   ]
  },
  {
   "cell_type": "code",
   "execution_count": 85,
   "metadata": {},
   "outputs": [],
   "source": [
    "X_test = pca.transform(data_test[train_cols].values)"
   ]
  },
  {
   "cell_type": "code",
   "execution_count": 68,
   "metadata": {},
   "outputs": [],
   "source": [
    "#X_train = data_train[train_cols].values\n",
    "#X_test = data_test[train_cols].values"
   ]
  },
  {
   "cell_type": "code",
   "execution_count": 58,
   "metadata": {},
   "outputs": [
    {
     "data": {
      "text/plain": [
       "15000"
      ]
     },
     "execution_count": 58,
     "metadata": {},
     "output_type": "execute_result"
    }
   ],
   "source": [
    "len(data_train)"
   ]
  },
  {
   "cell_type": "code",
   "execution_count": 59,
   "metadata": {},
   "outputs": [
    {
     "data": {
      "text/plain": [
       "5000"
      ]
     },
     "execution_count": 59,
     "metadata": {},
     "output_type": "execute_result"
    }
   ],
   "source": [
    "len(data_test)"
   ]
  },
  {
   "cell_type": "code",
   "execution_count": 60,
   "metadata": {},
   "outputs": [
    {
     "data": {
      "text/plain": [
       "0.0746"
      ]
     },
     "execution_count": 60,
     "metadata": {},
     "output_type": "execute_result"
    }
   ],
   "source": [
    "np.mean(data_test.target)"
   ]
  },
  {
   "cell_type": "code",
   "execution_count": 61,
   "metadata": {},
   "outputs": [
    {
     "data": {
      "text/plain": [
       "0.07466666666666667"
      ]
     },
     "execution_count": 61,
     "metadata": {},
     "output_type": "execute_result"
    }
   ],
   "source": [
    "np.mean(data_train.target)"
   ]
  },
  {
   "cell_type": "code",
   "execution_count": null,
   "metadata": {},
   "outputs": [],
   "source": []
  },
  {
   "cell_type": "code",
   "execution_count": 69,
   "metadata": {},
   "outputs": [],
   "source": [
    "model = GradientBoostingClassifier(n_estimators=200, max_depth=3)"
   ]
  },
  {
   "cell_type": "code",
   "execution_count": 70,
   "metadata": {},
   "outputs": [
    {
     "data": {
      "text/plain": [
       "GradientBoostingClassifier(criterion='friedman_mse', init=None,\n",
       "                           learning_rate=0.1, loss='deviance', max_depth=3,\n",
       "                           max_features=None, max_leaf_nodes=None,\n",
       "                           min_impurity_decrease=0.0, min_impurity_split=None,\n",
       "                           min_samples_leaf=1, min_samples_split=2,\n",
       "                           min_weight_fraction_leaf=0.0, n_estimators=200,\n",
       "                           n_iter_no_change=None, presort='auto',\n",
       "                           random_state=None, subsample=1.0, tol=0.0001,\n",
       "                           validation_fraction=0.1, verbose=0,\n",
       "                           warm_start=False)"
      ]
     },
     "execution_count": 70,
     "metadata": {},
     "output_type": "execute_result"
    }
   ],
   "source": [
    "model.fit(X_train,data_train.target)"
   ]
  },
  {
   "cell_type": "code",
   "execution_count": 71,
   "metadata": {},
   "outputs": [],
   "source": [
    "pred = model.predict(X_test)"
   ]
  },
  {
   "cell_type": "code",
   "execution_count": 72,
   "metadata": {},
   "outputs": [
    {
     "data": {
      "text/plain": [
       "0.926"
      ]
     },
     "execution_count": 72,
     "metadata": {},
     "output_type": "execute_result"
    }
   ],
   "source": [
    "np.mean(pred == data_test.target)"
   ]
  },
  {
   "cell_type": "code",
   "execution_count": 73,
   "metadata": {},
   "outputs": [
    {
     "name": "stdout",
     "output_type": "stream",
     "text": [
      "              precision    recall  f1-score   support\n",
      "\n",
      "           0       0.93      0.99      0.96      4627\n",
      "           1       0.53      0.07      0.13       373\n",
      "\n",
      "    accuracy                           0.93      5000\n",
      "   macro avg       0.73      0.53      0.54      5000\n",
      "weighted avg       0.90      0.93      0.90      5000\n",
      "\n"
     ]
    }
   ],
   "source": [
    "print(classification_report(data_test.target, pred))"
   ]
  },
  {
   "cell_type": "code",
   "execution_count": 74,
   "metadata": {},
   "outputs": [
    {
     "name": "stdout",
     "output_type": "stream",
     "text": [
      "0.7723297395923565\n"
     ]
    },
    {
     "data": {
      "image/png": "[encoded data removed]",
      "text/plain": [
       "<Figure size 432x288 with 1 Axes>"
      ]
     },
     "metadata": {
      "needs_background": "light"
     },
     "output_type": "display_data"
    }
   ],
   "source": [
    "y_score = model.predict_proba(X_test)[:,1]\n",
    "\n",
    "fpr, tpr, thresholds = roc_curve(data_test.target, y_score)\n",
    "roc_auc = auc(fpr,tpr)\n",
    "\n",
    "plt.plot(fpr,tpr)\n",
    "print(roc_auc)"
   ]
  },
  {
   "cell_type": "code",
   "execution_count": null,
   "metadata": {},
   "outputs": [],
   "source": []
  },
  {
   "cell_type": "code",
   "execution_count": 86,
   "metadata": {},
   "outputs": [],
   "source": [
    "X_rrr = pd.DataFrame(X_train)"
   ]
  },
  {
   "cell_type": "code",
   "execution_count": 87,
   "metadata": {},
   "outputs": [],
   "source": [
    "X_rrr['label'] = data_train['target']"
   ]
  },
  {
   "cell_type": "code",
   "execution_count": 88,
   "metadata": {},
   "outputs": [],
   "source": [
    "data_0 = X_rrr[X_rrr.label == 0]\n",
    "data_1 = X_rrr[X_rrr.label == 1]"
   ]
  },
  {
   "cell_type": "code",
   "execution_count": 92,
   "metadata": {},
   "outputs": [
    {
     "data": {
      "text/plain": [
       "[<matplotlib.lines.Line2D at 0x7f8bca348510>]"
      ]
     },
     "execution_count": 92,
     "metadata": {},
     "output_type": "execute_result"
    },
    {
     "data": {
      "image/png": "[encoded data removed]",
      "text/plain": [
       "<Figure size 432x288 with 1 Axes>"
      ]
     },
     "metadata": {
      "needs_background": "light"
     },
     "output_type": "display_data"
    }
   ],
   "source": [
    "plt.plot(data_0[0],data_0[2],'ro')\n",
    "plt.plot(data_1[0],data_1[2],'bx')"
   ]
  },
  {
   "cell_type": "code",
   "execution_count": 90,
   "metadata": {},
   "outputs": [
    {
     "data": {
      "text/html": [
       "<div>\n",
       "<style scoped>\n",
       "    .dataframe tbody tr th:only-of-type {\n",
       "        vertical-align: middle;\n",
       "    }\n",
       "\n",
       "    .dataframe tbody tr th {\n",
       "        vertical-align: top;\n",
       "    }\n",
       "\n",
       "    .dataframe thead th {\n",
       "        text-align: right;\n",
       "    }\n",
       "</style>\n",
       "<table border=\"1\" class=\"dataframe\">\n",
       "  <thead>\n",
       "    <tr style=\"text-align: right;\">\n",
       "      <th></th>\n",
       "      <th>0</th>\n",
       "      <th>1</th>\n",
       "      <th>2</th>\n",
       "      <th>3</th>\n",
       "      <th>4</th>\n",
       "      <th>label</th>\n",
       "    </tr>\n",
       "  </thead>\n",
       "  <tbody>\n",
       "    <tr>\n",
       "      <td>0</td>\n",
       "      <td>8.986987e+07</td>\n",
       "      <td>2.620087e+07</td>\n",
       "      <td>-8.165465e+07</td>\n",
       "      <td>1.766053e+06</td>\n",
       "      <td>-2.401322e+06</td>\n",
       "      <td>0.0</td>\n",
       "    </tr>\n",
       "    <tr>\n",
       "      <td>1</td>\n",
       "      <td>8.805818e+07</td>\n",
       "      <td>-2.655640e+09</td>\n",
       "      <td>-1.063393e+08</td>\n",
       "      <td>2.154792e+06</td>\n",
       "      <td>-3.439856e+06</td>\n",
       "      <td>0.0</td>\n",
       "    </tr>\n",
       "    <tr>\n",
       "      <td>2</td>\n",
       "      <td>8.986952e+07</td>\n",
       "      <td>2.622237e+07</td>\n",
       "      <td>-8.202648e+07</td>\n",
       "      <td>1.833641e+06</td>\n",
       "      <td>-2.393113e+06</td>\n",
       "      <td>0.0</td>\n",
       "    </tr>\n",
       "    <tr>\n",
       "      <td>3</td>\n",
       "      <td>8.986987e+07</td>\n",
       "      <td>2.620087e+07</td>\n",
       "      <td>-8.165465e+07</td>\n",
       "      <td>1.766053e+06</td>\n",
       "      <td>-2.401322e+06</td>\n",
       "      <td>0.0</td>\n",
       "    </tr>\n",
       "    <tr>\n",
       "      <td>4</td>\n",
       "      <td>8.805942e+07</td>\n",
       "      <td>-2.657524e+09</td>\n",
       "      <td>-1.039226e+08</td>\n",
       "      <td>1.714116e+06</td>\n",
       "      <td>-3.496545e+06</td>\n",
       "      <td>0.0</td>\n",
       "    </tr>\n",
       "    <tr>\n",
       "      <td>...</td>\n",
       "      <td>...</td>\n",
       "      <td>...</td>\n",
       "      <td>...</td>\n",
       "      <td>...</td>\n",
       "      <td>...</td>\n",
       "      <td>...</td>\n",
       "    </tr>\n",
       "    <tr>\n",
       "      <td>14995</td>\n",
       "      <td>8.805678e+07</td>\n",
       "      <td>-2.657459e+09</td>\n",
       "      <td>-1.064121e+08</td>\n",
       "      <td>2.165144e+06</td>\n",
       "      <td>-3.439398e+06</td>\n",
       "      <td>0.0</td>\n",
       "    </tr>\n",
       "    <tr>\n",
       "      <td>14996</td>\n",
       "      <td>8.805028e+07</td>\n",
       "      <td>-2.650677e+09</td>\n",
       "      <td>-1.038419e+08</td>\n",
       "      <td>4.164065e+07</td>\n",
       "      <td>-1.373406e+06</td>\n",
       "      <td>0.0</td>\n",
       "    </tr>\n",
       "    <tr>\n",
       "      <td>14997</td>\n",
       "      <td>8.806018e+07</td>\n",
       "      <td>-2.652733e+09</td>\n",
       "      <td>-1.058325e+08</td>\n",
       "      <td>2.067403e+06</td>\n",
       "      <td>-3.450021e+06</td>\n",
       "      <td>NaN</td>\n",
       "    </tr>\n",
       "    <tr>\n",
       "      <td>14998</td>\n",
       "      <td>8.986987e+07</td>\n",
       "      <td>2.620087e+07</td>\n",
       "      <td>-8.165465e+07</td>\n",
       "      <td>1.766053e+06</td>\n",
       "      <td>-2.401322e+06</td>\n",
       "      <td>0.0</td>\n",
       "    </tr>\n",
       "    <tr>\n",
       "      <td>14999</td>\n",
       "      <td>8.986898e+07</td>\n",
       "      <td>2.623793e+07</td>\n",
       "      <td>-8.229407e+07</td>\n",
       "      <td>1.881797e+06</td>\n",
       "      <td>-2.386957e+06</td>\n",
       "      <td>NaN</td>\n",
       "    </tr>\n",
       "  </tbody>\n",
       "</table>\n",
       "<p>15000 rows × 6 columns</p>\n",
       "</div>"
      ],
      "text/plain": [
       "                  0             1             2             3             4  \\\n",
       "0      8.986987e+07  2.620087e+07 -8.165465e+07  1.766053e+06 -2.401322e+06   \n",
       "1      8.805818e+07 -2.655640e+09 -1.063393e+08  2.154792e+06 -3.439856e+06   \n",
       "2      8.986952e+07  2.622237e+07 -8.202648e+07  1.833641e+06 -2.393113e+06   \n",
       "3      8.986987e+07  2.620087e+07 -8.165465e+07  1.766053e+06 -2.401322e+06   \n",
       "4      8.805942e+07 -2.657524e+09 -1.039226e+08  1.714116e+06 -3.496545e+06   \n",
       "...             ...           ...           ...           ...           ...   \n",
       "14995  8.805678e+07 -2.657459e+09 -1.064121e+08  2.165144e+06 -3.439398e+06   \n",
       "14996  8.805028e+07 -2.650677e+09 -1.038419e+08  4.164065e+07 -1.373406e+06   \n",
       "14997  8.806018e+07 -2.652733e+09 -1.058325e+08  2.067403e+06 -3.450021e+06   \n",
       "14998  8.986987e+07  2.620087e+07 -8.165465e+07  1.766053e+06 -2.401322e+06   \n",
       "14999  8.986898e+07  2.623793e+07 -8.229407e+07  1.881797e+06 -2.386957e+06   \n",
       "\n",
       "       label  \n",
       "0        0.0  \n",
       "1        0.0  \n",
       "2        0.0  \n",
       "3        0.0  \n",
       "4        0.0  \n",
       "...      ...  \n",
       "14995    0.0  \n",
       "14996    0.0  \n",
       "14997    NaN  \n",
       "14998    0.0  \n",
       "14999    NaN  \n",
       "\n",
       "[15000 rows x 6 columns]"
      ]
     },
     "execution_count": 90,
     "metadata": {},
     "output_type": "execute_result"
    }
   ],
   "source": [
    "X_rrr"
   ]
  },
  {
   "cell_type": "code",
   "execution_count": 120,
   "metadata": {},
   "outputs": [
    {
     "data": {
      "text/plain": [
       "47"
      ]
     },
     "execution_count": 120,
     "metadata": {},
     "output_type": "execute_result"
    }
   ],
   "source": [
    "17+13+4+7+6"
   ]
  },
  {
   "cell_type": "code",
   "execution_count": 117,
   "metadata": {},
   "outputs": [
    {
     "data": {
      "text/plain": [
       "51"
      ]
     },
     "execution_count": 117,
     "metadata": {},
     "output_type": "execute_result"
    }
   ],
   "source": [
    "9+10+11+12+9"
   ]
  },
  {
   "cell_type": "code",
   "execution_count": 101,
   "metadata": {},
   "outputs": [
    {
     "data": {
      "text/plain": [
       "0.07291666666666667"
      ]
     },
     "execution_count": 101,
     "metadata": {},
     "output_type": "execute_result"
    }
   ],
   "source": [
    "2.1/28.8"
   ]
  },
  {
   "cell_type": "code",
   "execution_count": 102,
   "metadata": {},
   "outputs": [
    {
     "data": {
      "text/plain": [
       "303"
      ]
     },
     "execution_count": 102,
     "metadata": {},
     "output_type": "execute_result"
    }
   ],
   "source": [
    "149+85+69"
   ]
  },
  {
   "cell_type": "code",
   "execution_count": 103,
   "metadata": {},
   "outputs": [
    {
     "data": {
      "text/plain": [
       "7949"
      ]
     },
     "execution_count": 103,
     "metadata": {},
     "output_type": "execute_result"
    }
   ],
   "source": [
    "894+1445+611+3859+1140"
   ]
  },
  {
   "cell_type": "code",
   "execution_count": 108,
   "metadata": {},
   "outputs": [
    {
     "data": {
      "text/plain": [
       "0.14341426594540194"
      ]
     },
     "execution_count": 108,
     "metadata": {},
     "output_type": "execute_result"
    }
   ],
   "source": [
    "1140/7949"
   ]
  },
  {
   "cell_type": "code",
   "execution_count": null,
   "metadata": {},
   "outputs": [],
   "source": []
  }
 ],
 "metadata": {
  "kernelspec": {
   "display_name": "Python 3",
   "language": "python",
   "name": "python3"
  },
  "language_info": {
   "codemirror_mode": {
    "name": "ipython",
    "version": 3
   },
   "file_extension": ".py",
   "mimetype": "text/x-python",
   "name": "python",
   "nbconvert_exporter": "python",
   "pygments_lexer": "ipython3",
   "version": "3.7.4"
  }
 },
 "nbformat": 4,
 "nbformat_minor": 2
}
