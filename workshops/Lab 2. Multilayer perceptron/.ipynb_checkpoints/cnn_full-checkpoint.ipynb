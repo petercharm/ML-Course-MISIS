{
 "cells": [
  {
   "cell_type": "code",
   "execution_count": null,
   "metadata": {},
   "outputs": [],
   "source": [
    "import numpy as np\n",
    "import pandas as pd\n",
    "import matplotlib.pyplot as plt\n",
    "\n",
    "%matplotlib inline"
   ]
  },
  {
   "cell_type": "markdown",
   "metadata": {},
   "source": [
    "<b> Загрузка и предобработка исходных данных"
   ]
  },
  {
   "cell_type": "code",
   "execution_count": null,
   "metadata": {},
   "outputs": [],
   "source": [
    "data = pd.read_csv(\"../../Практические материалы/Lab 1. Linear and logistic regression/mnist/mnist_train.csv\")\n",
    "data_test = pd.read_csv(\"../../Практические материалы/Lab 1. Linear and logistic regression/mnist/mnist_test.csv\")"
   ]
  },
  {
   "cell_type": "code",
   "execution_count": null,
   "metadata": {},
   "outputs": [],
   "source": [
    "data.head()"
   ]
  },
  {
   "cell_type": "code",
   "execution_count": null,
   "metadata": {},
   "outputs": [],
   "source": [
    "X = data.iloc[:,1:].values\n",
    "X_test = data_test.iloc[:,1:].values"
   ]
  },
  {
   "cell_type": "code",
   "execution_count": null,
   "metadata": {},
   "outputs": [],
   "source": [
    "mean = np.mean(X)\n",
    "std = np.std(X)\n",
    "\n",
    "X = (X - mean)/std\n",
    "X_test = (X_test - mean)/std"
   ]
  },
  {
   "cell_type": "code",
   "execution_count": null,
   "metadata": {},
   "outputs": [],
   "source": [
    "m = len(X)\n",
    "n = 10\n",
    "\n",
    "Y = np.zeros([m,n])\n",
    "\n",
    "for i in range(m):\n",
    "    Y[i,data.label.values[i]] = 1"
   ]
  },
  {
   "cell_type": "code",
   "execution_count": null,
   "metadata": {},
   "outputs": [],
   "source": [
    "Y"
   ]
  },
  {
   "cell_type": "code",
   "execution_count": null,
   "metadata": {},
   "outputs": [],
   "source": [
    "def sigmoid(z):\n",
    "    return 1/(1+np.exp(-z))"
   ]
  },
  {
   "cell_type": "code",
   "execution_count": null,
   "metadata": {},
   "outputs": [],
   "source": [
    "def tanh(z):\n",
    "    return (np.exp(z)-np.exp(-z))/(np.exp(z)+np.exp(-z))"
   ]
  },
  {
   "cell_type": "code",
   "execution_count": null,
   "metadata": {},
   "outputs": [],
   "source": [
    "def relu(z):\n",
    "    return np.max(0,z)"
   ]
  },
  {
   "cell_type": "code",
   "execution_count": null,
   "metadata": {},
   "outputs": [],
   "source": [
    "def softmax(z):\n",
    "    return np.exp(z)/np.sum(np.exp(z), axis = 1).reshape([len(z),1])"
   ]
  },
  {
   "cell_type": "code",
   "execution_count": null,
   "metadata": {},
   "outputs": [],
   "source": [
    "def conv(z, filters, padding = 1):\n",
    "    height = z.shape[0]\n",
    "    width = z.shape[1]\n",
    "    depth = z.shape[2]\n",
    "    samples = z.shape[3]\n",
    "    n = filters.shape[0]\n",
    "    m = filters.shape[1]\n",
    "    l = filters.shape[2]\n",
    "    n_filters = filters.shape[3]\n",
    "    \n",
    "    z_pad = np.zeros([height+padding*2,width+padding*2,depth,samples])\n",
    "    if padding > 0:\n",
    "        z_pad[padding:-padding,padding:-padding,:,:] = z[:,:,:,:]\n",
    "    else:\n",
    "        z_pad = z\n",
    "    \n",
    "    output_h = height + padding * 2 - (n - 1)\n",
    "    output_w = width + padding * 2 - (n - 1)\n",
    "    result = np.zeros([output_h,output_w,n_filters,samples])\n",
    "    \n",
    "    for s in range(samples):\n",
    "        for k in range(n_filters):\n",
    "            for i in range(output_h):\n",
    "                for j in range(output_w):\n",
    "                    result[i,j,k,s] = np.sum(z_pad[i:i+n,j:j+m,0:l,s]*filters[:,:,:,k])\n",
    "\n",
    "    return result"
   ]
  },
  {
   "cell_type": "code",
   "execution_count": null,
   "metadata": {},
   "outputs": [],
   "source": [
    "def max_pool(z, pool_size):\n",
    "    height = z.shape[0]\n",
    "    width = z.shape[1]\n",
    "    depth = z.shape[2]\n",
    "    samples = z.shape[3]\n",
    "    \n",
    "    h2 = (pool_size - height%pool_size)%pool_size\n",
    "    w2 = (pool_size - width%pool_size)%pool_size\n",
    "        \n",
    "    z_pad = np.zeros([height+h2,width+w2,depth,samples])\n",
    "    z_pad[:height,:width,:,:] = z\n",
    "\n",
    "    result = np.zeros([(height+h2)//pool_size,(width+w2)//pool_size,depth,samples])\n",
    "        \n",
    "    for s in range(samples):    \n",
    "        for k in range(depth):\n",
    "            for i in range(0,height+h2,pool_size):\n",
    "                for j in range(0,width+w2,pool_size):\n",
    "                    tmp = z_pad[i:i+pool_size,j:j+pool_size,k,s]\n",
    "                    result[i//pool_size,j//pool_size,k,s] = np.max(tmp)\n",
    "                    \n",
    "    return result"
   ]
  },
  {
   "cell_type": "code",
   "execution_count": null,
   "metadata": {},
   "outputs": [],
   "source": [
    "def avg_pool(z, pool_size):\n",
    "    height = z.shape[0]\n",
    "    width = z.shape[1]\n",
    "    depth = z.shape[2]\n",
    "    samples = z.shape[3]\n",
    "    \n",
    "    h2 = (pool_size - height%pool_size)%pool_size\n",
    "    w2 = (pool_size - width%pool_size)%pool_size\n",
    "        \n",
    "    z_pad = np.zeros([height+h2,width+w2,depth,samples])\n",
    "    z_pad[:height,:width,:,:] = z[:,:,:,:]\n",
    "\n",
    "    result = np.zeros([(height+h2)//pool_size,(width+w2)//pool_size,depth,samples])\n",
    "    \n",
    "    for s in range(samples):\n",
    "        for k in range(depth):\n",
    "            for i in range(0,height+h2,pool_size):\n",
    "                for j in range(0,width+w2,pool_size):\n",
    "                    tmp = z_pad[i:i+pool_size,j:j+pool_size,k,s]\n",
    "                    result[i//pool_size,j//pool_size,k,s] = np.mean(tmp)\n",
    "                    \n",
    "    return result"
   ]
  },
  {
   "cell_type": "code",
   "execution_count": null,
   "metadata": {},
   "outputs": [],
   "source": [
    "def flatten(z):\n",
    "    dim0 = z.shape[0]\n",
    "    dim1 = z.shape[1]\n",
    "    dim2 = z.shape[2]\n",
    "    dim3 = z.shape[3]\n",
    "    \n",
    "    result = np.zeros([dim3,dim0*dim1*dim2])\n",
    "    \n",
    "    for s in range(dim3):\n",
    "        result[s,:] = z[:,:,:,s].flatten()\n",
    "    \n",
    "    return result"
   ]
  },
  {
   "cell_type": "code",
   "execution_count": null,
   "metadata": {},
   "outputs": [],
   "source": [
    "def d_conv(filters,f_prev,sigma,padding = 1):\n",
    "    d_filters = np.zeros_like(filters)\n",
    "    height = sigma.shape[0]\n",
    "    width = sigma.shape[1]\n",
    "    depth = sigma.shape[2]\n",
    "    samples = sigma.shape[3]\n",
    "    n = filters.shape[0]\n",
    "    m = filters.shape[1]\n",
    "    l = filters.shape[2]\n",
    "    n_filters = filters.shape[3]\n",
    "    \n",
    "    f_prev_pad = np.zeros([f_prev.shape[0]+padding*2,f_prev.shape[1]+padding*2,f_prev.shape[2],f_prev.shape[3]])\n",
    "    \n",
    "    if padding > 0:\n",
    "        f_prev_pad[padding:-padding,padding:-padding,:,:] = f_prev[:,:,:,:]\n",
    "    else:\n",
    "        f_prev_pad = f_prev\n",
    "    \n",
    "    #print(X)\n",
    "    sigma_new = np.zeros_like(f_prev_pad)\n",
    "    \n",
    "    for s in range(samples):\n",
    "        for k in range(n_filters):\n",
    "            for i in range(height):\n",
    "                for j in range(width):\n",
    "                    d_filters[:,:,:,k] += f_prev_pad[i:i+n,j:j+m,0:l,s]*sigma[i,j,k,s]\n",
    "                    sigma_new[i:i+n,j:j+m,0:l,s] += filters[:,:,:,k]*sigma[i,j,k,s]\n",
    "                \n",
    "    if padding > 0:\n",
    "        sigma_new = sigma_new[padding:-padding,padding:-padding,:,:]\n",
    "                \n",
    "    return d_filters,sigma_new"
   ]
  },
  {
   "cell_type": "code",
   "execution_count": null,
   "metadata": {},
   "outputs": [],
   "source": [
    "def d_flat(z,size):\n",
    "    dim0 = size[0]\n",
    "    dim1 = size[1]\n",
    "    dim2 = size[2]\n",
    "    dim3 = size[3]\n",
    "    \n",
    "    result = np.zeros(size)\n",
    "    \n",
    "    for s in range(dim3):\n",
    "        result[:,:,:,s] = z[s,:].reshape([dim0,dim1,dim2])\n",
    "    \n",
    "    return result"
   ]
  },
  {
   "cell_type": "code",
   "execution_count": null,
   "metadata": {},
   "outputs": [],
   "source": [
    "def d_max_pool(sigma,f_prev,pool_size):\n",
    "    result = np.zeros([sigma.shape[0]*pool_size,sigma.shape[1]*pool_size,sigma.shape[2],sigma.shape[3]])\n",
    "\n",
    "    for s in range(sigma.shape[3]):\n",
    "        for k in range(sigma.shape[2]):\n",
    "            for i in range(0,sigma.shape[0]*pool_size,pool_size):\n",
    "                for j in range(0,sigma.shape[1]*pool_size,pool_size):\n",
    "                    tmp = f_prev[i:i+pool_size,j:j+pool_size,k,s]\n",
    "                    max_ind = np.argmax(tmp.flatten())\n",
    "                    \n",
    "                    result[i+max_ind//pool_size,j+max_ind%pool_size,k,s] = sigma[i//pool_size,j//pool_size,k,s]\n",
    "\n",
    "    return result"
   ]
  },
  {
   "cell_type": "code",
   "execution_count": null,
   "metadata": {},
   "outputs": [],
   "source": [
    "def d_avg_pool(sigma,f_prev,pool_size):\n",
    "    result = np.zeros([sigma.shape[0]*pool_size,sigma.shape[1]*pool_size,sigma.shape[2],sigma.shape[3]])\n",
    "\n",
    "    for s in range(sigma.shape[3]):\n",
    "        for k in range(sigma.shape[2]):\n",
    "            for i in range(0,sigma.shape[0]*pool_size,pool_size):\n",
    "                for j in range(0,sigma.shape[1]*pool_size,pool_size):\n",
    "                    result[i:i+pool_size,j:j+pool_size,k,s] = sigma[i//pool_size,j//pool_size,k,s]\n",
    "\n",
    "    return result/pool_size**2"
   ]
  },
  {
   "cell_type": "code",
   "execution_count": null,
   "metadata": {},
   "outputs": [],
   "source": [
    "def d_softmax(z,sigma):\n",
    "    d_softmax = np.zeros([z.shape[1],z.shape[1],z.shape[0]])\n",
    "    \n",
    "    for k in range(z.shape[0]):\n",
    "        for i in range(d_softmax.shape[0]):\n",
    "            for j in range(d_softmax.shape[1]):\n",
    "                if i == j:\n",
    "                    d_softmax[i,j,k] += z[k,i]*(1-z[k,j])\n",
    "                else:\n",
    "                    d_softmax[i,j,k] += -z[k,i]*z[k,j]\n",
    "    \n",
    "    sigma_new = np.zeros_like(sigma)\n",
    "    for k in range(z.shape[0]):\n",
    "        sigma_new[k,:] = np.matmul(sigma[k:k+1,:],d_softmax[:,:,k]).flatten()\n",
    "    \n",
    "    return sigma_new"
   ]
  },
  {
   "cell_type": "code",
   "execution_count": null,
   "metadata": {},
   "outputs": [],
   "source": [
    "def forward(X,filters,W,B,pool_size):\n",
    "    F0 = conv(X,filters[0],padding=2)\n",
    "    F1 = tanh(F0)\n",
    "    F2 = avg_pool(F1,pool_size)\n",
    "    F3 = conv(F2,filters[1],padding=0)\n",
    "    F4 = tanh(F3)\n",
    "    F5 = avg_pool(F4,pool_size)\n",
    "    F6 = conv(F5,filters[2],padding=0)\n",
    "    F7 = tanh(F6)\n",
    "    F8 = flatten(F7)\n",
    "    F9 = tanh(np.matmul(F8,W[0]) + B[0])\n",
    "    F10 = softmax(np.matmul(F9,W[1]) + B[1])\n",
    "    \n",
    "    return (F0,F1,F2,F3,F4,F5,F6,F7,F8,F9,F10)"
   ]
  },
  {
   "cell_type": "code",
   "execution_count": null,
   "metadata": {},
   "outputs": [],
   "source": [
    "def backprop(X,F,W,Y,filters,pool_size):\n",
    "    sigma = (F[10] - Y)/(F[10]*(1-F[10]))\n",
    "    sigma = d_softmax(F[10],sigma)\n",
    "    \n",
    "    dW2 = np.matmul(F[9].T,sigma)\n",
    "    dB2 = np.sum(sigma, axis = 0)\n",
    "    \n",
    "    sigma = np.matmul(sigma,W[1].T)\n",
    "    sigma = sigma*(1-F[9]*F[9])\n",
    "    \n",
    "    dW1 = np.matmul(F[8].T,sigma)\n",
    "    dB1 = np.sum(sigma, axis = 0)\n",
    "    \n",
    "    sigma = np.matmul(sigma,W[0].T)\n",
    "    sigma = d_flat(sigma,F[7].shape)\n",
    "    sigma = sigma*(1-F[7]*F[7])\n",
    "    \n",
    "    d_filters3,sigma = d_conv(filters[2],F[5],sigma,padding=0)\n",
    "    sigma = d_avg_pool(sigma,F[4],pool_size)\n",
    "    \n",
    "    sigma = sigma*(1-F[4]*F[4])\n",
    "    \n",
    "    d_filters2,sigma = d_conv(filters[1],F[2],sigma,padding=0)\n",
    "    sigma = d_avg_pool(sigma,F[1],pool_size) \n",
    "    \n",
    "    sigma = sigma*(1-F[1]*F[1])\n",
    "    d_filters1,sigma = d_conv(filters[0],X,sigma,padding=2)\n",
    "    \n",
    "    return (dW2,dB2,dW1,dB1,d_filters3,d_filters2,d_filters1)    "
   ]
  },
  {
   "cell_type": "code",
   "execution_count": null,
   "metadata": {},
   "outputs": [],
   "source": [
    "filters1 = np.random.randn(5,5,1,6)\n",
    "filters2 = np.random.randn(5,5,6,16)\n",
    "filters3 = np.random.randn(5,5,16,120)\n",
    "\n",
    "filters = [filters1,filters2,filters3]\n",
    "\n",
    "W1 = np.random.randn(120,84)\n",
    "B1 = np.random.randn(1,84)\n",
    "W2 = np.random.randn(84,10)\n",
    "B2 = np.random.randn(1,10)\n",
    "\n",
    "W = [W1,W2]\n",
    "B = [B1,B2]\n",
    "\n",
    "pool_size = 2\n",
    "\n",
    "batch_size = 100\n",
    "\n",
    "m = len(X)\n",
    "\n",
    "alpha = 0.00001\n",
    "\n",
    "for i in range(0,m,batch_size):\n",
    "    X_batch = np.zeros([28,28,1,batch_size])\n",
    "    for k in range(batch_size):\n",
    "        X_batch[:,:,0,k] = X[i+k,:].reshape([28,28])\n",
    "        \n",
    "    Y_batch = Y[i:i+batch_size,:]\n",
    "    F = forward(X_batch,filters,W,B,pool_size)\n",
    "    J = -np.sum(Y_batch*np.log(F[-1])+(1-Y_batch)*np.log(1-F[-1]))\n",
    "    print(J)\n",
    "    grads = backprop(X_batch,F,W,Y_batch,filters,pool_size)\n",
    "    \n",
    "    W2 = W2 - alpha*grads[0]\n",
    "    B2 = B2 - alpha*grads[1]\n",
    "    W1 = W1 - alpha*grads[2]\n",
    "    B1 = B1 - alpha*grads[3]\n",
    "    filters3 = filters3 - alpha*grads[4]\n",
    "    filters2 = filters2 - alpha*grads[5]\n",
    "    filters1 = filters1 - alpha*grads[6]"
   ]
  },
  {
   "cell_type": "code",
   "execution_count": null,
   "metadata": {},
   "outputs": [],
   "source": [
    "grads = backprop(X,F,W,Y,filters,pool_size)"
   ]
  },
  {
   "cell_type": "code",
   "execution_count": null,
   "metadata": {},
   "outputs": [],
   "source": [
    "F = forward(X,filters,W,B,pool_size)\n",
    "J1 = -np.sum(Y*np.log(F[-1])+(1-Y)*np.log(1-F[-1]))\n",
    "filters1[3,3,0,0] += 0.0000001\n",
    "F = forward(X,filters,W,B,pool_size)\n",
    "J2 = -np.sum(Y*np.log(F[-1])+(1-Y)*np.log(1-F[-1]))\n",
    "filters1[3,3,0,0] -= 0.0000001\n",
    "print((J2-J1)/0.0000001)"
   ]
  },
  {
   "cell_type": "code",
   "execution_count": null,
   "metadata": {},
   "outputs": [],
   "source": [
    "grads[6][3,3,0,0]"
   ]
  },
  {
   "cell_type": "code",
   "execution_count": null,
   "metadata": {},
   "outputs": [],
   "source": []
  },
  {
   "cell_type": "code",
   "execution_count": null,
   "metadata": {},
   "outputs": [],
   "source": [
    "X_test.shape"
   ]
  },
  {
   "cell_type": "code",
   "execution_count": null,
   "metadata": {},
   "outputs": [],
   "source": [
    "X_tst = np.zeros([28,28,1,100])\n",
    "for i in range(100):\n",
    "    X_tst[:,:,0,i] = X_test[i,:].reshape(28,28)"
   ]
  },
  {
   "cell_type": "code",
   "execution_count": null,
   "metadata": {},
   "outputs": [],
   "source": [
    "F = forward(X_tst,filters,W,B,pool_size)"
   ]
  },
  {
   "cell_type": "code",
   "execution_count": null,
   "metadata": {},
   "outputs": [],
   "source": [
    "pred = np.argmax(F[-1],axis=1)"
   ]
  },
  {
   "cell_type": "code",
   "execution_count": null,
   "metadata": {},
   "outputs": [],
   "source": []
  },
  {
   "cell_type": "code",
   "execution_count": null,
   "metadata": {},
   "outputs": [],
   "source": []
  },
  {
   "cell_type": "code",
   "execution_count": null,
   "metadata": {},
   "outputs": [],
   "source": []
  },
  {
   "cell_type": "code",
   "execution_count": null,
   "metadata": {},
   "outputs": [],
   "source": []
  },
  {
   "cell_type": "code",
   "execution_count": null,
   "metadata": {},
   "outputs": [],
   "source": [
    "from keras import Sequential\n",
    "from keras.layers import Conv2D, Flatten, AveragePooling2D, Dense\n",
    "from keras.optimizers import Adam, SGD"
   ]
  },
  {
   "cell_type": "code",
   "execution_count": null,
   "metadata": {},
   "outputs": [],
   "source": [
    "model = Sequential()\n",
    "\n",
    "model.add(Conv2D(filters=6, kernel_size=(5, 5), activation='tanh', padding = 'same', input_shape=(28,28,1)))\n",
    "model.add(AveragePooling2D())\n",
    "\n",
    "model.add(Conv2D(filters=16, kernel_size=(5, 5), activation='tanh', padding = 'valid'))\n",
    "model.add(AveragePooling2D())\n",
    "\n",
    "model.add(Conv2D(filters=120, kernel_size=(5, 5), activation='tanh', padding = 'valid'))\n",
    "\n",
    "model.add(Flatten())\n",
    "\n",
    "model.add(Dense(units=84, activation='tanh'))\n",
    "\n",
    "model.add(Dense(units=10, activation = 'softmax'))\n",
    "\n",
    "opt = Adam()\n",
    "\n",
    "model.compile(optimizer = opt, loss = 'categorical_crossentropy',metrics = ['categorical_crossentropy','accuracy'])\n",
    "\n",
    "model.summary()"
   ]
  },
  {
   "cell_type": "code",
   "execution_count": null,
   "metadata": {},
   "outputs": [],
   "source": [
    "X_train = np.zeros([60000,28,28,1])\n",
    "for i in range(60000):\n",
    "    X_train[i,:,:,0] = X[i,:].reshape(28,28)"
   ]
  },
  {
   "cell_type": "code",
   "execution_count": null,
   "metadata": {
    "scrolled": false
   },
   "outputs": [],
   "source": [
    "model.fit(X_train, Y, batch_size = 1, epochs=10)"
   ]
  },
  {
   "cell_type": "code",
   "execution_count": null,
   "metadata": {},
   "outputs": [],
   "source": [
    "Доделать производные других слоев\n",
    "\n",
    "Обучить 1 итерацию сравнить ошибку с Keras для разных размеров батча\n",
    "\n",
    "batch = 1\n",
    "\n",
    "Сделать batch_normalization\n",
    "\n",
    "Сделать dropout"
   ]
  },
  {
   "cell_type": "code",
   "execution_count": null,
   "metadata": {},
   "outputs": [],
   "source": []
  },
  {
   "cell_type": "code",
   "execution_count": null,
   "metadata": {},
   "outputs": [],
   "source": []
  }
 ],
 "metadata": {
  "kernelspec": {
   "display_name": "Python 3",
   "language": "python",
   "name": "python3"
  },
  "language_info": {
   "codemirror_mode": {
    "name": "ipython",
    "version": 3
   },
   "file_extension": ".py",
   "mimetype": "text/x-python",
   "name": "python",
   "nbconvert_exporter": "python",
   "pygments_lexer": "ipython3",
   "version": "3.7.4"
  }
 },
 "nbformat": 4,
 "nbformat_minor": 2
}
