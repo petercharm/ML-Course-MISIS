{
 "cells": [
  {
   "cell_type": "code",
   "execution_count": 35,
   "metadata": {},
   "outputs": [],
   "source": [
    "import numpy as np\n",
    "import pandas as pd\n",
    "import matplotlib.pyplot as plt\n",
    "from sklearn.model_selection import train_test_split\n",
    "from sklearn.ensemble import RandomForestClassifier\n",
    "from sklearn.ensemble import GradientBoostingClassifier\n",
    "\n",
    "from sklearn.metrics import classification_report, roc_curve, auc\n",
    "\n",
    "%matplotlib inline"
   ]
  },
  {
   "cell_type": "code",
   "execution_count": 36,
   "metadata": {},
   "outputs": [],
   "source": [
    "data = pd.read_csv('data_st.csv')"
   ]
  },
  {
   "cell_type": "code",
   "execution_count": 37,
   "metadata": {},
   "outputs": [
    {
     "data": {
      "text/html": [
       "<div>\n",
       "<style scoped>\n",
       "    .dataframe tbody tr th:only-of-type {\n",
       "        vertical-align: middle;\n",
       "    }\n",
       "\n",
       "    .dataframe tbody tr th {\n",
       "        vertical-align: top;\n",
       "    }\n",
       "\n",
       "    .dataframe thead th {\n",
       "        text-align: right;\n",
       "    }\n",
       "</style>\n",
       "<table border=\"1\" class=\"dataframe\">\n",
       "  <thead>\n",
       "    <tr style=\"text-align: right;\">\n",
       "      <th></th>\n",
       "      <th>0</th>\n",
       "      <th>1</th>\n",
       "      <th>2</th>\n",
       "      <th>3</th>\n",
       "      <th>4</th>\n",
       "      <th>5</th>\n",
       "      <th>6</th>\n",
       "      <th>7</th>\n",
       "      <th>8</th>\n",
       "      <th>9</th>\n",
       "      <th>...</th>\n",
       "      <th>326</th>\n",
       "      <th>327</th>\n",
       "      <th>328</th>\n",
       "      <th>329</th>\n",
       "      <th>330</th>\n",
       "      <th>331</th>\n",
       "      <th>332</th>\n",
       "      <th>333</th>\n",
       "      <th>334</th>\n",
       "      <th>target</th>\n",
       "    </tr>\n",
       "  </thead>\n",
       "  <tbody>\n",
       "    <tr>\n",
       "      <td>0</td>\n",
       "      <td>0.897499</td>\n",
       "      <td>0.934905</td>\n",
       "      <td>2.000000</td>\n",
       "      <td>1.000000</td>\n",
       "      <td>4.728260e+09</td>\n",
       "      <td>1.736898e+09</td>\n",
       "      <td>803.0</td>\n",
       "      <td>14484.71</td>\n",
       "      <td>199400.00</td>\n",
       "      <td>132.50</td>\n",
       "      <td>...</td>\n",
       "      <td>9.804536e+06</td>\n",
       "      <td>3.351771e+07</td>\n",
       "      <td>1.078795e+06</td>\n",
       "      <td>8.273531e+06</td>\n",
       "      <td>4.365961e+06</td>\n",
       "      <td>1.990720e+06</td>\n",
       "      <td>4.605525e+07</td>\n",
       "      <td>8.492736e+06</td>\n",
       "      <td>6.101825e+07</td>\n",
       "      <td>0</td>\n",
       "    </tr>\n",
       "    <tr>\n",
       "      <td>1</td>\n",
       "      <td>0.897499</td>\n",
       "      <td>0.934905</td>\n",
       "      <td>41.000000</td>\n",
       "      <td>15.000000</td>\n",
       "      <td>4.728260e+09</td>\n",
       "      <td>1.736898e+09</td>\n",
       "      <td>819.0</td>\n",
       "      <td>93331.24</td>\n",
       "      <td>45354984.33</td>\n",
       "      <td>5538.83</td>\n",
       "      <td>...</td>\n",
       "      <td>9.804536e+06</td>\n",
       "      <td>3.351771e+07</td>\n",
       "      <td>1.078795e+06</td>\n",
       "      <td>8.273531e+06</td>\n",
       "      <td>4.365961e+06</td>\n",
       "      <td>1.990720e+06</td>\n",
       "      <td>2.350000e+04</td>\n",
       "      <td>8.492736e+06</td>\n",
       "      <td>7.250000e+04</td>\n",
       "      <td>0</td>\n",
       "    </tr>\n",
       "    <tr>\n",
       "      <td>2</td>\n",
       "      <td>0.897499</td>\n",
       "      <td>0.934905</td>\n",
       "      <td>16.519811</td>\n",
       "      <td>5.492198</td>\n",
       "      <td>4.728260e+09</td>\n",
       "      <td>1.736898e+09</td>\n",
       "      <td>829.0</td>\n",
       "      <td>43003.92</td>\n",
       "      <td>4056920.00</td>\n",
       "      <td>2.21</td>\n",
       "      <td>...</td>\n",
       "      <td>9.804536e+06</td>\n",
       "      <td>3.351771e+07</td>\n",
       "      <td>1.078795e+06</td>\n",
       "      <td>8.273531e+06</td>\n",
       "      <td>4.365961e+06</td>\n",
       "      <td>1.990720e+06</td>\n",
       "      <td>5.665218e+06</td>\n",
       "      <td>8.492736e+06</td>\n",
       "      <td>9.985774e+06</td>\n",
       "      <td>0</td>\n",
       "    </tr>\n",
       "    <tr>\n",
       "      <td>3</td>\n",
       "      <td>0.897499</td>\n",
       "      <td>0.934905</td>\n",
       "      <td>4.000000</td>\n",
       "      <td>2.000000</td>\n",
       "      <td>4.728260e+09</td>\n",
       "      <td>1.736898e+09</td>\n",
       "      <td>527.0</td>\n",
       "      <td>8459.08</td>\n",
       "      <td>1435236.45</td>\n",
       "      <td>688.05</td>\n",
       "      <td>...</td>\n",
       "      <td>9.804536e+06</td>\n",
       "      <td>3.351771e+07</td>\n",
       "      <td>1.078795e+06</td>\n",
       "      <td>8.273531e+06</td>\n",
       "      <td>4.365961e+06</td>\n",
       "      <td>1.990720e+06</td>\n",
       "      <td>5.665218e+06</td>\n",
       "      <td>8.492736e+06</td>\n",
       "      <td>9.985774e+06</td>\n",
       "      <td>0</td>\n",
       "    </tr>\n",
       "    <tr>\n",
       "      <td>4</td>\n",
       "      <td>0.897499</td>\n",
       "      <td>0.934905</td>\n",
       "      <td>16.519811</td>\n",
       "      <td>5.492198</td>\n",
       "      <td>4.728260e+09</td>\n",
       "      <td>1.736898e+09</td>\n",
       "      <td>522.0</td>\n",
       "      <td>0.00</td>\n",
       "      <td>0.00</td>\n",
       "      <td>0.00</td>\n",
       "      <td>...</td>\n",
       "      <td>9.804536e+06</td>\n",
       "      <td>3.351771e+07</td>\n",
       "      <td>1.078795e+06</td>\n",
       "      <td>8.273531e+06</td>\n",
       "      <td>4.365961e+06</td>\n",
       "      <td>1.990720e+06</td>\n",
       "      <td>1.202500e+05</td>\n",
       "      <td>8.492736e+06</td>\n",
       "      <td>2.522500e+05</td>\n",
       "      <td>0</td>\n",
       "    </tr>\n",
       "  </tbody>\n",
       "</table>\n",
       "<p>5 rows × 336 columns</p>\n",
       "</div>"
      ],
      "text/plain": [
       "          0         1          2          3             4             5  \\\n",
       "0  0.897499  0.934905   2.000000   1.000000  4.728260e+09  1.736898e+09   \n",
       "1  0.897499  0.934905  41.000000  15.000000  4.728260e+09  1.736898e+09   \n",
       "2  0.897499  0.934905  16.519811   5.492198  4.728260e+09  1.736898e+09   \n",
       "3  0.897499  0.934905   4.000000   2.000000  4.728260e+09  1.736898e+09   \n",
       "4  0.897499  0.934905  16.519811   5.492198  4.728260e+09  1.736898e+09   \n",
       "\n",
       "       6         7            8        9  ...           326           327  \\\n",
       "0  803.0  14484.71    199400.00   132.50  ...  9.804536e+06  3.351771e+07   \n",
       "1  819.0  93331.24  45354984.33  5538.83  ...  9.804536e+06  3.351771e+07   \n",
       "2  829.0  43003.92   4056920.00     2.21  ...  9.804536e+06  3.351771e+07   \n",
       "3  527.0   8459.08   1435236.45   688.05  ...  9.804536e+06  3.351771e+07   \n",
       "4  522.0      0.00         0.00     0.00  ...  9.804536e+06  3.351771e+07   \n",
       "\n",
       "            328           329           330           331           332  \\\n",
       "0  1.078795e+06  8.273531e+06  4.365961e+06  1.990720e+06  4.605525e+07   \n",
       "1  1.078795e+06  8.273531e+06  4.365961e+06  1.990720e+06  2.350000e+04   \n",
       "2  1.078795e+06  8.273531e+06  4.365961e+06  1.990720e+06  5.665218e+06   \n",
       "3  1.078795e+06  8.273531e+06  4.365961e+06  1.990720e+06  5.665218e+06   \n",
       "4  1.078795e+06  8.273531e+06  4.365961e+06  1.990720e+06  1.202500e+05   \n",
       "\n",
       "            333           334  target  \n",
       "0  8.492736e+06  6.101825e+07       0  \n",
       "1  8.492736e+06  7.250000e+04       0  \n",
       "2  8.492736e+06  9.985774e+06       0  \n",
       "3  8.492736e+06  9.985774e+06       0  \n",
       "4  8.492736e+06  2.522500e+05       0  \n",
       "\n",
       "[5 rows x 336 columns]"
      ]
     },
     "execution_count": 37,
     "metadata": {},
     "output_type": "execute_result"
    }
   ],
   "source": [
    "data.head()"
   ]
  },
  {
   "cell_type": "code",
   "execution_count": 60,
   "metadata": {},
   "outputs": [],
   "source": [
    "features = list(data.columns)[:-1]"
   ]
  },
  {
   "cell_type": "code",
   "execution_count": 69,
   "metadata": {},
   "outputs": [],
   "source": [
    "for i in range(100):\n",
    "    feature1, feature2 = np.random.choice(features,2, replace = False)\n",
    "    data[feature1+'_'+feature2] = data[feature1]/(data[feature2]+0.0001)"
   ]
  },
  {
   "cell_type": "code",
   "execution_count": 70,
   "metadata": {},
   "outputs": [
    {
     "data": {
      "text/plain": [
       "20000"
      ]
     },
     "execution_count": 70,
     "metadata": {},
     "output_type": "execute_result"
    }
   ],
   "source": [
    "len(data)"
   ]
  },
  {
   "cell_type": "code",
   "execution_count": 71,
   "metadata": {},
   "outputs": [
    {
     "data": {
      "text/plain": [
       "0.07465"
      ]
     },
     "execution_count": 71,
     "metadata": {},
     "output_type": "execute_result"
    }
   ],
   "source": [
    "np.mean(data.target)"
   ]
  },
  {
   "cell_type": "code",
   "execution_count": 72,
   "metadata": {},
   "outputs": [],
   "source": [
    "data_train, data_test = train_test_split(data, stratify = data.target)"
   ]
  },
  {
   "cell_type": "code",
   "execution_count": 73,
   "metadata": {},
   "outputs": [
    {
     "data": {
      "text/plain": [
       "0.07466666666666667"
      ]
     },
     "execution_count": 73,
     "metadata": {},
     "output_type": "execute_result"
    }
   ],
   "source": [
    "np.mean(data_train.target)"
   ]
  },
  {
   "cell_type": "code",
   "execution_count": 74,
   "metadata": {},
   "outputs": [
    {
     "data": {
      "text/plain": [
       "0.0746"
      ]
     },
     "execution_count": 74,
     "metadata": {},
     "output_type": "execute_result"
    }
   ],
   "source": [
    "np.mean(data_test.target)"
   ]
  },
  {
   "cell_type": "code",
   "execution_count": 184,
   "metadata": {},
   "outputs": [
    {
     "name": "stderr",
     "output_type": "stream",
     "text": [
      "\n",
      "A value is trying to be set on a copy of a slice from a DataFrame.\n",
      "Try using .loc[row_indexer,col_indexer] = value instead\n",
      "\n",
      "See the caveats in the documentation: http://pandas.pydata.org/pandas-docs/stable/user_guide/indexing.html#returning-a-view-versus-a-copy\n"
     ]
    }
   ],
   "source": [
    "data_train['326_51_part_1'] = (data_train['326_51'] < 1634062.1483040925)*1"
   ]
  },
  {
   "cell_type": "code",
   "execution_count": 218,
   "metadata": {},
   "outputs": [],
   "source": [
    "data_test['326_51_part_1'] = (data_test['326_51'] < 1634062.1483040925)*1"
   ]
  },
  {
   "cell_type": "code",
   "execution_count": null,
   "metadata": {},
   "outputs": [],
   "source": []
  },
  {
   "cell_type": "code",
   "execution_count": 187,
   "metadata": {},
   "outputs": [],
   "source": [
    "train_cols = list(data_train.columns[:])"
   ]
  },
  {
   "cell_type": "code",
   "execution_count": 188,
   "metadata": {},
   "outputs": [],
   "source": [
    "train_cols.remove('target')"
   ]
  },
  {
   "cell_type": "code",
   "execution_count": 239,
   "metadata": {},
   "outputs": [],
   "source": [
    "top_features = list(top_features)"
   ]
  },
  {
   "cell_type": "code",
   "execution_count": 240,
   "metadata": {},
   "outputs": [],
   "source": [
    "top_features.append('326_51_part_1')"
   ]
  },
  {
   "cell_type": "code",
   "execution_count": 241,
   "metadata": {},
   "outputs": [],
   "source": [
    "model = GradientBoostingClassifier(n_estimators=200, max_depth=3)"
   ]
  },
  {
   "cell_type": "code",
   "execution_count": 242,
   "metadata": {},
   "outputs": [
    {
     "data": {
      "text/plain": [
       "GradientBoostingClassifier(criterion='friedman_mse', init=None,\n",
       "                           learning_rate=0.1, loss='deviance', max_depth=3,\n",
       "                           max_features=None, max_leaf_nodes=None,\n",
       "                           min_impurity_decrease=0.0, min_impurity_split=None,\n",
       "                           min_samples_leaf=1, min_samples_split=2,\n",
       "                           min_weight_fraction_leaf=0.0, n_estimators=200,\n",
       "                           n_iter_no_change=None, presort='auto',\n",
       "                           random_state=None, subsample=1.0, tol=0.0001,\n",
       "                           validation_fraction=0.1, verbose=0,\n",
       "                           warm_start=False)"
      ]
     },
     "execution_count": 242,
     "metadata": {},
     "output_type": "execute_result"
    }
   ],
   "source": [
    "model.fit(data_train[top_features],data_train.target)"
   ]
  },
  {
   "cell_type": "code",
   "execution_count": 243,
   "metadata": {},
   "outputs": [],
   "source": [
    "pred = model.predict(data_test[top_features])"
   ]
  },
  {
   "cell_type": "code",
   "execution_count": 244,
   "metadata": {},
   "outputs": [
    {
     "data": {
      "text/plain": [
       "array([0, 0, 0, ..., 1, 1, 1], dtype=int64)"
      ]
     },
     "execution_count": 244,
     "metadata": {},
     "output_type": "execute_result"
    }
   ],
   "source": [
    "pred"
   ]
  },
  {
   "cell_type": "code",
   "execution_count": 245,
   "metadata": {},
   "outputs": [
    {
     "data": {
      "text/plain": [
       "0.927"
      ]
     },
     "execution_count": 245,
     "metadata": {},
     "output_type": "execute_result"
    }
   ],
   "source": [
    "np.mean(pred == data_test.target)"
   ]
  },
  {
   "cell_type": "code",
   "execution_count": 246,
   "metadata": {},
   "outputs": [
    {
     "name": "stdout",
     "output_type": "stream",
     "text": [
      "              precision    recall  f1-score   support\n",
      "\n",
      "           0       0.93      1.00      0.96      4627\n",
      "           1       0.57      0.08      0.15       373\n",
      "\n",
      "    accuracy                           0.93      5000\n",
      "   macro avg       0.75      0.54      0.55      5000\n",
      "weighted avg       0.90      0.93      0.90      5000\n",
      "\n"
     ]
    }
   ],
   "source": [
    "print(classification_report(data_test.target, pred))"
   ]
  },
  {
   "cell_type": "code",
   "execution_count": 247,
   "metadata": {},
   "outputs": [
    {
     "name": "stdout",
     "output_type": "stream",
     "text": [
      "0.7953905593175852\n"
     ]
    },
    {
     "data": {
      "image/png": "[encoded data removed]",
      "text/plain": [
       "<Figure size 432x288 with 1 Axes>"
      ]
     },
     "metadata": {
      "needs_background": "light"
     },
     "output_type": "display_data"
    }
   ],
   "source": [
    "y_score = model.predict_proba(data_test[top_features])[:,1]\n",
    "\n",
    "fpr, tpr, thresholds = roc_curve(data_test.target,y_score)\n",
    "roc_auc = auc(fpr,tpr)\n",
    "\n",
    "plt.plot(fpr,tpr)\n",
    "print(roc_auc)"
   ]
  },
  {
   "cell_type": "code",
   "execution_count": 248,
   "metadata": {},
   "outputs": [
    {
     "name": "stdout",
     "output_type": "stream",
     "text": [
      "              precision    recall  f1-score   support\n",
      "\n",
      "           0       0.94      1.00      0.97     13880\n",
      "           1       0.88      0.17      0.29      1120\n",
      "\n",
      "    accuracy                           0.94     15000\n",
      "   macro avg       0.91      0.58      0.63     15000\n",
      "weighted avg       0.93      0.94      0.92     15000\n",
      "\n",
      "0.8801387852511322\n"
     ]
    },
    {
     "data": {
      "image/png": "[encoded data removed]",
      "text/plain": [
       "<Figure size 432x288 with 1 Axes>"
      ]
     },
     "metadata": {
      "needs_background": "light"
     },
     "output_type": "display_data"
    }
   ],
   "source": [
    "pred = model.predict(data_train[top_features])\n",
    "print(classification_report(data_train.target, pred))\n",
    "\n",
    "y_score = model.predict_proba(data_train[top_features])[:,1]\n",
    "\n",
    "fpr, tpr, thresholds = roc_curve(data_train.target,y_score)\n",
    "roc_auc = auc(fpr,tpr)\n",
    "\n",
    "plt.plot(fpr,tpr)\n",
    "print(roc_auc)\n"
   ]
  },
  {
   "cell_type": "code",
   "execution_count": 249,
   "metadata": {},
   "outputs": [],
   "source": [
    "y_score = model.predict_proba(data_test[top_features])[:,1]\n",
    "\n",
    "data_test['pred'] = y_score"
   ]
  },
  {
   "cell_type": "code",
   "execution_count": 250,
   "metadata": {},
   "outputs": [
    {
     "name": "stdout",
     "output_type": "stream",
     "text": [
      "3637\n",
      "1113\n",
      "107\n",
      "58\n",
      "31\n",
      "19\n",
      "20\n",
      "9\n",
      "4\n",
      "2\n"
     ]
    }
   ],
   "source": [
    "buckets = []\n",
    "av_pred = []\n",
    "av_target = []\n",
    "\n",
    "for i in range(10):\n",
    "    min_score = i/10\n",
    "    max_score = (i+1)/10\n",
    "    buckets.append((min_score+max_score)/2)\n",
    "    \n",
    "    temp = data_test[(data_test.pred > min_score) & (data_test.pred <= max_score)]\n",
    "    print(len(temp))\n",
    "    \n",
    "    av_pred.append(np.mean(temp.pred))\n",
    "    av_target.append(np.mean(temp.target))"
   ]
  },
  {
   "cell_type": "code",
   "execution_count": 251,
   "metadata": {},
   "outputs": [
    {
     "data": {
      "text/plain": [
       "[<matplotlib.lines.Line2D at 0x7fb087229390>]"
      ]
     },
     "execution_count": 251,
     "metadata": {},
     "output_type": "execute_result"
    },
    {
     "data": {
      "image/png": "[encoded data removed]",
      "text/plain": [
       "<Figure size 432x288 with 1 Axes>"
      ]
     },
     "metadata": {
      "needs_background": "light"
     },
     "output_type": "display_data"
    }
   ],
   "source": [
    "plt.plot(buckets,av_target)\n",
    "plt.plot(buckets,av_pred)"
   ]
  },
  {
   "cell_type": "code",
   "execution_count": 252,
   "metadata": {},
   "outputs": [],
   "source": [
    "buckets = []\n",
    "av_pred = []\n",
    "av_target = []\n",
    "\n",
    "data_test = data_test.sort_values(by = 'pred', ascending=True)\n",
    "\n",
    "for i in range(20):\n",
    "    temp = data_test[len(data_test)*i//20:len(data_test)*(i+1)//20]\n",
    "    \n",
    "    buckets.append((np.min(temp.pred)+np.max(temp.pred))/2)\n",
    "    \n",
    "    av_pred.append(np.mean(temp.pred))\n",
    "    av_target.append(np.mean(temp.target))"
   ]
  },
  {
   "cell_type": "code",
   "execution_count": 253,
   "metadata": {},
   "outputs": [
    {
     "data": {
      "text/plain": [
       "[<matplotlib.lines.Line2D at 0x7fb07f240590>]"
      ]
     },
     "execution_count": 253,
     "metadata": {},
     "output_type": "execute_result"
    },
    {
     "data": {
      "image/png": "[encoded data removed]",
      "text/plain": [
       "<Figure size 432x288 with 1 Axes>"
      ]
     },
     "metadata": {
      "needs_background": "light"
     },
     "output_type": "display_data"
    }
   ],
   "source": [
    "plt.plot(buckets,av_target)\n",
    "plt.plot(buckets,av_pred)"
   ]
  },
  {
   "cell_type": "code",
   "execution_count": null,
   "metadata": {},
   "outputs": [],
   "source": []
  },
  {
   "cell_type": "code",
   "execution_count": 254,
   "metadata": {},
   "outputs": [],
   "source": [
    "imp = pd.DataFrame({'features': top_features, 'importance': model.feature_importances_})"
   ]
  },
  {
   "cell_type": "code",
   "execution_count": 255,
   "metadata": {},
   "outputs": [],
   "source": [
    "imp = imp.sort_values(by='importance',ascending=False).reset_index(drop=True)"
   ]
  },
  {
   "cell_type": "code",
   "execution_count": 256,
   "metadata": {},
   "outputs": [
    {
     "data": {
      "text/html": [
       "<div>\n",
       "<style scoped>\n",
       "    .dataframe tbody tr th:only-of-type {\n",
       "        vertical-align: middle;\n",
       "    }\n",
       "\n",
       "    .dataframe tbody tr th {\n",
       "        vertical-align: top;\n",
       "    }\n",
       "\n",
       "    .dataframe thead th {\n",
       "        text-align: right;\n",
       "    }\n",
       "</style>\n",
       "<table border=\"1\" class=\"dataframe\">\n",
       "  <thead>\n",
       "    <tr style=\"text-align: right;\">\n",
       "      <th></th>\n",
       "      <th>features</th>\n",
       "      <th>importance</th>\n",
       "    </tr>\n",
       "  </thead>\n",
       "  <tbody>\n",
       "    <tr>\n",
       "      <td>0</td>\n",
       "      <td>14</td>\n",
       "      <td>0.254074</td>\n",
       "    </tr>\n",
       "    <tr>\n",
       "      <td>1</td>\n",
       "      <td>13</td>\n",
       "      <td>0.073822</td>\n",
       "    </tr>\n",
       "    <tr>\n",
       "      <td>2</td>\n",
       "      <td>40</td>\n",
       "      <td>0.063889</td>\n",
       "    </tr>\n",
       "    <tr>\n",
       "      <td>3</td>\n",
       "      <td>32_101</td>\n",
       "      <td>0.060044</td>\n",
       "    </tr>\n",
       "    <tr>\n",
       "      <td>4</td>\n",
       "      <td>4_40</td>\n",
       "      <td>0.059419</td>\n",
       "    </tr>\n",
       "    <tr>\n",
       "      <td>5</td>\n",
       "      <td>39</td>\n",
       "      <td>0.054918</td>\n",
       "    </tr>\n",
       "    <tr>\n",
       "      <td>6</td>\n",
       "      <td>41_92</td>\n",
       "      <td>0.047373</td>\n",
       "    </tr>\n",
       "    <tr>\n",
       "      <td>7</td>\n",
       "      <td>42</td>\n",
       "      <td>0.046583</td>\n",
       "    </tr>\n",
       "    <tr>\n",
       "      <td>8</td>\n",
       "      <td>7</td>\n",
       "      <td>0.043216</td>\n",
       "    </tr>\n",
       "    <tr>\n",
       "      <td>9</td>\n",
       "      <td>31</td>\n",
       "      <td>0.037554</td>\n",
       "    </tr>\n",
       "    <tr>\n",
       "      <td>10</td>\n",
       "      <td>217_10</td>\n",
       "      <td>0.036082</td>\n",
       "    </tr>\n",
       "    <tr>\n",
       "      <td>11</td>\n",
       "      <td>41</td>\n",
       "      <td>0.035843</td>\n",
       "    </tr>\n",
       "    <tr>\n",
       "      <td>12</td>\n",
       "      <td>9</td>\n",
       "      <td>0.032077</td>\n",
       "    </tr>\n",
       "    <tr>\n",
       "      <td>13</td>\n",
       "      <td>8</td>\n",
       "      <td>0.030886</td>\n",
       "    </tr>\n",
       "    <tr>\n",
       "      <td>14</td>\n",
       "      <td>15</td>\n",
       "      <td>0.025626</td>\n",
       "    </tr>\n",
       "    <tr>\n",
       "      <td>15</td>\n",
       "      <td>11</td>\n",
       "      <td>0.025227</td>\n",
       "    </tr>\n",
       "    <tr>\n",
       "      <td>16</td>\n",
       "      <td>308_36</td>\n",
       "      <td>0.022147</td>\n",
       "    </tr>\n",
       "    <tr>\n",
       "      <td>17</td>\n",
       "      <td>326_51</td>\n",
       "      <td>0.020229</td>\n",
       "    </tr>\n",
       "    <tr>\n",
       "      <td>18</td>\n",
       "      <td>70</td>\n",
       "      <td>0.017051</td>\n",
       "    </tr>\n",
       "    <tr>\n",
       "      <td>19</td>\n",
       "      <td>34</td>\n",
       "      <td>0.012445</td>\n",
       "    </tr>\n",
       "  </tbody>\n",
       "</table>\n",
       "</div>"
      ],
      "text/plain": [
       "   features  importance\n",
       "0        14    0.254074\n",
       "1        13    0.073822\n",
       "2        40    0.063889\n",
       "3    32_101    0.060044\n",
       "4      4_40    0.059419\n",
       "5        39    0.054918\n",
       "6     41_92    0.047373\n",
       "7        42    0.046583\n",
       "8         7    0.043216\n",
       "9        31    0.037554\n",
       "10   217_10    0.036082\n",
       "11       41    0.035843\n",
       "12        9    0.032077\n",
       "13        8    0.030886\n",
       "14       15    0.025626\n",
       "15       11    0.025227\n",
       "16   308_36    0.022147\n",
       "17   326_51    0.020229\n",
       "18       70    0.017051\n",
       "19       34    0.012445"
      ]
     },
     "execution_count": 256,
     "metadata": {},
     "output_type": "execute_result"
    }
   ],
   "source": [
    "imp.head(20)"
   ]
  },
  {
   "cell_type": "code",
   "execution_count": null,
   "metadata": {},
   "outputs": [],
   "source": []
  },
  {
   "cell_type": "code",
   "execution_count": null,
   "metadata": {},
   "outputs": [],
   "source": []
  },
  {
   "cell_type": "code",
   "execution_count": 257,
   "metadata": {},
   "outputs": [],
   "source": [
    "import shap"
   ]
  },
  {
   "cell_type": "code",
   "execution_count": 258,
   "metadata": {},
   "outputs": [],
   "source": [
    "explainer = shap.TreeExplainer(model)"
   ]
  },
  {
   "cell_type": "code",
   "execution_count": 259,
   "metadata": {},
   "outputs": [],
   "source": [
    "shap_values = explainer.shap_values(data_train[top_features])"
   ]
  },
  {
   "cell_type": "code",
   "execution_count": 262,
   "metadata": {},
   "outputs": [
    {
     "data": {
      "image/png": "[encoded data removed]",
      "text/plain": [
       "<Figure size 576x712.8 with 2 Axes>"
      ]
     },
     "metadata": {
      "needs_background": "light"
     },
     "output_type": "display_data"
    }
   ],
   "source": [
    "shap.summary_plot(shap_values,data_train[top_features],max_display=30)"
   ]
  },
  {
   "cell_type": "code",
   "execution_count": null,
   "metadata": {},
   "outputs": [],
   "source": [
    "Importance by gain"
   ]
  },
  {
   "cell_type": "code",
   "execution_count": null,
   "metadata": {},
   "outputs": [],
   "source": []
  },
  {
   "cell_type": "code",
   "execution_count": null,
   "metadata": {},
   "outputs": [],
   "source": []
  },
  {
   "cell_type": "code",
   "execution_count": 174,
   "metadata": {},
   "outputs": [],
   "source": [
    "feature = '326_51'"
   ]
  },
  {
   "cell_type": "code",
   "execution_count": 177,
   "metadata": {},
   "outputs": [
    {
     "data": {
      "image/png": "[encoded data removed]",
      "text/plain": [
       "<Figure size 432x288 with 1 Axes>"
      ]
     },
     "metadata": {
      "needs_background": "light"
     },
     "output_type": "display_data"
    }
   ],
   "source": [
    "plot = plt.hist(np.log(data_train[feature]+0.0001),100)"
   ]
  },
  {
   "cell_type": "code",
   "execution_count": 176,
   "metadata": {},
   "outputs": [
    {
     "data": {
      "text/plain": [
       "[0.0,\n",
       " 1784.2624863432125,\n",
       " 1995.7174161136202,\n",
       " 2388.86504639564,\n",
       " 7801.192093067268,\n",
       " 17723.674031009243,\n",
       " 28029.246886783018,\n",
       " 40135.99876364761,\n",
       " 55526.24857500077,\n",
       " 57003.084858900555,\n",
       " 57336.436037402214,\n",
       " 58360.30035719849,\n",
       " 63289.14058347062,\n",
       " 69535.66909554944,\n",
       " 71047.31298049336,\n",
       " 72626.14098833544,\n",
       " 79711.61239738327,\n",
       " 80364.98573394105,\n",
       " 83799.38389829907,\n",
       " 88329.07624443025,\n",
       " 90782.65942382814,\n",
       " 93376.44722280628,\n",
       " 96122.81062508156,\n",
       " 99035.62012603403,\n",
       " 100046.18664715017,\n",
       " 102130.48003116019,\n",
       " 104303.46665630549,\n",
       " 105425.00810256529,\n",
       " 107392.77653912424,\n",
       " 108939.17113469187,\n",
       " 111415.0585742446,\n",
       " 112695.68995942971,\n",
       " 114006.10343522138,\n",
       " 116720.53123793165,\n",
       " 119567.36999149247,\n",
       " 121043.50853936454,\n",
       " 122556.55050480414,\n",
       " 125699.0221299637,\n",
       " 130726.97631122333,\n",
       " 132493.55468491773,\n",
       " 134308.53239981015,\n",
       " 136173.92609231628,\n",
       " 140064.6041368424,\n",
       " 142094.5229940157,\n",
       " 144184.14525918904,\n",
       " 146336.1442152979,\n",
       " 148553.35516217977,\n",
       " 150838.78787939376,\n",
       " 153195.64025742744,\n",
       " 155627.31322711206,\n",
       " 158137.42713381723,\n",
       " 160729.83972221983,\n",
       " 163408.6659195465,\n",
       " 166178.2996306681,\n",
       " 169043.43778785522,\n",
       " 172009.10693208224,\n",
       " 175080.69264232353,\n",
       " 178263.97217531208,\n",
       " 181565.15073193164,\n",
       " 184990.90182923016,\n",
       " 188548.4123307336,\n",
       " 192245.4327744334,\n",
       " 196090.33374012014,\n",
       " 200092.1691188259,\n",
       " 204260.74729093025,\n",
       " 208606.71139081367,\n",
       " 213141.6300407908,\n",
       " 217878.10018287474,\n",
       " 222829.86393302245,\n",
       " 228011.94174058622,\n",
       " 233440.7845704982,\n",
       " 239134.44835596453,\n",
       " 245112.79461899798,\n",
       " 251397.72195556885,\n",
       " 258013.43407094668,\n",
       " 264986.7512801149,\n",
       " 272347.47392477747,\n",
       " 280128.80809024494,\n",
       " 284254.1980446304,\n",
       " 288367.8664486099,\n",
       " 297106.26016404136,\n",
       " 306390.80177997507,\n",
       " 316274.34414854733,\n",
       " 326816.7871453556,\n",
       " 338086.2926693143,\n",
       " 350160.7599986922,\n",
       " 363129.62900283263,\n",
       " 377096.09947805514,\n",
       " 388752.5846447444,\n",
       " 392179.8831220428,\n",
       " 408520.64349895966,\n",
       " 426282.33338287147,\n",
       " 445658.715007631,\n",
       " 466880.4575235062,\n",
       " 490224.3636801507,\n",
       " 516025.5101835981,\n",
       " 544693.4348164389,\n",
       " 576734.0366256306,\n",
       " 612779.6886294074,\n",
       " 653631.3955266553,\n",
       " 700319.0188669639,\n",
       " 754189.2982391968,\n",
       " 817037.8826875928,\n",
       " 891313.3786092292,\n",
       " 980443.8251656865,\n",
       " 1089380.8175508475,\n",
       " 1225551.7176084528,\n",
       " 1400628.0333194358,\n",
       " 1634062.148304092,\n",
       " 1960868.0418470395,\n",
       " 2451072.797189916,\n",
       " 2603833.7217368614,\n",
       " 3268069.829685471,\n",
       " 3497626.328282483,\n",
       " 4902023.046867347,\n",
       " 9803555.940445337,\n",
       " 98045362960.39381]"
      ]
     },
     "execution_count": 176,
     "metadata": {},
     "output_type": "execute_result"
    }
   ],
   "source": [
    "sorted(pd.unique(data_train[feature]))"
   ]
  },
  {
   "cell_type": "code",
   "execution_count": 178,
   "metadata": {},
   "outputs": [],
   "source": [
    "min_f = min(data_train[feature])\n",
    "max_f = max(data_train[data_train[feature]<10000000][feature])"
   ]
  },
  {
   "cell_type": "code",
   "execution_count": 182,
   "metadata": {},
   "outputs": [
    {
     "name": "stdout",
     "output_type": "stream",
     "text": [
      "1574 246859.05944360574 0.048284625158831\n",
      "12233 404979.04616765137 0.07618736205346195\n",
      "732 728864.22272937 0.08060109289617487\n",
      "85 1077525.8815210878 0.11764705882352941\n",
      "75 1400628.0333194332 0.08\n",
      "24 1634062.1483040925 0.041666666666666664\n",
      "55 1960868.0418470388 0.18181818181818182\n",
      "45 2454467.4844020717 0.08888888888888889\n",
      "0 nan nan\n",
      "0 nan nan\n",
      "45 3273171.085209847 0.06666666666666667\n",
      "0 nan nan\n",
      "0 nan nan\n",
      "0 nan nan\n",
      "0 nan nan\n",
      "44 4902023.046867343 0.11363636363636363\n",
      "0 nan nan\n",
      "0 nan nan\n",
      "0 nan nan\n",
      "0 nan nan\n",
      "0 nan nan\n",
      "0 nan nan\n",
      "0 nan nan\n",
      "0 nan nan\n",
      "0 nan nan\n",
      "0 nan nan\n",
      "0 nan nan\n",
      "0 nan nan\n",
      "0 nan nan\n",
      "0 nan nan\n"
     ]
    }
   ],
   "source": [
    "bins = []\n",
    "target = []\n",
    "num_bins = 30\n",
    "\n",
    "for i in range(num_bins):\n",
    "    temp = data_train[(data_train[feature]>min_f+(max_f-min_f)/num_bins*i) & (data_train[feature]<min_f+(max_f-min_f)/num_bins*(i+1))]\n",
    "    bins.append(np.mean(temp[feature]))\n",
    "    target.append(np.mean(temp['target']))\n",
    "    print(len(temp),bins[-1],target[-1])"
   ]
  },
  {
   "cell_type": "code",
   "execution_count": 183,
   "metadata": {},
   "outputs": [
    {
     "data": {
      "text/plain": [
       "[<matplotlib.lines.Line2D at 0x7fb07fec5f10>]"
      ]
     },
     "execution_count": 183,
     "metadata": {},
     "output_type": "execute_result"
    },
    {
     "data": {
      "image/png": "[encoded data removed]",
      "text/plain": [
       "<Figure size 432x288 with 1 Axes>"
      ]
     },
     "metadata": {
      "needs_background": "light"
     },
     "output_type": "display_data"
    }
   ],
   "source": [
    "plt.plot(target[0:10])"
   ]
  },
  {
   "cell_type": "code",
   "execution_count": null,
   "metadata": {},
   "outputs": [],
   "source": []
  }
 ],
 "metadata": {
  "kernelspec": {
   "display_name": "Python 3 (ipykernel)",
   "language": "python",
   "name": "python3"
  },
  "language_info": {
   "codemirror_mode": {
    "name": "ipython",
    "version": 3
   },
   "file_extension": ".py",
   "mimetype": "text/x-python",
   "name": "python",
   "nbconvert_exporter": "python",
   "pygments_lexer": "ipython3",
   "version": "3.10.9"
  }
 },
 "nbformat": 4,
 "nbformat_minor": 2
}
