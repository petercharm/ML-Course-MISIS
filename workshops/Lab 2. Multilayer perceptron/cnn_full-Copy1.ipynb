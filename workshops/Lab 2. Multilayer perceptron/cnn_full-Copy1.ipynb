{
 "cells": [
  {
   "cell_type": "code",
   "execution_count": 55,
   "metadata": {},
   "outputs": [],
   "source": [
    "import numpy as np\n",
    "import pandas as pd\n",
    "import matplotlib.pyplot as plt\n",
    "\n",
    "%matplotlib inline"
   ]
  },
  {
   "cell_type": "markdown",
   "metadata": {},
   "source": [
    "<b> Загрузка и предобработка исходных данных"
   ]
  },
  {
   "cell_type": "code",
   "execution_count": 56,
   "metadata": {},
   "outputs": [],
   "source": [
    "data = pd.read_csv(\"../../Практические материалы/Lab 1. Linear and logistic regression/mnist/mnist_train.csv\")\n",
    "data_test = pd.read_csv(\"../../Практические материалы/Lab 1. Linear and logistic regression/mnist/mnist_test.csv\")"
   ]
  },
  {
   "cell_type": "code",
   "execution_count": 57,
   "metadata": {},
   "outputs": [
    {
     "data": {
      "text/html": [
       "<div>\n",
       "<style scoped>\n",
       "    .dataframe tbody tr th:only-of-type {\n",
       "        vertical-align: middle;\n",
       "    }\n",
       "\n",
       "    .dataframe tbody tr th {\n",
       "        vertical-align: top;\n",
       "    }\n",
       "\n",
       "    .dataframe thead th {\n",
       "        text-align: right;\n",
       "    }\n",
       "</style>\n",
       "<table border=\"1\" class=\"dataframe\">\n",
       "  <thead>\n",
       "    <tr style=\"text-align: right;\">\n",
       "      <th></th>\n",
       "      <th>label</th>\n",
       "      <th>1x1</th>\n",
       "      <th>1x2</th>\n",
       "      <th>1x3</th>\n",
       "      <th>1x4</th>\n",
       "      <th>1x5</th>\n",
       "      <th>1x6</th>\n",
       "      <th>1x7</th>\n",
       "      <th>1x8</th>\n",
       "      <th>1x9</th>\n",
       "      <th>...</th>\n",
       "      <th>28x19</th>\n",
       "      <th>28x20</th>\n",
       "      <th>28x21</th>\n",
       "      <th>28x22</th>\n",
       "      <th>28x23</th>\n",
       "      <th>28x24</th>\n",
       "      <th>28x25</th>\n",
       "      <th>28x26</th>\n",
       "      <th>28x27</th>\n",
       "      <th>28x28</th>\n",
       "    </tr>\n",
       "  </thead>\n",
       "  <tbody>\n",
       "    <tr>\n",
       "      <td>0</td>\n",
       "      <td>5</td>\n",
       "      <td>0</td>\n",
       "      <td>0</td>\n",
       "      <td>0</td>\n",
       "      <td>0</td>\n",
       "      <td>0</td>\n",
       "      <td>0</td>\n",
       "      <td>0</td>\n",
       "      <td>0</td>\n",
       "      <td>0</td>\n",
       "      <td>...</td>\n",
       "      <td>0</td>\n",
       "      <td>0</td>\n",
       "      <td>0</td>\n",
       "      <td>0</td>\n",
       "      <td>0</td>\n",
       "      <td>0</td>\n",
       "      <td>0</td>\n",
       "      <td>0</td>\n",
       "      <td>0</td>\n",
       "      <td>0</td>\n",
       "    </tr>\n",
       "    <tr>\n",
       "      <td>1</td>\n",
       "      <td>0</td>\n",
       "      <td>0</td>\n",
       "      <td>0</td>\n",
       "      <td>0</td>\n",
       "      <td>0</td>\n",
       "      <td>0</td>\n",
       "      <td>0</td>\n",
       "      <td>0</td>\n",
       "      <td>0</td>\n",
       "      <td>0</td>\n",
       "      <td>...</td>\n",
       "      <td>0</td>\n",
       "      <td>0</td>\n",
       "      <td>0</td>\n",
       "      <td>0</td>\n",
       "      <td>0</td>\n",
       "      <td>0</td>\n",
       "      <td>0</td>\n",
       "      <td>0</td>\n",
       "      <td>0</td>\n",
       "      <td>0</td>\n",
       "    </tr>\n",
       "    <tr>\n",
       "      <td>2</td>\n",
       "      <td>4</td>\n",
       "      <td>0</td>\n",
       "      <td>0</td>\n",
       "      <td>0</td>\n",
       "      <td>0</td>\n",
       "      <td>0</td>\n",
       "      <td>0</td>\n",
       "      <td>0</td>\n",
       "      <td>0</td>\n",
       "      <td>0</td>\n",
       "      <td>...</td>\n",
       "      <td>0</td>\n",
       "      <td>0</td>\n",
       "      <td>0</td>\n",
       "      <td>0</td>\n",
       "      <td>0</td>\n",
       "      <td>0</td>\n",
       "      <td>0</td>\n",
       "      <td>0</td>\n",
       "      <td>0</td>\n",
       "      <td>0</td>\n",
       "    </tr>\n",
       "    <tr>\n",
       "      <td>3</td>\n",
       "      <td>1</td>\n",
       "      <td>0</td>\n",
       "      <td>0</td>\n",
       "      <td>0</td>\n",
       "      <td>0</td>\n",
       "      <td>0</td>\n",
       "      <td>0</td>\n",
       "      <td>0</td>\n",
       "      <td>0</td>\n",
       "      <td>0</td>\n",
       "      <td>...</td>\n",
       "      <td>0</td>\n",
       "      <td>0</td>\n",
       "      <td>0</td>\n",
       "      <td>0</td>\n",
       "      <td>0</td>\n",
       "      <td>0</td>\n",
       "      <td>0</td>\n",
       "      <td>0</td>\n",
       "      <td>0</td>\n",
       "      <td>0</td>\n",
       "    </tr>\n",
       "    <tr>\n",
       "      <td>4</td>\n",
       "      <td>9</td>\n",
       "      <td>0</td>\n",
       "      <td>0</td>\n",
       "      <td>0</td>\n",
       "      <td>0</td>\n",
       "      <td>0</td>\n",
       "      <td>0</td>\n",
       "      <td>0</td>\n",
       "      <td>0</td>\n",
       "      <td>0</td>\n",
       "      <td>...</td>\n",
       "      <td>0</td>\n",
       "      <td>0</td>\n",
       "      <td>0</td>\n",
       "      <td>0</td>\n",
       "      <td>0</td>\n",
       "      <td>0</td>\n",
       "      <td>0</td>\n",
       "      <td>0</td>\n",
       "      <td>0</td>\n",
       "      <td>0</td>\n",
       "    </tr>\n",
       "  </tbody>\n",
       "</table>\n",
       "<p>5 rows × 785 columns</p>\n",
       "</div>"
      ],
      "text/plain": [
       "   label  1x1  1x2  1x3  1x4  1x5  1x6  1x7  1x8  1x9  ...  28x19  28x20  \\\n",
       "0      5    0    0    0    0    0    0    0    0    0  ...      0      0   \n",
       "1      0    0    0    0    0    0    0    0    0    0  ...      0      0   \n",
       "2      4    0    0    0    0    0    0    0    0    0  ...      0      0   \n",
       "3      1    0    0    0    0    0    0    0    0    0  ...      0      0   \n",
       "4      9    0    0    0    0    0    0    0    0    0  ...      0      0   \n",
       "\n",
       "   28x21  28x22  28x23  28x24  28x25  28x26  28x27  28x28  \n",
       "0      0      0      0      0      0      0      0      0  \n",
       "1      0      0      0      0      0      0      0      0  \n",
       "2      0      0      0      0      0      0      0      0  \n",
       "3      0      0      0      0      0      0      0      0  \n",
       "4      0      0      0      0      0      0      0      0  \n",
       "\n",
       "[5 rows x 785 columns]"
      ]
     },
     "execution_count": 57,
     "metadata": {},
     "output_type": "execute_result"
    }
   ],
   "source": [
    "data.head()"
   ]
  },
  {
   "cell_type": "code",
   "execution_count": 58,
   "metadata": {},
   "outputs": [],
   "source": [
    "X = data.iloc[:,1:].values\n",
    "X_test = data_test.iloc[:,1:].values"
   ]
  },
  {
   "cell_type": "code",
   "execution_count": 59,
   "metadata": {},
   "outputs": [],
   "source": [
    "mean = np.mean(X)\n",
    "std = np.std(X)\n",
    "\n",
    "X = (X - mean)/std\n",
    "X_test = (X_test - mean)/std"
   ]
  },
  {
   "cell_type": "code",
   "execution_count": 60,
   "metadata": {},
   "outputs": [],
   "source": [
    "m = len(X)\n",
    "n = 10\n",
    "\n",
    "Y = np.zeros([m,n])\n",
    "\n",
    "for i in range(m):\n",
    "    Y[i,data.label.values[i]] = 1"
   ]
  },
  {
   "cell_type": "code",
   "execution_count": 7,
   "metadata": {},
   "outputs": [
    {
     "data": {
      "text/plain": [
       "array([[0., 0., 0., ..., 0., 0., 0.],\n",
       "       [1., 0., 0., ..., 0., 0., 0.],\n",
       "       [0., 0., 0., ..., 0., 0., 0.],\n",
       "       ...,\n",
       "       [0., 0., 0., ..., 0., 0., 0.],\n",
       "       [0., 0., 0., ..., 0., 0., 0.],\n",
       "       [0., 0., 0., ..., 0., 1., 0.]])"
      ]
     },
     "execution_count": 7,
     "metadata": {},
     "output_type": "execute_result"
    }
   ],
   "source": [
    "Y"
   ]
  },
  {
   "cell_type": "code",
   "execution_count": 8,
   "metadata": {},
   "outputs": [],
   "source": [
    "def sigmoid(z):\n",
    "    return 1/(1+np.exp(-z))"
   ]
  },
  {
   "cell_type": "code",
   "execution_count": 9,
   "metadata": {},
   "outputs": [],
   "source": [
    "def tanh(z):\n",
    "    return (np.exp(z)-np.exp(-z))/(np.exp(z)+np.exp(-z))"
   ]
  },
  {
   "cell_type": "code",
   "execution_count": 10,
   "metadata": {},
   "outputs": [],
   "source": [
    "def relu(z):\n",
    "    return np.max(0,z)"
   ]
  },
  {
   "cell_type": "code",
   "execution_count": 11,
   "metadata": {},
   "outputs": [],
   "source": [
    "def softmax(z):\n",
    "    return np.exp(z)/np.sum(np.exp(z), axis = 1).reshape([len(z),1])"
   ]
  },
  {
   "cell_type": "code",
   "execution_count": 12,
   "metadata": {},
   "outputs": [],
   "source": [
    "def conv(z, filters, padding = 1):\n",
    "    height = z.shape[0]\n",
    "    width = z.shape[1]\n",
    "    depth = z.shape[2]\n",
    "    samples = z.shape[3]\n",
    "    n = filters.shape[0]\n",
    "    m = filters.shape[1]\n",
    "    l = filters.shape[2]\n",
    "    n_filters = filters.shape[3]\n",
    "    \n",
    "    z_pad = np.zeros([height+padding*2,width+padding*2,depth,samples])\n",
    "    if padding > 0:\n",
    "        z_pad[padding:-padding,padding:-padding,:,:] = z[:,:,:,:]\n",
    "    else:\n",
    "        z_pad = z\n",
    "    \n",
    "    output_h = height + padding * 2 - (n - 1)\n",
    "    output_w = width + padding * 2 - (n - 1)\n",
    "    result = np.zeros([output_h,output_w,n_filters,samples])\n",
    "    \n",
    "    for s in range(samples):\n",
    "        for k in range(n_filters):\n",
    "            for i in range(output_h):\n",
    "                for j in range(output_w):\n",
    "                    result[i,j,k,s] = np.sum(z_pad[i:i+n,j:j+m,0:l,s]*filters[:,:,:,k])\n",
    "\n",
    "    return result"
   ]
  },
  {
   "cell_type": "code",
   "execution_count": 13,
   "metadata": {},
   "outputs": [],
   "source": [
    "def max_pool(z, pool_size):\n",
    "    height = z.shape[0]\n",
    "    width = z.shape[1]\n",
    "    depth = z.shape[2]\n",
    "    samples = z.shape[3]\n",
    "    \n",
    "    h2 = (pool_size - height%pool_size)%pool_size\n",
    "    w2 = (pool_size - width%pool_size)%pool_size\n",
    "        \n",
    "    z_pad = np.zeros([height+h2,width+w2,depth,samples])\n",
    "    z_pad[:height,:width,:,:] = z\n",
    "\n",
    "    result = np.zeros([(height+h2)//pool_size,(width+w2)//pool_size,depth,samples])\n",
    "        \n",
    "    for s in range(samples):    \n",
    "        for k in range(depth):\n",
    "            for i in range(0,height+h2,pool_size):\n",
    "                for j in range(0,width+w2,pool_size):\n",
    "                    tmp = z_pad[i:i+pool_size,j:j+pool_size,k,s]\n",
    "                    result[i//pool_size,j//pool_size,k,s] = np.max(tmp)\n",
    "                    \n",
    "    return result"
   ]
  },
  {
   "cell_type": "code",
   "execution_count": 14,
   "metadata": {},
   "outputs": [],
   "source": [
    "def avg_pool(z, pool_size):\n",
    "    height = z.shape[0]\n",
    "    width = z.shape[1]\n",
    "    depth = z.shape[2]\n",
    "    samples = z.shape[3]\n",
    "    \n",
    "    h2 = (pool_size - height%pool_size)%pool_size\n",
    "    w2 = (pool_size - width%pool_size)%pool_size\n",
    "        \n",
    "    z_pad = np.zeros([height+h2,width+w2,depth,samples])\n",
    "    z_pad[:height,:width,:,:] = z[:,:,:,:]\n",
    "\n",
    "    result = np.zeros([(height+h2)//pool_size,(width+w2)//pool_size,depth,samples])\n",
    "    \n",
    "    for s in range(samples):\n",
    "        for k in range(depth):\n",
    "            for i in range(0,height+h2,pool_size):\n",
    "                for j in range(0,width+w2,pool_size):\n",
    "                    tmp = z_pad[i:i+pool_size,j:j+pool_size,k,s]\n",
    "                    result[i//pool_size,j//pool_size,k,s] = np.mean(tmp)\n",
    "                    \n",
    "    return result"
   ]
  },
  {
   "cell_type": "code",
   "execution_count": 15,
   "metadata": {},
   "outputs": [],
   "source": [
    "def flatten(z):\n",
    "    dim0 = z.shape[0]\n",
    "    dim1 = z.shape[1]\n",
    "    dim2 = z.shape[2]\n",
    "    dim3 = z.shape[3]\n",
    "    \n",
    "    result = np.zeros([dim3,dim0*dim1*dim2])\n",
    "    \n",
    "    for s in range(dim3):\n",
    "        result[s,:] = z[:,:,:,s].flatten()\n",
    "    \n",
    "    return result"
   ]
  },
  {
   "cell_type": "code",
   "execution_count": 16,
   "metadata": {},
   "outputs": [],
   "source": [
    "def d_conv(filters,f_prev,sigma,padding = 1):\n",
    "    d_filters = np.zeros_like(filters)\n",
    "    height = sigma.shape[0]\n",
    "    width = sigma.shape[1]\n",
    "    depth = sigma.shape[2]\n",
    "    samples = sigma.shape[3]\n",
    "    n = filters.shape[0]\n",
    "    m = filters.shape[1]\n",
    "    l = filters.shape[2]\n",
    "    n_filters = filters.shape[3]\n",
    "    \n",
    "    f_prev_pad = np.zeros([f_prev.shape[0]+padding*2,f_prev.shape[1]+padding*2,f_prev.shape[2],f_prev.shape[3]])\n",
    "    \n",
    "    if padding > 0:\n",
    "        f_prev_pad[padding:-padding,padding:-padding,:,:] = f_prev[:,:,:,:]\n",
    "    else:\n",
    "        f_prev_pad = f_prev\n",
    "    \n",
    "    #print(X)\n",
    "    sigma_new = np.zeros_like(f_prev_pad)\n",
    "    \n",
    "    for s in range(samples):\n",
    "        for k in range(n_filters):\n",
    "            for i in range(height):\n",
    "                for j in range(width):\n",
    "                    d_filters[:,:,:,k] += f_prev_pad[i:i+n,j:j+m,0:l,s]*sigma[i,j,k,s]\n",
    "                    sigma_new[i:i+n,j:j+m,0:l,s] += filters[:,:,:,k]*sigma[i,j,k,s]\n",
    "                \n",
    "    if padding > 0:\n",
    "        sigma_new = sigma_new[padding:-padding,padding:-padding,:,:]\n",
    "                \n",
    "    return d_filters,sigma_new"
   ]
  },
  {
   "cell_type": "code",
   "execution_count": 17,
   "metadata": {},
   "outputs": [],
   "source": [
    "def d_flat(z,size):\n",
    "    dim0 = size[0]\n",
    "    dim1 = size[1]\n",
    "    dim2 = size[2]\n",
    "    dim3 = size[3]\n",
    "    \n",
    "    result = np.zeros(size)\n",
    "    \n",
    "    for s in range(dim3):\n",
    "        result[:,:,:,s] = z[s,:].reshape([dim0,dim1,dim2])\n",
    "    \n",
    "    return result"
   ]
  },
  {
   "cell_type": "code",
   "execution_count": 18,
   "metadata": {},
   "outputs": [],
   "source": [
    "def d_max_pool(sigma,f_prev,pool_size):\n",
    "    result = np.zeros([sigma.shape[0]*pool_size,sigma.shape[1]*pool_size,sigma.shape[2],sigma.shape[3]])\n",
    "\n",
    "    for s in range(sigma.shape[3]):\n",
    "        for k in range(sigma.shape[2]):\n",
    "            for i in range(0,sigma.shape[0]*pool_size,pool_size):\n",
    "                for j in range(0,sigma.shape[1]*pool_size,pool_size):\n",
    "                    tmp = f_prev[i:i+pool_size,j:j+pool_size,k,s]\n",
    "                    max_ind = np.argmax(tmp.flatten())\n",
    "                    \n",
    "                    result[i+max_ind//pool_size,j+max_ind%pool_size,k,s] = sigma[i//pool_size,j//pool_size,k,s]\n",
    "\n",
    "    return result"
   ]
  },
  {
   "cell_type": "code",
   "execution_count": 19,
   "metadata": {},
   "outputs": [],
   "source": [
    "def d_avg_pool(sigma,f_prev,pool_size):\n",
    "    result = np.zeros([sigma.shape[0]*pool_size,sigma.shape[1]*pool_size,sigma.shape[2],sigma.shape[3]])\n",
    "\n",
    "    for s in range(sigma.shape[3]):\n",
    "        for k in range(sigma.shape[2]):\n",
    "            for i in range(0,sigma.shape[0]*pool_size,pool_size):\n",
    "                for j in range(0,sigma.shape[1]*pool_size,pool_size):\n",
    "                    result[i:i+pool_size,j:j+pool_size,k,s] = sigma[i//pool_size,j//pool_size,k,s]\n",
    "\n",
    "    return result/pool_size**2"
   ]
  },
  {
   "cell_type": "code",
   "execution_count": 20,
   "metadata": {},
   "outputs": [],
   "source": [
    "def d_softmax(z,sigma):\n",
    "    d_softmax = np.zeros([z.shape[1],z.shape[1],z.shape[0]])\n",
    "    \n",
    "    for k in range(z.shape[0]):\n",
    "        for i in range(d_softmax.shape[0]):\n",
    "            for j in range(d_softmax.shape[1]):\n",
    "                if i == j:\n",
    "                    d_softmax[i,j,k] += z[k,i]*(1-z[k,j])\n",
    "                else:\n",
    "                    d_softmax[i,j,k] += -z[k,i]*z[k,j]\n",
    "    \n",
    "    sigma_new = np.zeros_like(sigma)\n",
    "    for k in range(z.shape[0]):\n",
    "        sigma_new[k,:] = np.matmul(sigma[k:k+1,:],d_softmax[:,:,k]).flatten()\n",
    "    \n",
    "    return sigma_new"
   ]
  },
  {
   "cell_type": "code",
   "execution_count": 21,
   "metadata": {},
   "outputs": [],
   "source": [
    "def forward(X,filters,W,B,pool_size):\n",
    "    F0 = conv(X,filters[0],padding=2)\n",
    "    F1 = tanh(F0)\n",
    "    F2 = avg_pool(F1,pool_size)\n",
    "    F3 = conv(F2,filters[1],padding=0)\n",
    "    F4 = tanh(F3)\n",
    "    F5 = avg_pool(F4,pool_size)\n",
    "    F6 = conv(F5,filters[2],padding=0)\n",
    "    F7 = tanh(F6)\n",
    "    F8 = flatten(F7)\n",
    "    F9 = tanh(np.matmul(F8,W[0]) + B[0])\n",
    "    F10 = softmax(np.matmul(F9,W[1]) + B[1])\n",
    "    \n",
    "    return (F0,F1,F2,F3,F4,F5,F6,F7,F8,F9,F10)"
   ]
  },
  {
   "cell_type": "code",
   "execution_count": 22,
   "metadata": {},
   "outputs": [],
   "source": [
    "def backprop(X,F,W,Y,filters,pool_size):\n",
    "    sigma = (F[10] - Y)/(F[10]*(1-F[10]))\n",
    "    sigma = d_softmax(F[10],sigma)\n",
    "    \n",
    "    dW2 = np.matmul(F[9].T,sigma)\n",
    "    dB2 = np.sum(sigma, axis = 0)\n",
    "    \n",
    "    sigma = np.matmul(sigma,W[1].T)\n",
    "    sigma = sigma*(1-F[9]*F[9])\n",
    "    \n",
    "    dW1 = np.matmul(F[8].T,sigma)\n",
    "    dB1 = np.sum(sigma, axis = 0)\n",
    "    \n",
    "    sigma = np.matmul(sigma,W[0].T)\n",
    "    sigma = d_flat(sigma,F[7].shape)\n",
    "    sigma = sigma*(1-F[7]*F[7])\n",
    "    \n",
    "    d_filters3,sigma = d_conv(filters[2],F[5],sigma,padding=0)\n",
    "    sigma = d_avg_pool(sigma,F[4],pool_size)\n",
    "    \n",
    "    sigma = sigma*(1-F[4]*F[4])\n",
    "    \n",
    "    d_filters2,sigma = d_conv(filters[1],F[2],sigma,padding=0)\n",
    "    sigma = d_avg_pool(sigma,F[1],pool_size) \n",
    "    \n",
    "    sigma = sigma*(1-F[1]*F[1])\n",
    "    d_filters1,sigma = d_conv(filters[0],X,sigma,padding=2)\n",
    "    \n",
    "    return (dW2,dB2,dW1,dB1,d_filters3,d_filters2,d_filters1)    "
   ]
  },
  {
   "cell_type": "code",
   "execution_count": 71,
   "metadata": {},
   "outputs": [
    {
     "name": "stdout",
     "output_type": "stream",
     "text": [
      "421.58048140585606 330.3614435589921\n",
      "acc: 0.41\n",
      "306.58793924164144 327.65365575866207\n",
      "acc: 0.46\n",
      "259.412015156586 323.36716946318876\n",
      "acc: 0.47\n",
      "208.21547870526746 319.93845281871285\n",
      "acc: 0.53\n",
      "253.0531136463273 310.9786336936534\n",
      "acc: 0.54\n",
      "245.43314606363464 306.3247672624224\n",
      "acc: 0.56\n",
      "296.1150182332459 302.2859261351425\n",
      "acc: 0.56\n",
      "243.73137730509296 293.6316410900778\n",
      "acc: 0.58\n",
      "266.1612178911816 288.9403269212301\n",
      "acc: 0.58\n",
      "239.157770520668 286.46617487984787\n",
      "acc: 0.65\n",
      "258.0006668849255 290.09314653380886\n",
      "acc: 0.63\n",
      "245.0438786742986 283.7285332597868\n",
      "acc: 0.6\n",
      "258.18533205453554 276.0565677076948\n",
      "acc: 0.55\n",
      "259.368168551372 272.4028451540782\n",
      "acc: 0.55\n",
      "201.56325034960184 264.107256978949\n",
      "acc: 0.55\n",
      "207.49102798858783 249.83462675113108\n",
      "acc: 0.57\n",
      "213.5773803891438 243.63392282763127\n",
      "acc: 0.56\n",
      "168.1440120306603 237.5493892859029\n",
      "acc: 0.55\n",
      "207.174666681468 237.4800018176496\n",
      "acc: 0.53\n",
      "222.75231058777774 235.45994828041293\n",
      "acc: 0.55\n",
      "238.05570177589095 234.96811866123005\n",
      "acc: 0.52\n",
      "200.50734386217943 228.59427370315896\n",
      "acc: 0.54\n",
      "218.1508406563539 226.88890459324298\n",
      "acc: 0.6\n",
      "187.82440805686366 221.66645060428846\n",
      "acc: 0.62\n",
      "220.30630064709993 220.4096859460506\n",
      "acc: 0.62\n"
     ]
    },
    {
     "ename": "KeyboardInterrupt",
     "evalue": "",
     "output_type": "error",
     "traceback": [
      "\u001b[0;31m---------------------------------------------------------------------------\u001b[0m",
      "\u001b[0;31mKeyboardInterrupt\u001b[0m                         Traceback (most recent call last)",
      "\u001b[0;32m<ipython-input-71-cd791fc7a484>\u001b[0m in \u001b[0;36m<module>\u001b[0;34m\u001b[0m\n\u001b[1;32m     71\u001b[0m \u001b[0;34m\u001b[0m\u001b[0m\n\u001b[1;32m     72\u001b[0m     \u001b[0mY_batch\u001b[0m \u001b[0;34m=\u001b[0m \u001b[0mY\u001b[0m\u001b[0;34m[\u001b[0m\u001b[0mt\u001b[0m\u001b[0;34m:\u001b[0m\u001b[0mt\u001b[0m\u001b[0;34m+\u001b[0m\u001b[0mbatch_size\u001b[0m\u001b[0;34m,\u001b[0m\u001b[0;34m:\u001b[0m\u001b[0;34m]\u001b[0m\u001b[0;34m\u001b[0m\u001b[0;34m\u001b[0m\u001b[0m\n\u001b[0;32m---> 73\u001b[0;31m     \u001b[0mF\u001b[0m \u001b[0;34m=\u001b[0m \u001b[0mforward\u001b[0m\u001b[0;34m(\u001b[0m\u001b[0mX_batch\u001b[0m\u001b[0;34m,\u001b[0m\u001b[0mfilters\u001b[0m\u001b[0;34m,\u001b[0m\u001b[0mW\u001b[0m\u001b[0;34m,\u001b[0m\u001b[0mB\u001b[0m\u001b[0;34m,\u001b[0m\u001b[0mpool_size\u001b[0m\u001b[0;34m)\u001b[0m\u001b[0;34m\u001b[0m\u001b[0;34m\u001b[0m\u001b[0m\n\u001b[0m\u001b[1;32m     74\u001b[0m \u001b[0;34m\u001b[0m\u001b[0m\n\u001b[1;32m     75\u001b[0m     \u001b[0mJ\u001b[0m \u001b[0;34m=\u001b[0m \u001b[0;34m-\u001b[0m\u001b[0mnp\u001b[0m\u001b[0;34m.\u001b[0m\u001b[0msum\u001b[0m\u001b[0;34m(\u001b[0m\u001b[0mY_batch\u001b[0m\u001b[0;34m*\u001b[0m\u001b[0mnp\u001b[0m\u001b[0;34m.\u001b[0m\u001b[0mlog\u001b[0m\u001b[0;34m(\u001b[0m\u001b[0mF\u001b[0m\u001b[0;34m[\u001b[0m\u001b[0;34m-\u001b[0m\u001b[0;36m1\u001b[0m\u001b[0;34m]\u001b[0m\u001b[0;34m)\u001b[0m\u001b[0;34m+\u001b[0m\u001b[0;34m(\u001b[0m\u001b[0;36m1\u001b[0m\u001b[0;34m-\u001b[0m\u001b[0mY_batch\u001b[0m\u001b[0;34m)\u001b[0m\u001b[0;34m*\u001b[0m\u001b[0mnp\u001b[0m\u001b[0;34m.\u001b[0m\u001b[0mlog\u001b[0m\u001b[0;34m(\u001b[0m\u001b[0;36m1\u001b[0m\u001b[0;34m-\u001b[0m\u001b[0mF\u001b[0m\u001b[0;34m[\u001b[0m\u001b[0;34m-\u001b[0m\u001b[0;36m1\u001b[0m\u001b[0;34m]\u001b[0m\u001b[0;34m)\u001b[0m\u001b[0;34m)\u001b[0m\u001b[0;34m\u001b[0m\u001b[0;34m\u001b[0m\u001b[0m\n",
      "\u001b[0;32m<ipython-input-21-1c902c64fcb6>\u001b[0m in \u001b[0;36mforward\u001b[0;34m(X, filters, W, B, pool_size)\u001b[0m\n\u001b[1;32m      1\u001b[0m \u001b[0;32mdef\u001b[0m \u001b[0mforward\u001b[0m\u001b[0;34m(\u001b[0m\u001b[0mX\u001b[0m\u001b[0;34m,\u001b[0m\u001b[0mfilters\u001b[0m\u001b[0;34m,\u001b[0m\u001b[0mW\u001b[0m\u001b[0;34m,\u001b[0m\u001b[0mB\u001b[0m\u001b[0;34m,\u001b[0m\u001b[0mpool_size\u001b[0m\u001b[0;34m)\u001b[0m\u001b[0;34m:\u001b[0m\u001b[0;34m\u001b[0m\u001b[0;34m\u001b[0m\u001b[0m\n\u001b[0;32m----> 2\u001b[0;31m     \u001b[0mF0\u001b[0m \u001b[0;34m=\u001b[0m \u001b[0mconv\u001b[0m\u001b[0;34m(\u001b[0m\u001b[0mX\u001b[0m\u001b[0;34m,\u001b[0m\u001b[0mfilters\u001b[0m\u001b[0;34m[\u001b[0m\u001b[0;36m0\u001b[0m\u001b[0;34m]\u001b[0m\u001b[0;34m,\u001b[0m\u001b[0mpadding\u001b[0m\u001b[0;34m=\u001b[0m\u001b[0;36m2\u001b[0m\u001b[0;34m)\u001b[0m\u001b[0;34m\u001b[0m\u001b[0;34m\u001b[0m\u001b[0m\n\u001b[0m\u001b[1;32m      3\u001b[0m     \u001b[0mF1\u001b[0m \u001b[0;34m=\u001b[0m \u001b[0mtanh\u001b[0m\u001b[0;34m(\u001b[0m\u001b[0mF0\u001b[0m\u001b[0;34m)\u001b[0m\u001b[0;34m\u001b[0m\u001b[0;34m\u001b[0m\u001b[0m\n\u001b[1;32m      4\u001b[0m     \u001b[0mF2\u001b[0m \u001b[0;34m=\u001b[0m \u001b[0mavg_pool\u001b[0m\u001b[0;34m(\u001b[0m\u001b[0mF1\u001b[0m\u001b[0;34m,\u001b[0m\u001b[0mpool_size\u001b[0m\u001b[0;34m)\u001b[0m\u001b[0;34m\u001b[0m\u001b[0;34m\u001b[0m\u001b[0m\n\u001b[1;32m      5\u001b[0m     \u001b[0mF3\u001b[0m \u001b[0;34m=\u001b[0m \u001b[0mconv\u001b[0m\u001b[0;34m(\u001b[0m\u001b[0mF2\u001b[0m\u001b[0;34m,\u001b[0m\u001b[0mfilters\u001b[0m\u001b[0;34m[\u001b[0m\u001b[0;36m1\u001b[0m\u001b[0;34m]\u001b[0m\u001b[0;34m,\u001b[0m\u001b[0mpadding\u001b[0m\u001b[0;34m=\u001b[0m\u001b[0;36m0\u001b[0m\u001b[0;34m)\u001b[0m\u001b[0;34m\u001b[0m\u001b[0;34m\u001b[0m\u001b[0m\n",
      "\u001b[0;32m<ipython-input-12-4d19d6bab7c4>\u001b[0m in \u001b[0;36mconv\u001b[0;34m(z, filters, padding)\u001b[0m\n\u001b[1;32m     23\u001b[0m             \u001b[0;32mfor\u001b[0m \u001b[0mi\u001b[0m \u001b[0;32min\u001b[0m \u001b[0mrange\u001b[0m\u001b[0;34m(\u001b[0m\u001b[0moutput_h\u001b[0m\u001b[0;34m)\u001b[0m\u001b[0;34m:\u001b[0m\u001b[0;34m\u001b[0m\u001b[0;34m\u001b[0m\u001b[0m\n\u001b[1;32m     24\u001b[0m                 \u001b[0;32mfor\u001b[0m \u001b[0mj\u001b[0m \u001b[0;32min\u001b[0m \u001b[0mrange\u001b[0m\u001b[0;34m(\u001b[0m\u001b[0moutput_w\u001b[0m\u001b[0;34m)\u001b[0m\u001b[0;34m:\u001b[0m\u001b[0;34m\u001b[0m\u001b[0;34m\u001b[0m\u001b[0m\n\u001b[0;32m---> 25\u001b[0;31m                     \u001b[0mresult\u001b[0m\u001b[0;34m[\u001b[0m\u001b[0mi\u001b[0m\u001b[0;34m,\u001b[0m\u001b[0mj\u001b[0m\u001b[0;34m,\u001b[0m\u001b[0mk\u001b[0m\u001b[0;34m,\u001b[0m\u001b[0ms\u001b[0m\u001b[0;34m]\u001b[0m \u001b[0;34m=\u001b[0m \u001b[0mnp\u001b[0m\u001b[0;34m.\u001b[0m\u001b[0msum\u001b[0m\u001b[0;34m(\u001b[0m\u001b[0mz_pad\u001b[0m\u001b[0;34m[\u001b[0m\u001b[0mi\u001b[0m\u001b[0;34m:\u001b[0m\u001b[0mi\u001b[0m\u001b[0;34m+\u001b[0m\u001b[0mn\u001b[0m\u001b[0;34m,\u001b[0m\u001b[0mj\u001b[0m\u001b[0;34m:\u001b[0m\u001b[0mj\u001b[0m\u001b[0;34m+\u001b[0m\u001b[0mm\u001b[0m\u001b[0;34m,\u001b[0m\u001b[0;36m0\u001b[0m\u001b[0;34m:\u001b[0m\u001b[0ml\u001b[0m\u001b[0;34m,\u001b[0m\u001b[0ms\u001b[0m\u001b[0;34m]\u001b[0m\u001b[0;34m*\u001b[0m\u001b[0mfilters\u001b[0m\u001b[0;34m[\u001b[0m\u001b[0;34m:\u001b[0m\u001b[0;34m,\u001b[0m\u001b[0;34m:\u001b[0m\u001b[0;34m,\u001b[0m\u001b[0;34m:\u001b[0m\u001b[0;34m,\u001b[0m\u001b[0mk\u001b[0m\u001b[0;34m]\u001b[0m\u001b[0;34m)\u001b[0m\u001b[0;34m\u001b[0m\u001b[0;34m\u001b[0m\u001b[0m\n\u001b[0m\u001b[1;32m     26\u001b[0m \u001b[0;34m\u001b[0m\u001b[0m\n\u001b[1;32m     27\u001b[0m     \u001b[0;32mreturn\u001b[0m \u001b[0mresult\u001b[0m\u001b[0;34m\u001b[0m\u001b[0;34m\u001b[0m\u001b[0m\n",
      "\u001b[0;32m<__array_function__ internals>\u001b[0m in \u001b[0;36msum\u001b[0;34m(*args, **kwargs)\u001b[0m\n",
      "\u001b[0;32m~/opt/anaconda3/lib/python3.7/site-packages/numpy/core/fromnumeric.py\u001b[0m in \u001b[0;36msum\u001b[0;34m(a, axis, dtype, out, keepdims, initial, where)\u001b[0m\n\u001b[1;32m   2180\u001b[0m \u001b[0;34m\u001b[0m\u001b[0m\n\u001b[1;32m   2181\u001b[0m     return _wrapreduction(a, np.add, 'sum', axis, dtype, out, keepdims=keepdims,\n\u001b[0;32m-> 2182\u001b[0;31m                           initial=initial, where=where)\n\u001b[0m\u001b[1;32m   2183\u001b[0m \u001b[0;34m\u001b[0m\u001b[0m\n\u001b[1;32m   2184\u001b[0m \u001b[0;34m\u001b[0m\u001b[0m\n",
      "\u001b[0;32m~/opt/anaconda3/lib/python3.7/site-packages/numpy/core/fromnumeric.py\u001b[0m in \u001b[0;36m_wrapreduction\u001b[0;34m(obj, ufunc, method, axis, dtype, out, **kwargs)\u001b[0m\n\u001b[1;32m     88\u001b[0m                 \u001b[0;32mreturn\u001b[0m \u001b[0mreduction\u001b[0m\u001b[0;34m(\u001b[0m\u001b[0maxis\u001b[0m\u001b[0;34m=\u001b[0m\u001b[0maxis\u001b[0m\u001b[0;34m,\u001b[0m \u001b[0mout\u001b[0m\u001b[0;34m=\u001b[0m\u001b[0mout\u001b[0m\u001b[0;34m,\u001b[0m \u001b[0;34m**\u001b[0m\u001b[0mpasskwargs\u001b[0m\u001b[0;34m)\u001b[0m\u001b[0;34m\u001b[0m\u001b[0;34m\u001b[0m\u001b[0m\n\u001b[1;32m     89\u001b[0m \u001b[0;34m\u001b[0m\u001b[0m\n\u001b[0;32m---> 90\u001b[0;31m     \u001b[0;32mreturn\u001b[0m \u001b[0mufunc\u001b[0m\u001b[0;34m.\u001b[0m\u001b[0mreduce\u001b[0m\u001b[0;34m(\u001b[0m\u001b[0mobj\u001b[0m\u001b[0;34m,\u001b[0m \u001b[0maxis\u001b[0m\u001b[0;34m,\u001b[0m \u001b[0mdtype\u001b[0m\u001b[0;34m,\u001b[0m \u001b[0mout\u001b[0m\u001b[0;34m,\u001b[0m \u001b[0;34m**\u001b[0m\u001b[0mpasskwargs\u001b[0m\u001b[0;34m)\u001b[0m\u001b[0;34m\u001b[0m\u001b[0;34m\u001b[0m\u001b[0m\n\u001b[0m\u001b[1;32m     91\u001b[0m \u001b[0;34m\u001b[0m\u001b[0m\n\u001b[1;32m     92\u001b[0m \u001b[0;34m\u001b[0m\u001b[0m\n",
      "\u001b[0;31mKeyboardInterrupt\u001b[0m: "
     ]
    }
   ],
   "source": [
    "#filters1 = np.random.randn(5,5,1,6)\n",
    "#filters2 = np.random.randn(5,5,6,16)\n",
    "#filters3 = np.random.randn(5,5,16,120)\n",
    "\n",
    "#filters = [filters1,filters2,filters3]\n",
    "\n",
    "#W1 = np.random.randn(120,84)\n",
    "#B1 = np.random.randn(1,84)\n",
    "#W2 = np.random.randn(84,10)\n",
    "#B2 = np.random.randn(1,10)\n",
    "\n",
    "#W = [W1,W2]\n",
    "#B = [B1,B2]\n",
    "\n",
    "pool_size = 2\n",
    "\n",
    "batch_size = 100\n",
    "\n",
    "m = len(X)\n",
    "\n",
    "alpha = 0.01\n",
    "\n",
    "#Js = []\n",
    "\n",
    "# Adam optimizer\n",
    "\n",
    "v_filters1 = np.zeros_like(filters1)\n",
    "v_filters2 = np.zeros_like(filters2)\n",
    "v_filters3 = np.zeros_like(filters3)\n",
    "v_W2 = np.zeros_like(W2)\n",
    "v_B2 = np.zeros_like(B2)\n",
    "v_W1 = np.zeros_like(W1)\n",
    "v_B1 = np.zeros_like(B1)\n",
    "\n",
    "m_filters1 = np.zeros_like(filters1)\n",
    "m_filters2 = np.zeros_like(filters2)\n",
    "m_filters3 = np.zeros_like(filters3)\n",
    "m_W2 = np.zeros_like(W2)\n",
    "m_B2 = np.zeros_like(B2)\n",
    "m_W1 = np.zeros_like(W1)\n",
    "m_B1 = np.zeros_like(B1)\n",
    "\n",
    "v_hat_filters1 = np.zeros_like(filters1)\n",
    "v_hat_filters2 = np.zeros_like(filters2)\n",
    "v_hat_filters3 = np.zeros_like(filters3)\n",
    "v_hat_W2 = np.zeros_like(W2)\n",
    "v_hat_B2 = np.zeros_like(B2)\n",
    "v_hat_W1 = np.zeros_like(W1)\n",
    "v_hat_B1 = np.zeros_like(B1)\n",
    "\n",
    "m_hat_filters1 = np.zeros_like(filters1)\n",
    "m_hat_filters2 = np.zeros_like(filters2)\n",
    "m_hat_filters3 = np.zeros_like(filters3)\n",
    "m_hat_W2 = np.zeros_like(W2)\n",
    "m_hat_B2 = np.zeros_like(B2)\n",
    "m_hat_W1 = np.zeros_like(W1)\n",
    "m_hat_B1 = np.zeros_like(B1)\n",
    "\n",
    "beta1 = 0.90\n",
    "beta2 = 0.90\n",
    "\n",
    "X_tst = np.zeros([28,28,1,100])\n",
    "for k in range(100):\n",
    "    X_tst[:,:,0,k] = X_test[k,:].reshape([28,28])\n",
    "Y_tst = data_test.label.values[0:100]\n",
    "\n",
    "for t in range(0,m,batch_size):\n",
    "    X_batch = np.zeros([28,28,1,batch_size])\n",
    "    for k in range(batch_size):\n",
    "        X_batch[:,:,0,k] = X[t+k,:].reshape([28,28])\n",
    "        \n",
    "    Y_batch = Y[t:t+batch_size,:]\n",
    "    F = forward(X_batch,filters,W,B,pool_size)\n",
    "        \n",
    "    J = -np.sum(Y_batch*np.log(F[-1])+(1-Y_batch)*np.log(1-F[-1]))\n",
    "    Js.append(J)\n",
    "    \n",
    "    print(Js[-1], np.mean(Js[-15:]))\n",
    "        \n",
    "    grads = backprop(X_batch,F,W,Y_batch,filters,pool_size)\n",
    "\n",
    "    m_filters1 = beta1*m_filters1 + (1 - beta1)*grads[6]\n",
    "    m_filters2 = beta1*m_filters2 + (1 - beta1)*grads[5]\n",
    "    m_filters3 = beta1*m_filters3 + (1 - beta1)*grads[4]\n",
    "    m_W2 = beta1*m_W2 + (1 - beta1)*grads[0]\n",
    "    m_B2 = beta1*m_B2 + (1 - beta1)*grads[1]\n",
    "    m_W1 = beta1*m_W1 + (1 - beta1)*grads[2]\n",
    "    m_B1 = beta1*m_B1 + (1 - beta1)*grads[3]\n",
    "    \n",
    "    v_filters1 = beta2*v_filters1 + (1 - beta2)*grads[6]**2\n",
    "    v_filters2 = beta2*v_filters2 + (1 - beta2)*grads[5]**2\n",
    "    v_filters3 = beta2*v_filters3 + (1 - beta2)*grads[4]**2\n",
    "    v_W2 = beta2*v_W2 + (1 - beta2)*grads[0]**2\n",
    "    v_B2 = beta2*v_B2 + (1 - beta2)*grads[1]**2\n",
    "    v_W1 = beta2*v_W1 + (1 - beta2)*grads[2]**2\n",
    "    v_B1 = beta2*v_B1 + (1 - beta2)*grads[3]**2\n",
    "\n",
    "    m_hat_filters1 = m_filters1/(1-beta1**(t+1))\n",
    "    m_hat_filters2 = m_filters2/(1-beta1**(t+1))\n",
    "    m_hat_filters3 = m_filters3/(1-beta1**(t+1))\n",
    "    m_hat_W2 = m_W2/(1-beta1**(t+1))\n",
    "    m_hat_B2 = m_B2/(1-beta1**(t+1))\n",
    "    m_hat_W1 = m_W1/(1-beta1**(t+1))\n",
    "    m_hat_B1 = m_B1/(1-beta1**(t+1))\n",
    "\n",
    "    v_hat_filters1 = v_filters1/(1-beta2**(t+1))\n",
    "    v_hat_filters2 = v_filters2/(1-beta2**(t+1))\n",
    "    v_hat_filters3 = v_filters3/(1-beta2**(t+1))\n",
    "    v_hat_W2 = v_W2/(1-beta2**(t+1))\n",
    "    v_hat_B2 = v_B2/(1-beta2**(t+1))\n",
    "    v_hat_W1 = v_W1/(1-beta2**(t+1))\n",
    "    v_hat_B1 = v_B1/(1-beta2**(t+1))    \n",
    "    \n",
    "    W2 += -alpha*m_hat_W2/(np.sqrt(v_hat_W2+0.00001))\n",
    "    B2 += -alpha*m_hat_B2/(np.sqrt(v_hat_B2+0.00001))\n",
    "    W1 += -alpha*m_hat_W1/(np.sqrt(v_hat_W1+0.00001))\n",
    "    B1 += -alpha*m_hat_B1/(np.sqrt(v_hat_B1+0.00001))\n",
    "    filters3 += -alpha*m_hat_filters3/(np.sqrt(v_hat_filters3+0.00001))\n",
    "    filters2 += -alpha*m_hat_filters2/(np.sqrt(v_hat_filters2+0.00001))\n",
    "    filters1 += -alpha*m_hat_filters1/(np.sqrt(v_hat_filters1+0.00001))\n",
    "\n",
    "    F = forward(X_tst,filters,W,B,pool_size)\n",
    "    predict = np.argmax(F[-1],axis = 1)\n",
    "    print('acc:',np.mean(predict == Y_tst))"
   ]
  },
  {
   "cell_type": "code",
   "execution_count": 76,
   "metadata": {},
   "outputs": [
    {
     "data": {
      "text/plain": [
       "<matplotlib.image.AxesImage at 0x7fb4f3fa7ed0>"
      ]
     },
     "execution_count": 76,
     "metadata": {},
     "output_type": "execute_result"
    },
    {
     "data": {
      "image/png": "[encoded data removed]",
      "text/plain": [
       "<Figure size 432x288 with 1 Axes>"
      ]
     },
     "metadata": {
      "needs_background": "light"
     },
     "output_type": "display_data"
    }
   ],
   "source": [
    "plt.imshow(X_tst[:,:,0,0])"
   ]
  },
  {
   "cell_type": "code",
   "execution_count": 149,
   "metadata": {},
   "outputs": [
    {
     "data": {
      "text/plain": [
       "<matplotlib.image.AxesImage at 0x7fb4b4e97890>"
      ]
     },
     "execution_count": 149,
     "metadata": {},
     "output_type": "execute_result"
    },
    {
     "data": {
      "image/png": "[encoded data removed]",
      "text/plain": [
       "<Figure size 432x288 with 1 Axes>"
      ]
     },
     "metadata": {
      "needs_background": "light"
     },
     "output_type": "display_data"
    }
   ],
   "source": [
    "plt.imshow(filters3[:,:,0,70])"
   ]
  },
  {
   "cell_type": "code",
   "execution_count": null,
   "metadata": {},
   "outputs": [],
   "source": []
  },
  {
   "cell_type": "code",
   "execution_count": null,
   "metadata": {},
   "outputs": [],
   "source": [
    "for i in range(0,m,batch_size):\n",
    "    X_batch = np.zeros([28,28,1,batch_size])\n",
    "    for k in range(batch_size):\n",
    "        X_batch[:,:,0,k] = X[i+k,:].reshape([28,28])\n",
    "        \n",
    "    Y_batch = Y[i:i+batch_size,:]\n",
    "    F = forward(X_batch,filters,W,B,pool_size)\n",
    "    J = -np.sum(Y_batch*np.log(F[-1])+(1-Y_batch)*np.log(1-F[-1]))\n",
    "    Js.append(J)\n",
    "    \n",
    "    print(np.mean(Js[-15:]))\n",
    "    \n",
    "    grads = backprop(X_batch,F,W,Y_batch,filters,pool_size)\n",
    "    \n",
    "    W2 = W2 - alpha*grads[0]\n",
    "    B2 = B2 - alpha*grads[1]\n",
    "    W1 = W1 - alpha*grads[2]\n",
    "    B1 = B1 - alpha*grads[3]\n",
    "    filters3 = filters3 - alpha*grads[4]\n",
    "    filters2 = filters2 - alpha*grads[5]\n",
    "    filters1 = filters1 - alpha*grads[6]"
   ]
  },
  {
   "cell_type": "code",
   "execution_count": null,
   "metadata": {},
   "outputs": [],
   "source": []
  },
  {
   "cell_type": "code",
   "execution_count": null,
   "metadata": {},
   "outputs": [],
   "source": []
  },
  {
   "cell_type": "code",
   "execution_count": null,
   "metadata": {},
   "outputs": [],
   "source": []
  },
  {
   "cell_type": "code",
   "execution_count": null,
   "metadata": {},
   "outputs": [],
   "source": []
  },
  {
   "cell_type": "code",
   "execution_count": null,
   "metadata": {},
   "outputs": [],
   "source": [
    "grads = backprop(X,F,W,Y,filters,pool_size)"
   ]
  },
  {
   "cell_type": "code",
   "execution_count": null,
   "metadata": {},
   "outputs": [],
   "source": [
    "F = forward(X,filters,W,B,pool_size)\n",
    "J1 = -np.sum(Y*np.log(F[-1])+(1-Y)*np.log(1-F[-1]))\n",
    "filters1[3,3,0,0] += 0.0000001\n",
    "F = forward(X,filters,W,B,pool_size)\n",
    "J2 = -np.sum(Y*np.log(F[-1])+(1-Y)*np.log(1-F[-1]))\n",
    "filters1[3,3,0,0] -= 0.0000001\n",
    "print((J2-J1)/0.0000001)"
   ]
  },
  {
   "cell_type": "code",
   "execution_count": null,
   "metadata": {},
   "outputs": [],
   "source": [
    "grads[6][3,3,0,0]"
   ]
  },
  {
   "cell_type": "code",
   "execution_count": null,
   "metadata": {},
   "outputs": [],
   "source": []
  },
  {
   "cell_type": "code",
   "execution_count": 198,
   "metadata": {},
   "outputs": [
    {
     "data": {
      "text/plain": [
       "(10000, 784)"
      ]
     },
     "execution_count": 198,
     "metadata": {},
     "output_type": "execute_result"
    }
   ],
   "source": [
    "X_test.shape"
   ]
  },
  {
   "cell_type": "code",
   "execution_count": 199,
   "metadata": {},
   "outputs": [],
   "source": [
    "X_tst = np.zeros([28,28,1,100])\n",
    "for i in range(100):\n",
    "    X_tst[:,:,0,i] = X_test[i,:].reshape(28,28)"
   ]
  },
  {
   "cell_type": "code",
   "execution_count": 202,
   "metadata": {},
   "outputs": [
    {
     "name": "stderr",
     "output_type": "stream",
     "text": [
      "100%|██████████| 100/100 [00:05<00:00, 16.77it/s]\n"
     ]
    }
   ],
   "source": [
    "from tqdm import tqdm\n",
    "\n",
    "pred = []\n",
    "for i in tqdm(range(100)):\n",
    "    F = forward(X_tst[:,:,:,i:i+1],filters,W,B,pool_size)\n",
    "    pred.append(np.argmax(F[-1]))"
   ]
  },
  {
   "cell_type": "code",
   "execution_count": 206,
   "metadata": {},
   "outputs": [
    {
     "data": {
      "text/plain": [
       "0.15"
      ]
     },
     "execution_count": 206,
     "metadata": {},
     "output_type": "execute_result"
    }
   ],
   "source": [
    "np.mean(pred == data_test.label.values[0:100])"
   ]
  },
  {
   "cell_type": "code",
   "execution_count": null,
   "metadata": {},
   "outputs": [],
   "source": []
  },
  {
   "cell_type": "code",
   "execution_count": null,
   "metadata": {},
   "outputs": [],
   "source": []
  },
  {
   "cell_type": "code",
   "execution_count": null,
   "metadata": {},
   "outputs": [],
   "source": []
  },
  {
   "cell_type": "code",
   "execution_count": null,
   "metadata": {},
   "outputs": [],
   "source": []
  },
  {
   "cell_type": "code",
   "execution_count": null,
   "metadata": {},
   "outputs": [],
   "source": [
    "from keras import Sequential\n",
    "from keras.layers import Conv2D, Flatten, AveragePooling2D, Dense\n",
    "from keras.optimizers import Adam, SGD"
   ]
  },
  {
   "cell_type": "code",
   "execution_count": null,
   "metadata": {},
   "outputs": [],
   "source": [
    "model = Sequential()\n",
    "\n",
    "model.add(Conv2D(filters=6, kernel_size=(5, 5), activation='tanh', padding = 'same', input_shape=(28,28,1)))\n",
    "model.add(AveragePooling2D())\n",
    "\n",
    "model.add(Conv2D(filters=16, kernel_size=(5, 5), activation='tanh', padding = 'valid'))\n",
    "model.add(AveragePooling2D())\n",
    "\n",
    "model.add(Conv2D(filters=120, kernel_size=(5, 5), activation='tanh', padding = 'valid'))\n",
    "\n",
    "model.add(Flatten())\n",
    "\n",
    "model.add(Dense(units=84, activation='tanh'))\n",
    "\n",
    "model.add(Dense(units=10, activation = 'softmax'))\n",
    "\n",
    "opt = Adam()\n",
    "\n",
    "model.compile(optimizer = opt, loss = 'categorical_crossentropy',metrics = ['categorical_crossentropy','accuracy'])\n",
    "\n",
    "model.summary()"
   ]
  },
  {
   "cell_type": "code",
   "execution_count": null,
   "metadata": {},
   "outputs": [],
   "source": [
    "X_train = np.zeros([60000,28,28,1])\n",
    "for i in range(60000):\n",
    "    X_train[i,:,:,0] = X[i,:].reshape(28,28)"
   ]
  },
  {
   "cell_type": "code",
   "execution_count": null,
   "metadata": {
    "scrolled": false
   },
   "outputs": [],
   "source": [
    "model.fit(X_train, Y, batch_size = 1, epochs=10)"
   ]
  },
  {
   "cell_type": "code",
   "execution_count": null,
   "metadata": {},
   "outputs": [],
   "source": [
    "Доделать производные других слоев\n",
    "\n",
    "Обучить 1 итерацию сравнить ошибку с Keras для разных размеров батча\n",
    "\n",
    "batch = 1\n",
    "\n",
    "Сделать batch_normalization\n",
    "\n",
    "Сделать dropout"
   ]
  },
  {
   "cell_type": "code",
   "execution_count": null,
   "metadata": {},
   "outputs": [],
   "source": []
  },
  {
   "cell_type": "code",
   "execution_count": null,
   "metadata": {},
   "outputs": [],
   "source": []
  }
 ],
 "metadata": {
  "kernelspec": {
   "display_name": "Python 3",
   "language": "python",
   "name": "python3"
  },
  "language_info": {
   "codemirror_mode": {
    "name": "ipython",
    "version": 3
   },
   "file_extension": ".py",
   "mimetype": "text/x-python",
   "name": "python",
   "nbconvert_exporter": "python",
   "pygments_lexer": "ipython3",
   "version": "3.7.4"
  }
 },
 "nbformat": 4,
 "nbformat_minor": 2
}
