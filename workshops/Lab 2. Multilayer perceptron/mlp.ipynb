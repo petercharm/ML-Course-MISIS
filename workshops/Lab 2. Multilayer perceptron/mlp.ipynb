{
 "cells": [
  {
   "cell_type": "code",
   "execution_count": 1,
   "metadata": {},
   "outputs": [],
   "source": [
    "import numpy as np\n",
    "import pandas as pd"
   ]
  },
  {
   "cell_type": "markdown",
   "metadata": {},
   "source": [
    "<b> Загрузка и предобработка исходных данных"
   ]
  },
  {
   "cell_type": "code",
   "execution_count": 2,
   "metadata": {},
   "outputs": [],
   "source": [
    "data = pd.read_csv(\"../../Практические материалы/Lab 1. Linear and logistic regression/mnist/mnist_train.csv\")\n",
    "data_test = pd.read_csv(\"../../Практические материалы/Lab 1. Linear and logistic regression/mnist/mnist_test.csv\")"
   ]
  },
  {
   "cell_type": "code",
   "execution_count": 3,
   "metadata": {},
   "outputs": [
    {
     "data": {
      "text/html": [
       "<div>\n",
       "<style scoped>\n",
       "    .dataframe tbody tr th:only-of-type {\n",
       "        vertical-align: middle;\n",
       "    }\n",
       "\n",
       "    .dataframe tbody tr th {\n",
       "        vertical-align: top;\n",
       "    }\n",
       "\n",
       "    .dataframe thead th {\n",
       "        text-align: right;\n",
       "    }\n",
       "</style>\n",
       "<table border=\"1\" class=\"dataframe\">\n",
       "  <thead>\n",
       "    <tr style=\"text-align: right;\">\n",
       "      <th></th>\n",
       "      <th>label</th>\n",
       "      <th>1x1</th>\n",
       "      <th>1x2</th>\n",
       "      <th>1x3</th>\n",
       "      <th>1x4</th>\n",
       "      <th>1x5</th>\n",
       "      <th>1x6</th>\n",
       "      <th>1x7</th>\n",
       "      <th>1x8</th>\n",
       "      <th>1x9</th>\n",
       "      <th>...</th>\n",
       "      <th>28x19</th>\n",
       "      <th>28x20</th>\n",
       "      <th>28x21</th>\n",
       "      <th>28x22</th>\n",
       "      <th>28x23</th>\n",
       "      <th>28x24</th>\n",
       "      <th>28x25</th>\n",
       "      <th>28x26</th>\n",
       "      <th>28x27</th>\n",
       "      <th>28x28</th>\n",
       "    </tr>\n",
       "  </thead>\n",
       "  <tbody>\n",
       "    <tr>\n",
       "      <td>0</td>\n",
       "      <td>5</td>\n",
       "      <td>0</td>\n",
       "      <td>0</td>\n",
       "      <td>0</td>\n",
       "      <td>0</td>\n",
       "      <td>0</td>\n",
       "      <td>0</td>\n",
       "      <td>0</td>\n",
       "      <td>0</td>\n",
       "      <td>0</td>\n",
       "      <td>...</td>\n",
       "      <td>0</td>\n",
       "      <td>0</td>\n",
       "      <td>0</td>\n",
       "      <td>0</td>\n",
       "      <td>0</td>\n",
       "      <td>0</td>\n",
       "      <td>0</td>\n",
       "      <td>0</td>\n",
       "      <td>0</td>\n",
       "      <td>0</td>\n",
       "    </tr>\n",
       "    <tr>\n",
       "      <td>1</td>\n",
       "      <td>0</td>\n",
       "      <td>0</td>\n",
       "      <td>0</td>\n",
       "      <td>0</td>\n",
       "      <td>0</td>\n",
       "      <td>0</td>\n",
       "      <td>0</td>\n",
       "      <td>0</td>\n",
       "      <td>0</td>\n",
       "      <td>0</td>\n",
       "      <td>...</td>\n",
       "      <td>0</td>\n",
       "      <td>0</td>\n",
       "      <td>0</td>\n",
       "      <td>0</td>\n",
       "      <td>0</td>\n",
       "      <td>0</td>\n",
       "      <td>0</td>\n",
       "      <td>0</td>\n",
       "      <td>0</td>\n",
       "      <td>0</td>\n",
       "    </tr>\n",
       "    <tr>\n",
       "      <td>2</td>\n",
       "      <td>4</td>\n",
       "      <td>0</td>\n",
       "      <td>0</td>\n",
       "      <td>0</td>\n",
       "      <td>0</td>\n",
       "      <td>0</td>\n",
       "      <td>0</td>\n",
       "      <td>0</td>\n",
       "      <td>0</td>\n",
       "      <td>0</td>\n",
       "      <td>...</td>\n",
       "      <td>0</td>\n",
       "      <td>0</td>\n",
       "      <td>0</td>\n",
       "      <td>0</td>\n",
       "      <td>0</td>\n",
       "      <td>0</td>\n",
       "      <td>0</td>\n",
       "      <td>0</td>\n",
       "      <td>0</td>\n",
       "      <td>0</td>\n",
       "    </tr>\n",
       "    <tr>\n",
       "      <td>3</td>\n",
       "      <td>1</td>\n",
       "      <td>0</td>\n",
       "      <td>0</td>\n",
       "      <td>0</td>\n",
       "      <td>0</td>\n",
       "      <td>0</td>\n",
       "      <td>0</td>\n",
       "      <td>0</td>\n",
       "      <td>0</td>\n",
       "      <td>0</td>\n",
       "      <td>...</td>\n",
       "      <td>0</td>\n",
       "      <td>0</td>\n",
       "      <td>0</td>\n",
       "      <td>0</td>\n",
       "      <td>0</td>\n",
       "      <td>0</td>\n",
       "      <td>0</td>\n",
       "      <td>0</td>\n",
       "      <td>0</td>\n",
       "      <td>0</td>\n",
       "    </tr>\n",
       "    <tr>\n",
       "      <td>4</td>\n",
       "      <td>9</td>\n",
       "      <td>0</td>\n",
       "      <td>0</td>\n",
       "      <td>0</td>\n",
       "      <td>0</td>\n",
       "      <td>0</td>\n",
       "      <td>0</td>\n",
       "      <td>0</td>\n",
       "      <td>0</td>\n",
       "      <td>0</td>\n",
       "      <td>...</td>\n",
       "      <td>0</td>\n",
       "      <td>0</td>\n",
       "      <td>0</td>\n",
       "      <td>0</td>\n",
       "      <td>0</td>\n",
       "      <td>0</td>\n",
       "      <td>0</td>\n",
       "      <td>0</td>\n",
       "      <td>0</td>\n",
       "      <td>0</td>\n",
       "    </tr>\n",
       "  </tbody>\n",
       "</table>\n",
       "<p>5 rows × 785 columns</p>\n",
       "</div>"
      ],
      "text/plain": [
       "   label  1x1  1x2  1x3  1x4  1x5  1x6  1x7  1x8  1x9  ...  28x19  28x20  \\\n",
       "0      5    0    0    0    0    0    0    0    0    0  ...      0      0   \n",
       "1      0    0    0    0    0    0    0    0    0    0  ...      0      0   \n",
       "2      4    0    0    0    0    0    0    0    0    0  ...      0      0   \n",
       "3      1    0    0    0    0    0    0    0    0    0  ...      0      0   \n",
       "4      9    0    0    0    0    0    0    0    0    0  ...      0      0   \n",
       "\n",
       "   28x21  28x22  28x23  28x24  28x25  28x26  28x27  28x28  \n",
       "0      0      0      0      0      0      0      0      0  \n",
       "1      0      0      0      0      0      0      0      0  \n",
       "2      0      0      0      0      0      0      0      0  \n",
       "3      0      0      0      0      0      0      0      0  \n",
       "4      0      0      0      0      0      0      0      0  \n",
       "\n",
       "[5 rows x 785 columns]"
      ]
     },
     "execution_count": 3,
     "metadata": {},
     "output_type": "execute_result"
    }
   ],
   "source": [
    "data.head()"
   ]
  },
  {
   "cell_type": "code",
   "execution_count": 31,
   "metadata": {},
   "outputs": [],
   "source": [
    "X = data.iloc[0:2,1:].values\n",
    "X_test = data_test.iloc[:,1:].values"
   ]
  },
  {
   "cell_type": "code",
   "execution_count": 32,
   "metadata": {},
   "outputs": [],
   "source": [
    "mean = np.mean(X)\n",
    "std = np.std(X)\n",
    "\n",
    "X = (X - mean)/std\n",
    "X_test = (X_test - mean)/std"
   ]
  },
  {
   "cell_type": "code",
   "execution_count": 33,
   "metadata": {},
   "outputs": [],
   "source": [
    "m = len(X)\n",
    "n = 10\n",
    "\n",
    "Y = np.zeros([m,n])\n",
    "\n",
    "for i in range(m):\n",
    "    Y[i,data.label.values[i]] = 1"
   ]
  },
  {
   "cell_type": "code",
   "execution_count": 34,
   "metadata": {},
   "outputs": [
    {
     "data": {
      "text/plain": [
       "array([[0., 0., 0., 0., 0., 1., 0., 0., 0., 0.],\n",
       "       [1., 0., 0., 0., 0., 0., 0., 0., 0., 0.]])"
      ]
     },
     "execution_count": 34,
     "metadata": {},
     "output_type": "execute_result"
    }
   ],
   "source": [
    "Y"
   ]
  },
  {
   "cell_type": "code",
   "execution_count": 35,
   "metadata": {},
   "outputs": [],
   "source": [
    "def sigmoid(z):\n",
    "    return 1/(1+np.exp(-z))"
   ]
  },
  {
   "cell_type": "code",
   "execution_count": 36,
   "metadata": {},
   "outputs": [],
   "source": [
    "def tanh(z):\n",
    "    return (np.exp(z)-np.exp(-z))/(np.exp(z)+np.exp(-z))"
   ]
  },
  {
   "cell_type": "code",
   "execution_count": 37,
   "metadata": {},
   "outputs": [],
   "source": [
    "def relu(z):\n",
    "    return np.max(0,z)"
   ]
  },
  {
   "cell_type": "code",
   "execution_count": 38,
   "metadata": {},
   "outputs": [],
   "source": [
    "def softmax(z):\n",
    "    return np.exp(z)/np.sum(np.exp(z), axis = 1).reshape([len(z),1])"
   ]
  },
  {
   "cell_type": "code",
   "execution_count": 39,
   "metadata": {},
   "outputs": [],
   "source": [
    "def forward(W1,W2,W3,B1,B2,B3,X):\n",
    "    F1 = sigmoid(np.matmul(X,W1)+B1)\n",
    "    F2 = sigmoid(np.matmul(F1,W2)+B2)\n",
    "    F3 = sigmoid(np.matmul(F2,W3)+B3)\n",
    "    H = softmax(F3)\n",
    "    #H = F3.copy()\n",
    "    \n",
    "    return F1,F2,F3,H"
   ]
  },
  {
   "cell_type": "code",
   "execution_count": 45,
   "metadata": {},
   "outputs": [],
   "source": [
    "def backpropagation(W1,W2,W3,B1,B2,B3,X,F1,F2,F3,H,Y):\n",
    "    sigma3 = (H - Y)/(H*(1 - H))    # regression: (H - Y)*H*(1 - H)\n",
    "    \n",
    "    d_softmax = np.zeros([10,10])\n",
    "    for i in range(d_softmax.shape[0]):\n",
    "        for j in range(d_softmax.shape[1]):\n",
    "            if i == j:\n",
    "                d_softmax[i,j] += H[:,i]*(1-H[:,j])\n",
    "            else:\n",
    "                d_softmax[i,j] += -H[:,i]*H[:,j]\n",
    "                #pass\n",
    "    \n",
    "    print(d_softmax.shape)\n",
    "    print(sigma3.shape)\n",
    "    \n",
    "    sigma3 = np.matmul(sigma3,d_softmax)\n",
    "    \n",
    "    sigma3 = sigma3*F3*(1 - F3)\n",
    "    \n",
    "    dW3 = np.matmul(F2.T,sigma3)\n",
    "    dB3 = np.sum(sigma3, axis = 0)\n",
    "    sigma2 = np.matmul(sigma3,W3.T)*F2*(1 - F2) # (1-F2**2) (F2>=0)*1 1\n",
    "    dW2 = np.matmul(F1.T,sigma2)\n",
    "    dB2 = np.sum(sigma2, axis = 0)\n",
    "    sigma1 = np.matmul(sigma2,W2.T)*F1*(1 - F1)\n",
    "    dW1 = np.matmul(X.T,sigma1)\n",
    "    dB1 = np.sum(sigma1, axis = 0)\n",
    "    \n",
    "    return dW1,dW2,dW3,dB1,dB2,dB3"
   ]
  },
  {
   "cell_type": "code",
   "execution_count": null,
   "metadata": {},
   "outputs": [],
   "source": []
  },
  {
   "cell_type": "code",
   "execution_count": 43,
   "metadata": {},
   "outputs": [
    {
     "name": "stdout",
     "output_type": "stream",
     "text": [
      "0 6.789729941238042\n",
      "(10, 10)\n",
      "(2, 10)\n"
     ]
    }
   ],
   "source": [
    "k1 = 100\n",
    "k2 = 50\n",
    "k3 = 10\n",
    "n = 784\n",
    "\n",
    "np.random.seed(1)\n",
    "W1 = np.random.randn(n,k1)\n",
    "W2 = np.random.randn(k1,k2)\n",
    "W3 = np.random.randn(k2,k3)\n",
    "B1 = np.zeros([1,k1])\n",
    "B2 = np.zeros([1,k2])\n",
    "B3 = np.zeros([1,k3])\n",
    "#dropout1 = (np.random.rand(n,k1) > 0.3)*1\n",
    "#dropout2 = (np.random.rand(k1,k2) > 0.3)*1\n",
    "#dropout3 = (np.random.rand(k2,k3) > 0.3)*1\n",
    "\n",
    "alpha = 0.00005\n",
    "\n",
    "for i in range(1000):\n",
    "    F1,F2,F3,H = forward(W1,W2,W3,B1,B2,B3,X)\n",
    "    J = -np.sum(Y*np.log(H)+(1-Y)*np.log(1-H))\n",
    "    if i%10 == 0:\n",
    "        print(i,J)\n",
    "    dW1,dW2,dW3,dB1,dB2,dB3 = backpropagation(W1,W2,W3,B1,B2,B3,X,F1,F2,F3,H,Y)\n",
    "    \n",
    "    break\n",
    "    W3 = W3 - alpha*dW3\n",
    "    W2 = W2 - alpha*dW2\n",
    "    W1 = W1 - alpha*dW1\n",
    "    B3 = B3 - alpha*dB3\n",
    "    B2 = B2 - alpha*dB2\n",
    "    B1 = B1 - alpha*dB1\n",
    "    break"
   ]
  },
  {
   "cell_type": "code",
   "execution_count": null,
   "metadata": {},
   "outputs": [],
   "source": []
  },
  {
   "cell_type": "code",
   "execution_count": 44,
   "metadata": {},
   "outputs": [
    {
     "name": "stdout",
     "output_type": "stream",
     "text": [
      "0.0018879120489145862\n",
      "0.003764177596804249\n"
     ]
    }
   ],
   "source": [
    "_,_,_,H1 = forward(W1,W2,W3,B1,B2,B3,X)\n",
    "J1 = -np.sum(Y*np.log(H1)+(1-Y)*np.log(1-H1))\n",
    "W3[4,8] += 0.0000001\n",
    "_,_,_,H2 = forward(W1,W2,W3,B1,B2,B3,X)\n",
    "J2 = -np.sum(Y*np.log(H2)+(1-Y)*np.log(1-H2))\n",
    "W3[4,8] -= 0.0000001\n",
    "\n",
    "print((J2-J1)/0.0000001)\n",
    "print(dW3[4,8])"
   ]
  },
  {
   "cell_type": "code",
   "execution_count": null,
   "metadata": {},
   "outputs": [],
   "source": []
  },
  {
   "cell_type": "code",
   "execution_count": 244,
   "metadata": {},
   "outputs": [
    {
     "data": {
      "text/plain": [
       "(50, 10)"
      ]
     },
     "execution_count": 244,
     "metadata": {},
     "output_type": "execute_result"
    }
   ],
   "source": [
    "W3.shape"
   ]
  },
  {
   "cell_type": "code",
   "execution_count": null,
   "metadata": {},
   "outputs": [],
   "source": []
  },
  {
   "cell_type": "code",
   "execution_count": 15,
   "metadata": {},
   "outputs": [],
   "source": [
    "_,_,pred = forward(W1,W2,W3,B1,B2,B3,X_test)"
   ]
  },
  {
   "cell_type": "code",
   "execution_count": 16,
   "metadata": {},
   "outputs": [],
   "source": [
    "pred = np.argmax(pred,axis=1)"
   ]
  },
  {
   "cell_type": "code",
   "execution_count": 17,
   "metadata": {},
   "outputs": [
    {
     "data": {
      "text/plain": [
       "0.9175"
      ]
     },
     "execution_count": 17,
     "metadata": {},
     "output_type": "execute_result"
    }
   ],
   "source": [
    "np.mean(pred == data_test.label.values)"
   ]
  },
  {
   "cell_type": "code",
   "execution_count": 18,
   "metadata": {},
   "outputs": [
    {
     "name": "stdout",
     "output_type": "stream",
     "text": [
      "0.9693877551020408\n",
      "0.9770925110132158\n",
      "0.9118217054263565\n",
      "0.8841584158415842\n",
      "0.9134419551934827\n",
      "0.8733183856502242\n",
      "0.9405010438413361\n",
      "0.9153696498054474\n",
      "0.8747433264887063\n",
      "0.9038652130822596\n"
     ]
    }
   ],
   "source": [
    "for cls in range(10):\n",
    "    print(np.sum((data_test.label.values == cls) * (pred == data_test.label.values))/np.sum(data_test.label.values == cls))"
   ]
  },
  {
   "cell_type": "code",
   "execution_count": null,
   "metadata": {},
   "outputs": [],
   "source": []
  },
  {
   "cell_type": "code",
   "execution_count": 155,
   "metadata": {},
   "outputs": [],
   "source": [
    "from keras.models import Sequential\n",
    "from keras.layers import Dense, Softmax\n",
    "from keras import initializers\n",
    "from keras.optimizers import SGD, Adam\n",
    "\n",
    "W_init = initializers.RandomNormal(stddev = 1)\n",
    "B_init = initializers.Zeros()\n",
    "\n",
    "model = Sequential()\n",
    "\n",
    "model.add(Dense(100, input_shape=[784], activation='sigmoid',kernel_initializer=W_init,bias_initializer=B_init))\n",
    "model.add(Dense(50, activation='sigmoid',kernel_initializer=W_init,bias_initializer=B_init))\n",
    "model.add(Dense(10, activation='sigmoid',kernel_initializer=W_init,bias_initializer=B_init))\n",
    "\n",
    "optimizer = Adam(learning_rate=0.01)\n",
    "model.compile(loss=\"categorical_crossentropy\", optimizer=optimizer, metrics=[\"categorical_crossentropy\",\"accuracy\"])"
   ]
  },
  {
   "cell_type": "code",
   "execution_count": 156,
   "metadata": {},
   "outputs": [
    {
     "name": "stdout",
     "output_type": "stream",
     "text": [
      "Model: \"sequential_26\"\n",
      "_________________________________________________________________\n",
      "Layer (type)                 Output Shape              Param #   \n",
      "=================================================================\n",
      "dense_74 (Dense)             (None, 100)               78500     \n",
      "_________________________________________________________________\n",
      "dense_75 (Dense)             (None, 50)                5050      \n",
      "_________________________________________________________________\n",
      "dense_76 (Dense)             (None, 10)                510       \n",
      "=================================================================\n",
      "Total params: 84,060\n",
      "Trainable params: 84,060\n",
      "Non-trainable params: 0\n",
      "_________________________________________________________________\n",
      "None\n"
     ]
    }
   ],
   "source": [
    "print(model.summary())"
   ]
  },
  {
   "cell_type": "code",
   "execution_count": 165,
   "metadata": {},
   "outputs": [
    {
     "name": "stdout",
     "output_type": "stream",
     "text": [
      "Epoch 1/1\n",
      "60000/60000 [==============================] - 2s 36us/step - loss: 0.7352 - categorical_crossentropy: 0.7352 - accuracy: 0.7539\n",
      "121042.75996251479\n",
      "Epoch 1/1\n",
      "60000/60000 [==============================] - 2s 31us/step - loss: 0.7104 - categorical_crossentropy: 0.7104 - accuracy: 0.7660\n",
      "121029.7733215774\n",
      "Epoch 1/1\n",
      "60000/60000 [==============================] - 2s 28us/step - loss: 0.6885 - categorical_crossentropy: 0.6885 - accuracy: 0.7765\n",
      "120606.02262715591\n",
      "Epoch 1/1\n",
      "60000/60000 [==============================] - 2s 27us/step - loss: 0.6673 - categorical_crossentropy: 0.6673 - accuracy: 0.7872\n",
      "119883.96072103534\n",
      "Epoch 1/1\n",
      "60000/60000 [==============================] - 2s 30us/step - loss: 0.6458 - categorical_crossentropy: 0.6458 - accuracy: 0.7966\n",
      "119113.08899408921\n",
      "Epoch 1/1\n",
      "60000/60000 [==============================] - 2s 28us/step - loss: 0.6249 - categorical_crossentropy: 0.6249 - accuracy: 0.8044\n",
      "118515.66588374053\n",
      "Epoch 1/1\n",
      "60000/60000 [==============================] - 2s 28us/step - loss: 0.6053 - categorical_crossentropy: 0.6053 - accuracy: 0.8121\n",
      "118188.05657331363\n",
      "Epoch 1/1\n",
      "60000/60000 [==============================] - 2s 27us/step - loss: 0.5871 - categorical_crossentropy: 0.5871 - accuracy: 0.8183\n",
      "118102.1075659843\n",
      "Epoch 1/1\n",
      "60000/60000 [==============================] - 2s 29us/step - loss: 0.5699 - categorical_crossentropy: 0.5699 - accuracy: 0.8235\n",
      "118183.94272369817\n",
      "Epoch 1/1\n",
      "60000/60000 [==============================] - 2s 27us/step - loss: 0.5537 - categorical_crossentropy: 0.5537 - accuracy: 0.8292\n",
      "118366.84861826885\n"
     ]
    }
   ],
   "source": [
    "for i in range(10):\n",
    "    model.fit(X, Y, epochs = 1, batch_size=len(X))\n",
    "    H = model.predict(X)\n",
    "    J = -np.sum(Y*np.log(H)+(1-Y)*np.log(1-H))\n",
    "    print(J)"
   ]
  },
  {
   "cell_type": "code",
   "execution_count": 166,
   "metadata": {},
   "outputs": [
    {
     "name": "stdout",
     "output_type": "stream",
     "text": [
      "118366.84861826885\n",
      "0.19727808103044808\n"
     ]
    }
   ],
   "source": [
    "H = model.predict(X)\n",
    "J = -np.sum(Y*np.log(H)+(1-Y)*np.log(1-H))\n",
    "print(J)\n",
    "print(J/60000/10)"
   ]
  },
  {
   "cell_type": "code",
   "execution_count": 167,
   "metadata": {},
   "outputs": [],
   "source": [
    "W1_keras = np.array(model.weights[0][:,:])\n",
    "B1_keras = np.array(model.weights[1][:])\n",
    "W2_keras = np.array(model.weights[2][:,:])\n",
    "B2_keras = np.array(model.weights[3][:])\n",
    "W3_keras = np.array(model.weights[4][:,:])\n",
    "B3_keras = np.array(model.weights[5][:])"
   ]
  },
  {
   "cell_type": "code",
   "execution_count": 168,
   "metadata": {},
   "outputs": [
    {
     "data": {
      "text/plain": [
       "array([[ 1.        , -0.46641235],\n",
       "       [-0.46641235,  1.        ]])"
      ]
     },
     "execution_count": 168,
     "metadata": {},
     "output_type": "execute_result"
    }
   ],
   "source": [
    "np.corrcoef(B3.flatten(),B3_keras.flatten())"
   ]
  },
  {
   "cell_type": "code",
   "execution_count": 169,
   "metadata": {},
   "outputs": [
    {
     "data": {
      "text/plain": [
       "0.8331"
      ]
     },
     "execution_count": 169,
     "metadata": {},
     "output_type": "execute_result"
    }
   ],
   "source": [
    "H = model.predict(X_test)\n",
    "pred = np.argmax(H,axis=1)\n",
    "np.mean(pred == data_test.label.values)"
   ]
  },
  {
   "cell_type": "code",
   "execution_count": 519,
   "metadata": {},
   "outputs": [
    {
     "ename": "NameError",
     "evalue": "name 'pred' is not defined",
     "output_type": "error",
     "traceback": [
      "\u001b[0;31m---------------------------------------------------------------------------\u001b[0m",
      "\u001b[0;31mNameError\u001b[0m                                 Traceback (most recent call last)",
      "\u001b[0;32m<ipython-input-519-60e4fb61bbfe>\u001b[0m in \u001b[0;36m<module>\u001b[0;34m\u001b[0m\n\u001b[1;32m      1\u001b[0m \u001b[0;32mfor\u001b[0m \u001b[0mcls\u001b[0m \u001b[0;32min\u001b[0m \u001b[0mrange\u001b[0m\u001b[0;34m(\u001b[0m\u001b[0;36m10\u001b[0m\u001b[0;34m)\u001b[0m\u001b[0;34m:\u001b[0m\u001b[0;34m\u001b[0m\u001b[0;34m\u001b[0m\u001b[0m\n\u001b[0;32m----> 2\u001b[0;31m     \u001b[0mprint\u001b[0m\u001b[0;34m(\u001b[0m\u001b[0mnp\u001b[0m\u001b[0;34m.\u001b[0m\u001b[0msum\u001b[0m\u001b[0;34m(\u001b[0m\u001b[0;34m(\u001b[0m\u001b[0mdata_test\u001b[0m\u001b[0;34m.\u001b[0m\u001b[0mlabel\u001b[0m\u001b[0;34m.\u001b[0m\u001b[0mvalues\u001b[0m \u001b[0;34m==\u001b[0m \u001b[0mcls\u001b[0m\u001b[0;34m)\u001b[0m \u001b[0;34m*\u001b[0m \u001b[0;34m(\u001b[0m\u001b[0mpred\u001b[0m \u001b[0;34m==\u001b[0m \u001b[0mdata_test\u001b[0m\u001b[0;34m.\u001b[0m\u001b[0mlabel\u001b[0m\u001b[0;34m.\u001b[0m\u001b[0mvalues\u001b[0m\u001b[0;34m)\u001b[0m\u001b[0;34m)\u001b[0m\u001b[0;34m/\u001b[0m\u001b[0mnp\u001b[0m\u001b[0;34m.\u001b[0m\u001b[0msum\u001b[0m\u001b[0;34m(\u001b[0m\u001b[0mdata_test\u001b[0m\u001b[0;34m.\u001b[0m\u001b[0mlabel\u001b[0m\u001b[0;34m.\u001b[0m\u001b[0mvalues\u001b[0m \u001b[0;34m==\u001b[0m \u001b[0mcls\u001b[0m\u001b[0;34m)\u001b[0m\u001b[0;34m)\u001b[0m\u001b[0;34m\u001b[0m\u001b[0;34m\u001b[0m\u001b[0m\n\u001b[0m",
      "\u001b[0;31mNameError\u001b[0m: name 'pred' is not defined"
     ]
    }
   ],
   "source": [
    "for cls in range(10):\n",
    "    print(np.sum((data_test.label.values == cls) * (pred == data_test.label.values))/np.sum(data_test.label.values == cls))"
   ]
  },
  {
   "cell_type": "code",
   "execution_count": null,
   "metadata": {},
   "outputs": [],
   "source": []
  },
  {
   "cell_type": "code",
   "execution_count": 520,
   "metadata": {},
   "outputs": [
    {
     "data": {
      "text/plain": [
       "array([[ -7,   2, -15],\n",
       "       [  2, -18,  16],\n",
       "       [ 10, -11,  -2]])"
      ]
     },
     "execution_count": 520,
     "metadata": {},
     "output_type": "execute_result"
    }
   ],
   "source": [
    "a1"
   ]
  },
  {
   "cell_type": "code",
   "execution_count": 516,
   "metadata": {},
   "outputs": [],
   "source": [
    "A = np.array([[3,6],[-4,2]])\n",
    "B = np.array([[54],[8]])"
   ]
  },
  {
   "cell_type": "code",
   "execution_count": 517,
   "metadata": {},
   "outputs": [],
   "source": [
    "X = np.matmul(np.linalg.pinv(A),B)"
   ]
  },
  {
   "cell_type": "code",
   "execution_count": 518,
   "metadata": {},
   "outputs": [
    {
     "data": {
      "text/plain": [
       "array([[2.],\n",
       "       [8.]])"
      ]
     },
     "execution_count": 518,
     "metadata": {},
     "output_type": "execute_result"
    }
   ],
   "source": [
    "X"
   ]
  },
  {
   "cell_type": "code",
   "execution_count": 497,
   "metadata": {},
   "outputs": [
    {
     "data": {
      "text/plain": [
       "array([[ -52, -160,   89]])"
      ]
     },
     "execution_count": 497,
     "metadata": {},
     "output_type": "execute_result"
    }
   ],
   "source": [
    "X"
   ]
  },
  {
   "cell_type": "code",
   "execution_count": null,
   "metadata": {},
   "outputs": [],
   "source": []
  }
 ],
 "metadata": {
  "kernelspec": {
   "display_name": "Python 3",
   "language": "python",
   "name": "python3"
  },
  "language_info": {
   "codemirror_mode": {
    "name": "ipython",
    "version": 3
   },
   "file_extension": ".py",
   "mimetype": "text/x-python",
   "name": "python",
   "nbconvert_exporter": "python",
   "pygments_lexer": "ipython3",
   "version": "3.7.4"
  }
 },
 "nbformat": 4,
 "nbformat_minor": 2
}
