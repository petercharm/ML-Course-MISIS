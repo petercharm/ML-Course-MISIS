{
 "cells": [
  {
   "cell_type": "code",
   "execution_count": 1,
   "metadata": {},
   "outputs": [],
   "source": [
    "import numpy as np\n",
    "import pandas as pd"
   ]
  },
  {
   "cell_type": "markdown",
   "metadata": {},
   "source": [
    "<b> Загрузка и предобработка исходных данных"
   ]
  },
  {
   "cell_type": "code",
   "execution_count": 37,
   "metadata": {},
   "outputs": [],
   "source": [
    "data = pd.read_csv(\"../../Практические материалы/Lab 1. Linear and logistic regression/mnist/mnist_train.csv\")\n",
    "data_test = pd.read_csv(\"../../Практические материалы/Lab 1. Linear and logistic regression/mnist/mnist_test.csv\")"
   ]
  },
  {
   "cell_type": "code",
   "execution_count": 38,
   "metadata": {},
   "outputs": [
    {
     "data": {
      "text/html": [
       "<div>\n",
       "<style scoped>\n",
       "    .dataframe tbody tr th:only-of-type {\n",
       "        vertical-align: middle;\n",
       "    }\n",
       "\n",
       "    .dataframe tbody tr th {\n",
       "        vertical-align: top;\n",
       "    }\n",
       "\n",
       "    .dataframe thead th {\n",
       "        text-align: right;\n",
       "    }\n",
       "</style>\n",
       "<table border=\"1\" class=\"dataframe\">\n",
       "  <thead>\n",
       "    <tr style=\"text-align: right;\">\n",
       "      <th></th>\n",
       "      <th>label</th>\n",
       "      <th>1x1</th>\n",
       "      <th>1x2</th>\n",
       "      <th>1x3</th>\n",
       "      <th>1x4</th>\n",
       "      <th>1x5</th>\n",
       "      <th>1x6</th>\n",
       "      <th>1x7</th>\n",
       "      <th>1x8</th>\n",
       "      <th>1x9</th>\n",
       "      <th>...</th>\n",
       "      <th>28x19</th>\n",
       "      <th>28x20</th>\n",
       "      <th>28x21</th>\n",
       "      <th>28x22</th>\n",
       "      <th>28x23</th>\n",
       "      <th>28x24</th>\n",
       "      <th>28x25</th>\n",
       "      <th>28x26</th>\n",
       "      <th>28x27</th>\n",
       "      <th>28x28</th>\n",
       "    </tr>\n",
       "  </thead>\n",
       "  <tbody>\n",
       "    <tr>\n",
       "      <td>0</td>\n",
       "      <td>5</td>\n",
       "      <td>0</td>\n",
       "      <td>0</td>\n",
       "      <td>0</td>\n",
       "      <td>0</td>\n",
       "      <td>0</td>\n",
       "      <td>0</td>\n",
       "      <td>0</td>\n",
       "      <td>0</td>\n",
       "      <td>0</td>\n",
       "      <td>...</td>\n",
       "      <td>0</td>\n",
       "      <td>0</td>\n",
       "      <td>0</td>\n",
       "      <td>0</td>\n",
       "      <td>0</td>\n",
       "      <td>0</td>\n",
       "      <td>0</td>\n",
       "      <td>0</td>\n",
       "      <td>0</td>\n",
       "      <td>0</td>\n",
       "    </tr>\n",
       "    <tr>\n",
       "      <td>1</td>\n",
       "      <td>0</td>\n",
       "      <td>0</td>\n",
       "      <td>0</td>\n",
       "      <td>0</td>\n",
       "      <td>0</td>\n",
       "      <td>0</td>\n",
       "      <td>0</td>\n",
       "      <td>0</td>\n",
       "      <td>0</td>\n",
       "      <td>0</td>\n",
       "      <td>...</td>\n",
       "      <td>0</td>\n",
       "      <td>0</td>\n",
       "      <td>0</td>\n",
       "      <td>0</td>\n",
       "      <td>0</td>\n",
       "      <td>0</td>\n",
       "      <td>0</td>\n",
       "      <td>0</td>\n",
       "      <td>0</td>\n",
       "      <td>0</td>\n",
       "    </tr>\n",
       "    <tr>\n",
       "      <td>2</td>\n",
       "      <td>4</td>\n",
       "      <td>0</td>\n",
       "      <td>0</td>\n",
       "      <td>0</td>\n",
       "      <td>0</td>\n",
       "      <td>0</td>\n",
       "      <td>0</td>\n",
       "      <td>0</td>\n",
       "      <td>0</td>\n",
       "      <td>0</td>\n",
       "      <td>...</td>\n",
       "      <td>0</td>\n",
       "      <td>0</td>\n",
       "      <td>0</td>\n",
       "      <td>0</td>\n",
       "      <td>0</td>\n",
       "      <td>0</td>\n",
       "      <td>0</td>\n",
       "      <td>0</td>\n",
       "      <td>0</td>\n",
       "      <td>0</td>\n",
       "    </tr>\n",
       "    <tr>\n",
       "      <td>3</td>\n",
       "      <td>1</td>\n",
       "      <td>0</td>\n",
       "      <td>0</td>\n",
       "      <td>0</td>\n",
       "      <td>0</td>\n",
       "      <td>0</td>\n",
       "      <td>0</td>\n",
       "      <td>0</td>\n",
       "      <td>0</td>\n",
       "      <td>0</td>\n",
       "      <td>...</td>\n",
       "      <td>0</td>\n",
       "      <td>0</td>\n",
       "      <td>0</td>\n",
       "      <td>0</td>\n",
       "      <td>0</td>\n",
       "      <td>0</td>\n",
       "      <td>0</td>\n",
       "      <td>0</td>\n",
       "      <td>0</td>\n",
       "      <td>0</td>\n",
       "    </tr>\n",
       "    <tr>\n",
       "      <td>4</td>\n",
       "      <td>9</td>\n",
       "      <td>0</td>\n",
       "      <td>0</td>\n",
       "      <td>0</td>\n",
       "      <td>0</td>\n",
       "      <td>0</td>\n",
       "      <td>0</td>\n",
       "      <td>0</td>\n",
       "      <td>0</td>\n",
       "      <td>0</td>\n",
       "      <td>...</td>\n",
       "      <td>0</td>\n",
       "      <td>0</td>\n",
       "      <td>0</td>\n",
       "      <td>0</td>\n",
       "      <td>0</td>\n",
       "      <td>0</td>\n",
       "      <td>0</td>\n",
       "      <td>0</td>\n",
       "      <td>0</td>\n",
       "      <td>0</td>\n",
       "    </tr>\n",
       "  </tbody>\n",
       "</table>\n",
       "<p>5 rows × 785 columns</p>\n",
       "</div>"
      ],
      "text/plain": [
       "   label  1x1  1x2  1x3  1x4  1x5  1x6  1x7  1x8  1x9  ...  28x19  28x20  \\\n",
       "0      5    0    0    0    0    0    0    0    0    0  ...      0      0   \n",
       "1      0    0    0    0    0    0    0    0    0    0  ...      0      0   \n",
       "2      4    0    0    0    0    0    0    0    0    0  ...      0      0   \n",
       "3      1    0    0    0    0    0    0    0    0    0  ...      0      0   \n",
       "4      9    0    0    0    0    0    0    0    0    0  ...      0      0   \n",
       "\n",
       "   28x21  28x22  28x23  28x24  28x25  28x26  28x27  28x28  \n",
       "0      0      0      0      0      0      0      0      0  \n",
       "1      0      0      0      0      0      0      0      0  \n",
       "2      0      0      0      0      0      0      0      0  \n",
       "3      0      0      0      0      0      0      0      0  \n",
       "4      0      0      0      0      0      0      0      0  \n",
       "\n",
       "[5 rows x 785 columns]"
      ]
     },
     "execution_count": 38,
     "metadata": {},
     "output_type": "execute_result"
    }
   ],
   "source": [
    "data.head()"
   ]
  },
  {
   "cell_type": "code",
   "execution_count": 39,
   "metadata": {},
   "outputs": [],
   "source": [
    "X = data.iloc[:,1:].values\n",
    "X_test = data_test.iloc[:,1:].values"
   ]
  },
  {
   "cell_type": "code",
   "execution_count": 40,
   "metadata": {},
   "outputs": [],
   "source": [
    "mean = np.mean(X)\n",
    "std = np.std(X)\n",
    "\n",
    "X = (X - mean)/std\n",
    "X_test = (X_test - mean)/std"
   ]
  },
  {
   "cell_type": "code",
   "execution_count": 41,
   "metadata": {},
   "outputs": [],
   "source": [
    "m = len(X)\n",
    "n = 10\n",
    "\n",
    "Y = np.zeros([m,n])\n",
    "\n",
    "for i in range(m):\n",
    "    Y[i,data.label.values[i]] = 1"
   ]
  },
  {
   "cell_type": "code",
   "execution_count": 42,
   "metadata": {},
   "outputs": [
    {
     "data": {
      "text/plain": [
       "array([[0., 0., 0., ..., 0., 0., 0.],\n",
       "       [1., 0., 0., ..., 0., 0., 0.],\n",
       "       [0., 0., 0., ..., 0., 0., 0.],\n",
       "       ...,\n",
       "       [0., 0., 0., ..., 0., 0., 0.],\n",
       "       [0., 0., 0., ..., 0., 0., 0.],\n",
       "       [0., 0., 0., ..., 0., 1., 0.]])"
      ]
     },
     "execution_count": 42,
     "metadata": {},
     "output_type": "execute_result"
    }
   ],
   "source": [
    "Y"
   ]
  },
  {
   "cell_type": "code",
   "execution_count": null,
   "metadata": {},
   "outputs": [],
   "source": []
  },
  {
   "cell_type": "code",
   "execution_count": 1402,
   "metadata": {},
   "outputs": [],
   "source": [
    "def sigmoid(z):\n",
    "    return 1/(1+np.exp(-z))"
   ]
  },
  {
   "cell_type": "code",
   "execution_count": 1403,
   "metadata": {},
   "outputs": [],
   "source": [
    "def tanh(z):\n",
    "    return (np.exp(z)-np.exp(-z))/(np.exp(z)+np.exp(-z))"
   ]
  },
  {
   "cell_type": "code",
   "execution_count": 1404,
   "metadata": {},
   "outputs": [],
   "source": [
    "def relu(z):\n",
    "    return np.max(0,z)"
   ]
  },
  {
   "cell_type": "code",
   "execution_count": 1405,
   "metadata": {},
   "outputs": [],
   "source": [
    "def softmax(z):\n",
    "    return np.exp(z)/np.sum(np.exp(z), axis = 1).reshape([len(z),1])"
   ]
  },
  {
   "cell_type": "code",
   "execution_count": 1428,
   "metadata": {},
   "outputs": [],
   "source": [
    "def conv(z, filters, padding = 1):\n",
    "    height = z.shape[0]\n",
    "    width = z.shape[1]\n",
    "    depth = z.shape[2]\n",
    "    n = filters.shape[0]\n",
    "    m = filters.shape[1]\n",
    "    l = filters.shape[2]\n",
    "    n_filters = filters.shape[3]\n",
    "    \n",
    "    z_pad = np.zeros([height+padding*2,width+padding*2,depth])\n",
    "    if padding > 0:\n",
    "        z_pad[padding:-padding,padding:-padding,:] = z[:,:,:]\n",
    "    else:\n",
    "        z_pad[:,:,:] = z[:,:,:]\n",
    "    \n",
    "    output_h = height + padding * 2 - (n - 1)\n",
    "    output_w = width + padding * 2 - (n - 1)\n",
    "    result = np.zeros([output_h,output_w,n_filters])\n",
    "    \n",
    "    for k in range(n_filters):\n",
    "        for i in range(output_h):\n",
    "            for j in range(output_w):\n",
    "                result[i,j,k] = np.sum(z_pad[i:i+n,j:j+m,0:l]*filters[:,:,:,k])\n",
    "    \n",
    "    return result\n",
    "    "
   ]
  },
  {
   "cell_type": "code",
   "execution_count": 1407,
   "metadata": {},
   "outputs": [],
   "source": [
    "def max_pool(z, pool_size):\n",
    "    height = z.shape[0]\n",
    "    width = z.shape[1]\n",
    "    depth = z.shape[2]\n",
    "    \n",
    "    h2 = (pool_size - height%pool_size)%pool_size\n",
    "    w2 = (pool_size - width%pool_size)%pool_size\n",
    "        \n",
    "    z_pad = np.zeros([height+h2,width+w2,depth])\n",
    "    z_pad[:height,:width,:] = z[:,:,:]\n",
    "\n",
    "    result = np.zeros([(height+h2)//pool_size,(width+w2)//pool_size,depth])\n",
    "    \n",
    "    argmax_ind = np.zeros([(height+h2)//pool_size,(width+w2)//pool_size,depth,2])\n",
    "    \n",
    "    for k in range(depth):\n",
    "        for i in range(0,height+h2,pool_size):\n",
    "            for j in range(0,width+w2,pool_size):\n",
    "                tmp = z_pad[i:i+pool_size,j:j+pool_size,k]\n",
    "                result[i//pool_size,j//pool_size,k] = np.max(tmp)\n",
    "                \n",
    "                max_ind = np.argmax(tmp.flatten())\n",
    "                \n",
    "                argmax_ind[i//pool_size,j//pool_size,k,:] = [max_ind//pool_size,max_ind%pool_size]\n",
    "\n",
    "    return result,argmax_ind"
   ]
  },
  {
   "cell_type": "code",
   "execution_count": 1542,
   "metadata": {},
   "outputs": [],
   "source": [
    "def avg_pool(z, pool_size):\n",
    "    height = z.shape[0]\n",
    "    width = z.shape[1]\n",
    "    depth = z.shape[2]\n",
    "    \n",
    "    h2 = (pool_size - height%pool_size)%pool_size\n",
    "    w2 = (pool_size - width%pool_size)%pool_size\n",
    "        \n",
    "    z_pad = np.zeros([height+h2,width+w2,depth])\n",
    "    z_pad[:height,:width,:] = z[:,:,:]\n",
    "\n",
    "    result = np.zeros([(height+h2)//pool_size,(width+w2)//pool_size,depth])\n",
    "    \n",
    "    argmax_ind = np.zeros([(height+h2)//pool_size,(width+w2)//pool_size,depth,2])\n",
    "    \n",
    "    for k in range(depth):\n",
    "        for i in range(0,height+h2,pool_size):\n",
    "            for j in range(0,width+w2,pool_size):\n",
    "                tmp = z_pad[i:i+pool_size,j:j+pool_size,k]\n",
    "                result[i//pool_size,j//pool_size,k] = np.mean(tmp)\n",
    "                \n",
    "                max_ind = np.argmax(tmp.flatten())\n",
    "                \n",
    "                argmax_ind[i//pool_size,j//pool_size,k,:] = [max_ind//pool_size,max_ind%pool_size]\n",
    "\n",
    "    return result,z"
   ]
  },
  {
   "cell_type": "code",
   "execution_count": 1543,
   "metadata": {},
   "outputs": [],
   "source": [
    "def flatten(z):\n",
    "    return z.flatten()"
   ]
  },
  {
   "cell_type": "code",
   "execution_count": 1860,
   "metadata": {},
   "outputs": [],
   "source": [
    "def d_conv(filters,X,sigma,padding = 1):\n",
    "    d_filters = np.zeros_like(filters)\n",
    "    height = sigma.shape[0]\n",
    "    width = sigma.shape[1]\n",
    "    depth = sigma.shape[2]\n",
    "    n = filters.shape[0]\n",
    "    m = filters.shape[1]\n",
    "    l = filters.shape[2]\n",
    "    n_filters = filters.shape[3]\n",
    "    \n",
    "    X_pad = np.zeros([X.shape[0]+padding*2,X.shape[1]+padding*2,X.shape[2]])\n",
    "    \n",
    "    if padding > 0:\n",
    "        X_pad[padding:-padding,padding:-padding,:] = X[:,:,:]\n",
    "    else:\n",
    "        X_pad[:,:,:] = X[:,:,:]\n",
    "    \n",
    "    #print(X)\n",
    "    sigma_new = np.zeros_like(X_pad)\n",
    "    \n",
    "    for k in range(n_filters):\n",
    "        for i in range(height):\n",
    "            for j in range(width):\n",
    "                d_filters[:,:,:,k] += X_pad[i:i+n,j:j+m,0:l]*sigma[i,j,k]\n",
    "                sigma_new[i:i+n,j:j+m,0:l] += filters[:,:,:,k]*sigma[i,j,k]\n",
    "                \n",
    "    if padding > 0:\n",
    "        sigma_new = sigma_new[padding:-padding,padding:-padding,:]\n",
    "                \n",
    "    return d_filters,sigma_new"
   ]
  },
  {
   "cell_type": "code",
   "execution_count": 1861,
   "metadata": {},
   "outputs": [],
   "source": [
    "def d_flat(z,size):\n",
    "    return z.reshape(size)"
   ]
  },
  {
   "cell_type": "code",
   "execution_count": 1862,
   "metadata": {},
   "outputs": [],
   "source": [
    "def d_max_pool(z,am,pool_size):\n",
    "    result = np.zeros([z.shape[0]*pool_size,z.shape[1]*pool_size,z.shape[2]])\n",
    "\n",
    "    for k in range(z.shape[2]):\n",
    "        for i in range(0,z.shape[0]*pool_size,pool_size):\n",
    "            for j in range(0,z.shape[1]*pool_size,pool_size):\n",
    "                result[i+int(am[i//pool_size,j//pool_size,k,0]),j+int(am[i//pool_size,j//pool_size,k,1]),k] = z[i//pool_size,j//pool_size,k]\n",
    "    \n",
    "    return result"
   ]
  },
  {
   "cell_type": "code",
   "execution_count": 1944,
   "metadata": {},
   "outputs": [],
   "source": [
    "def d_avg_pool(sigma,am,pool_size):\n",
    "    result = np.zeros([sigma.shape[0]*pool_size,sigma.shape[1]*pool_size,sigma.shape[2]])\n",
    "\n",
    "    for k in range(sigma.shape[2]):\n",
    "        for i in range(0,sigma.shape[0]*pool_size,pool_size):\n",
    "            for j in range(0,sigma.shape[1]*pool_size,pool_size):\n",
    "                result[i:i+pool_size,j:j+pool_size,k] = sigma[i//pool_size,j//pool_size,k]\n",
    "\n",
    "    return result/4"
   ]
  },
  {
   "cell_type": "code",
   "execution_count": 1945,
   "metadata": {},
   "outputs": [],
   "source": [
    "def forward(filters,X,W,B,pool_size):\n",
    "    F0 = conv(X, filters[0], padding = 1)\n",
    "    F1 = sigmoid(F0)\n",
    "    F2,am0 = avg_pool(F1,pool_size)\n",
    "    F3 = flatten(F2)\n",
    "    F3 = F3.reshape([1,F3.shape[0]])\n",
    "    \n",
    "    return (F0,F1,F2,F3),(am0)"
   ]
  },
  {
   "cell_type": "code",
   "execution_count": 1946,
   "metadata": {},
   "outputs": [],
   "source": [
    "def backprop(X,F,am,W,Y,filters,pool_size):\n",
    "    sigma = (F[3] - Y)/(F[3]*(1-F[3]))\n",
    "    sigma = d_flat(sigma,F[2].shape)\n",
    "    sigma = d_avg_pool(sigma,am[0],pool_size)\n",
    "    sigma = sigma*F[1]*(1-F[1])\n",
    "    d_filters3,sigma = d_conv(filters[0],X,sigma,padding = 1)\n",
    "    \n",
    "    return (d_filters3)"
   ]
  },
  {
   "cell_type": "code",
   "execution_count": 1947,
   "metadata": {},
   "outputs": [
    {
     "name": "stdout",
     "output_type": "stream",
     "text": [
      "0.14549970117627709 \t 0.14549983860847693\n"
     ]
    }
   ],
   "source": [
    "np.random.seed(34)\n",
    "\n",
    "X = np.random.randn(4,4,1)\n",
    "filters1 = np.random.randn(3,3,1,1)\n",
    "\n",
    "filters = [filters1]\n",
    "\n",
    "pool_size = 2\n",
    "\n",
    "F,am = forward(filters,X,W,B,pool_size)\n",
    "\n",
    "Y = np.zeros_like(F[-1])\n",
    "\n",
    "grad = backprop(X,F,am,W,Y,filters,pool_size)\n",
    "\n",
    "J = -np.sum(Y*np.log(F[-1])+(1-Y)*np.log(1-F[-1]))\n",
    "\n",
    "F,am = forward(filters,X,W,B,pool_size)\n",
    "filters1[2,2,0,0] += 0.00000001\n",
    "J1 = -np.sum(Y*np.log(F[-1])+(1-Y)*np.log(1-F[-1]))\n",
    "F,am = forward(filters,X,W,B,pool_size)\n",
    "J2 = -np.sum(Y*np.log(F[-1])+(1-Y)*np.log(1-F[-1]))\n",
    "filters1[2,2,0,0] -= 0.00000001\n",
    "#print(\"**************************************\")\n",
    "print((J2-J1)/0.00000001,'\\t',grad[2,2,0,0])\n",
    "#print(\"**************************************\")"
   ]
  },
  {
   "cell_type": "code",
   "execution_count": 1940,
   "metadata": {},
   "outputs": [
    {
     "data": {
      "text/plain": [
       "(3, 3, 1, 1)"
      ]
     },
     "execution_count": 1940,
     "metadata": {},
     "output_type": "execute_result"
    }
   ],
   "source": [
    "grad.shape"
   ]
  },
  {
   "cell_type": "code",
   "execution_count": 1933,
   "metadata": {},
   "outputs": [
    {
     "data": {
      "text/plain": [
       "(3, 3, 1, 1)"
      ]
     },
     "execution_count": 1933,
     "metadata": {},
     "output_type": "execute_result"
    }
   ],
   "source": [
    "filters1.shape"
   ]
  },
  {
   "cell_type": "code",
   "execution_count": null,
   "metadata": {},
   "outputs": [],
   "source": []
  },
  {
   "cell_type": "code",
   "execution_count": 1948,
   "metadata": {},
   "outputs": [],
   "source": [
    "def forward(filters,X,W,B,pool_size):\n",
    "    F0 = conv(X, filters[0], padding = 2)\n",
    "    F1 = sigmoid(F0)\n",
    "    F2,am0 = avg_pool(F1,pool_size)\n",
    "    F3 = conv(F2, filters[1], padding = 0)\n",
    "    F4 = sigmoid(F3)\n",
    "    F5,am1 = avg_pool(F4,pool_size)\n",
    "    F6 = conv(F5, filters[2], padding = 0)\n",
    "    F7 = sigmoid(F6)\n",
    "    F8 = flatten(F7)\n",
    "    F8 = F8.reshape([1,F8.shape[0]])\n",
    "    F9 = np.matmul(F8,W[0]) + B[0]\n",
    "    F10 = sigmoid(F9)\n",
    "    F11 = np.matmul(F10,W[1]) + B[1]\n",
    "    F12 = sigmoid(F11)\n",
    "\n",
    "    return (F0,F1,F2,F3,F4,F5,F6,F7,F8,F9,F10,F11,F12),(am0,am1)"
   ]
  },
  {
   "cell_type": "code",
   "execution_count": 1965,
   "metadata": {},
   "outputs": [],
   "source": [
    "def backprop(X,F,am,W,Y,filters,pool_size):\n",
    "    sigma = (F[12] - Y)/(F[12]*(1-F[12]))\n",
    "    sigma = sigma*F[12]*(1-F[12])\n",
    "    \n",
    "    #print(sigma.shape)\n",
    "    \n",
    "    dW2 = np.matmul(np.transpose(F[10]),sigma)\n",
    "    dB2 = np.sum(sigma, axis = 0)\n",
    "    \n",
    "    sigma = np.matmul(sigma,np.transpose(W[1]))\n",
    "    sigma = sigma*F[10]*(1-F[10])\n",
    "    \n",
    "    #print(sigma.shape)\n",
    "    \n",
    "    dW1 = np.matmul(np.transpose(F[8]),sigma)\n",
    "    dB1 = np.sum(sigma, axis = 0)\n",
    "    \n",
    "    #print(F[8].shape,sigma.shape)\n",
    "    \n",
    "    sigma = np.matmul(sigma,np.transpose(W[0]))\n",
    "    sigma = d_flat(sigma,F[7].shape)\n",
    "    \n",
    "    #print(sigma.shape)\n",
    "    \n",
    "    sigma = sigma*F[7]*(1-F[7])\n",
    "    \n",
    "    d_filters3,sigma = d_conv(filters[2],F[5],sigma,padding = 0)\n",
    "    sigma = d_avg_pool(sigma,am[1],pool_size)\n",
    "    \n",
    "    sigma = sigma*F[4]*(1-F[4])\n",
    "    \n",
    "    d_filters2,sigma = d_conv(filters[1],F[2],sigma,padding = 0)\n",
    "    sigma = d_avg_pool(sigma,am[0],pool_size)\n",
    "    \n",
    "    sigma = sigma*F[1]*(1-F[1])\n",
    "    \n",
    "    d_filters1,sigma = d_conv(filters[0],X,sigma,padding = 2)\n",
    "\n",
    "    #d_filters = d_conv(filters,X,sigma,padding = 0)\n",
    "    \n",
    "    return (dW2,dB2,dW1,dB1,d_filters3,d_filters2,d_filters1)"
   ]
  },
  {
   "cell_type": "code",
   "execution_count": 1966,
   "metadata": {},
   "outputs": [],
   "source": [
    "np.random.seed(34)\n",
    "\n",
    "X = np.random.randn(28,28,1)\n",
    "filters1 = np.random.randn(5,5,1,6)\n",
    "filters2 = np.random.randn(5,5,6,16)\n",
    "filters3 = np.random.randn(5,5,16,120)\n",
    "\n",
    "filters = [filters1,filters2,filters3]\n",
    "\n",
    "W1 = np.random.randn(120,84)\n",
    "B1 = np.zeros([1,84])\n",
    "\n",
    "W2 = np.random.randn(84,10)\n",
    "B2 = np.zeros([1,10])\n",
    "\n",
    "W = [W1,W2]\n",
    "B = [B1,B2]\n",
    "\n",
    "pool_size = 2\n",
    "\n",
    "F,am = forward(filters,X,W,B,pool_size)\n",
    "\n",
    "Y = np.zeros_like(F[-1])\n",
    "\n",
    "grad = backprop(X,F,am,W,Y,filters,pool_size)"
   ]
  },
  {
   "cell_type": "code",
   "execution_count": 1982,
   "metadata": {},
   "outputs": [
    {
     "name": "stdout",
     "output_type": "stream",
     "text": [
      "-0.22904366403508902 \t -0.22901177435317088\n"
     ]
    }
   ],
   "source": [
    "np.random.seed(34)\n",
    "\n",
    "X = np.random.randn(28,28,1)\n",
    "filters1 = np.random.randn(5,5,1,6)\n",
    "filters2 = np.random.randn(5,5,6,16)\n",
    "filters3 = np.random.randn(5,5,16,120)\n",
    "\n",
    "filters = [filters1,filters2,filters3]\n",
    "\n",
    "W1 = np.random.randn(120,84)\n",
    "B1 = np.zeros([1,84])\n",
    "\n",
    "W2 = np.random.randn(84,10)\n",
    "B2 = np.zeros([1,10])\n",
    "\n",
    "W = [W1,W2]\n",
    "B = [B1,B2]\n",
    "\n",
    "pool_size = 2\n",
    "\n",
    "F,am = forward(filters,X,W,B,pool_size)\n",
    "\n",
    "Y = np.zeros_like(F[-1])\n",
    "\n",
    "grad = backprop(X,F,am,W,Y,filters,pool_size)\n",
    "\n",
    "J = -np.sum(Y*np.log(F[-1])+(1-Y)*np.log(1-F[-1]))\n",
    "\n",
    "F,am = forward(filters,X,W,B,pool_size)\n",
    "filters1[0,0,0,0] += 0.000001\n",
    "J1 = -np.sum(Y*np.log(F[-1])+(1-Y)*np.log(1-F[-1]))\n",
    "F,am = forward(filters,X,W,B,pool_size)\n",
    "J2 = -np.sum(Y*np.log(F[-1])+(1-Y)*np.log(1-F[-1]))\n",
    "filters1[0,0,0,0] -= 0.000001\n",
    "#print(\"**************************************\")\n",
    "print((J2-J1)/0.000001,'\\t',grad[6][0,0,0,0])\n",
    "#print(\"**************************************\")"
   ]
  },
  {
   "cell_type": "code",
   "execution_count": 1814,
   "metadata": {},
   "outputs": [
    {
     "data": {
      "text/plain": [
       "(5, 5, 16, 120)"
      ]
     },
     "execution_count": 1814,
     "metadata": {},
     "output_type": "execute_result"
    }
   ],
   "source": [
    "grad[4].shape"
   ]
  },
  {
   "cell_type": "code",
   "execution_count": 1789,
   "metadata": {},
   "outputs": [
    {
     "data": {
      "text/plain": [
       "(84, 10)"
      ]
     },
     "execution_count": 1789,
     "metadata": {},
     "output_type": "execute_result"
    }
   ],
   "source": [
    "grad[0].shape"
   ]
  },
  {
   "cell_type": "code",
   "execution_count": 1790,
   "metadata": {},
   "outputs": [
    {
     "data": {
      "text/plain": [
       "(84, 10)"
      ]
     },
     "execution_count": 1790,
     "metadata": {},
     "output_type": "execute_result"
    }
   ],
   "source": [
    "W2.shape"
   ]
  },
  {
   "cell_type": "code",
   "execution_count": 593,
   "metadata": {},
   "outputs": [
    {
     "name": "stdout",
     "output_type": "stream",
     "text": [
      "0 1272963.7726926536\n"
     ]
    }
   ],
   "source": [
    "k1 = 100\n",
    "k2 = 50\n",
    "k3 = 10\n",
    "n = 784\n",
    "\n",
    "np.random.seed(1)\n",
    "W1 = np.random.randn(n,k1)\n",
    "W2 = np.random.randn(k1,k2)\n",
    "W3 = np.random.randn(k2,k3)\n",
    "B1 = np.zeros([1,k1])\n",
    "B2 = np.zeros([1,k2])\n",
    "B3 = np.zeros([1,k3])\n",
    "#dropout1 = (np.random.rand(n,k1) > 0.3)*1\n",
    "#dropout2 = (np.random.rand(k1,k2) > 0.3)*1\n",
    "#dropout3 = (np.random.rand(k2,k3) > 0.3)*1\n",
    "\n",
    "alpha = 0.00005\n",
    "\n",
    "for i in range(1000):\n",
    "    F1,F2,F3,H = forward(W1,W2,W3,B1,B2,B3,X)\n",
    "    J = -np.sum(Y*np.log(H)+(1-Y)*np.log(1-H))\n",
    "    if i%10 == 0:\n",
    "        print(i,J)\n",
    "    dW1,dW2,dW3,dB1,dB2,dB3 = backpropagation(W1,W2,W3,B1,B2,B3,X,F1,F2,F3,H,Y)\n",
    "    \n",
    "    break\n",
    "    W3 = W3 - alpha*dW3\n",
    "    W2 = W2 - alpha*dW2\n",
    "    W1 = W1 - alpha*dW1\n",
    "    B3 = B3 - alpha*dB3\n",
    "    B2 = B2 - alpha*dB2\n",
    "    B1 = B1 - alpha*dB1\n",
    "    break"
   ]
  },
  {
   "cell_type": "code",
   "execution_count": null,
   "metadata": {},
   "outputs": [],
   "source": []
  },
  {
   "cell_type": "code",
   "execution_count": 595,
   "metadata": {},
   "outputs": [
    {
     "name": "stdout",
     "output_type": "stream",
     "text": [
      "517.7385173738003\n",
      "517.7399698127332\n"
     ]
    }
   ],
   "source": [
    "_,_,_,H1 = forward(W1,W2,W3,B1,B2,B3,X)\n",
    "J1 = -np.sum(Y*np.log(H1)+(1-Y)*np.log(1-H1))\n",
    "W3[4,8] += 0.0000001\n",
    "_,_,_,H2 = forward(W1,W2,W3,B1,B2,B3,X)\n",
    "J2 = -np.sum(Y*np.log(H2)+(1-Y)*np.log(1-H2))\n",
    "W3[4,8] -= 0.0000001\n",
    "\n",
    "print((J2-J1)/0.0000001)\n",
    "print(dW3[4,8])"
   ]
  },
  {
   "cell_type": "code",
   "execution_count": null,
   "metadata": {},
   "outputs": [],
   "source": []
  },
  {
   "cell_type": "code",
   "execution_count": 244,
   "metadata": {},
   "outputs": [
    {
     "data": {
      "text/plain": [
       "(50, 10)"
      ]
     },
     "execution_count": 244,
     "metadata": {},
     "output_type": "execute_result"
    }
   ],
   "source": [
    "W3.shape"
   ]
  },
  {
   "cell_type": "code",
   "execution_count": null,
   "metadata": {},
   "outputs": [],
   "source": []
  },
  {
   "cell_type": "code",
   "execution_count": 15,
   "metadata": {},
   "outputs": [],
   "source": [
    "_,_,pred = forward(W1,W2,W3,B1,B2,B3,X_test)"
   ]
  },
  {
   "cell_type": "code",
   "execution_count": 16,
   "metadata": {},
   "outputs": [],
   "source": [
    "pred = np.argmax(pred,axis=1)"
   ]
  },
  {
   "cell_type": "code",
   "execution_count": 17,
   "metadata": {},
   "outputs": [
    {
     "data": {
      "text/plain": [
       "0.9175"
      ]
     },
     "execution_count": 17,
     "metadata": {},
     "output_type": "execute_result"
    }
   ],
   "source": [
    "np.mean(pred == data_test.label.values)"
   ]
  },
  {
   "cell_type": "code",
   "execution_count": 18,
   "metadata": {},
   "outputs": [
    {
     "name": "stdout",
     "output_type": "stream",
     "text": [
      "0.9693877551020408\n",
      "0.9770925110132158\n",
      "0.9118217054263565\n",
      "0.8841584158415842\n",
      "0.9134419551934827\n",
      "0.8733183856502242\n",
      "0.9405010438413361\n",
      "0.9153696498054474\n",
      "0.8747433264887063\n",
      "0.9038652130822596\n"
     ]
    }
   ],
   "source": [
    "for cls in range(10):\n",
    "    print(np.sum((data_test.label.values == cls) * (pred == data_test.label.values))/np.sum(data_test.label.values == cls))"
   ]
  },
  {
   "cell_type": "code",
   "execution_count": null,
   "metadata": {},
   "outputs": [],
   "source": []
  },
  {
   "cell_type": "code",
   "execution_count": 155,
   "metadata": {},
   "outputs": [],
   "source": [
    "from keras.models import Sequential\n",
    "from keras.layers import Dense, Softmax\n",
    "from keras import initializers\n",
    "from keras.optimizers import SGD, Adam\n",
    "\n",
    "W_init = initializers.RandomNormal(stddev = 1)\n",
    "B_init = initializers.Zeros()\n",
    "\n",
    "model = Sequential()\n",
    "\n",
    "model.add(Dense(100, input_shape=[784], activation='sigmoid',kernel_initializer=W_init,bias_initializer=B_init))\n",
    "model.add(Dense(50, activation='sigmoid',kernel_initializer=W_init,bias_initializer=B_init))\n",
    "model.add(Dense(10, activation='sigmoid',kernel_initializer=W_init,bias_initializer=B_init))\n",
    "\n",
    "optimizer = Adam(learning_rate=0.01)\n",
    "model.compile(loss=\"categorical_crossentropy\", optimizer=optimizer, metrics=[\"categorical_crossentropy\",\"accuracy\"])"
   ]
  },
  {
   "cell_type": "code",
   "execution_count": 156,
   "metadata": {},
   "outputs": [
    {
     "name": "stdout",
     "output_type": "stream",
     "text": [
      "Model: \"sequential_26\"\n",
      "_________________________________________________________________\n",
      "Layer (type)                 Output Shape              Param #   \n",
      "=================================================================\n",
      "dense_74 (Dense)             (None, 100)               78500     \n",
      "_________________________________________________________________\n",
      "dense_75 (Dense)             (None, 50)                5050      \n",
      "_________________________________________________________________\n",
      "dense_76 (Dense)             (None, 10)                510       \n",
      "=================================================================\n",
      "Total params: 84,060\n",
      "Trainable params: 84,060\n",
      "Non-trainable params: 0\n",
      "_________________________________________________________________\n",
      "None\n"
     ]
    }
   ],
   "source": [
    "print(model.summary())"
   ]
  },
  {
   "cell_type": "code",
   "execution_count": 165,
   "metadata": {},
   "outputs": [
    {
     "name": "stdout",
     "output_type": "stream",
     "text": [
      "Epoch 1/1\n",
      "60000/60000 [==============================] - 2s 36us/step - loss: 0.7352 - categorical_crossentropy: 0.7352 - accuracy: 0.7539\n",
      "121042.75996251479\n",
      "Epoch 1/1\n",
      "60000/60000 [==============================] - 2s 31us/step - loss: 0.7104 - categorical_crossentropy: 0.7104 - accuracy: 0.7660\n",
      "121029.7733215774\n",
      "Epoch 1/1\n",
      "60000/60000 [==============================] - 2s 28us/step - loss: 0.6885 - categorical_crossentropy: 0.6885 - accuracy: 0.7765\n",
      "120606.02262715591\n",
      "Epoch 1/1\n",
      "60000/60000 [==============================] - 2s 27us/step - loss: 0.6673 - categorical_crossentropy: 0.6673 - accuracy: 0.7872\n",
      "119883.96072103534\n",
      "Epoch 1/1\n",
      "60000/60000 [==============================] - 2s 30us/step - loss: 0.6458 - categorical_crossentropy: 0.6458 - accuracy: 0.7966\n",
      "119113.08899408921\n",
      "Epoch 1/1\n",
      "60000/60000 [==============================] - 2s 28us/step - loss: 0.6249 - categorical_crossentropy: 0.6249 - accuracy: 0.8044\n",
      "118515.66588374053\n",
      "Epoch 1/1\n",
      "60000/60000 [==============================] - 2s 28us/step - loss: 0.6053 - categorical_crossentropy: 0.6053 - accuracy: 0.8121\n",
      "118188.05657331363\n",
      "Epoch 1/1\n",
      "60000/60000 [==============================] - 2s 27us/step - loss: 0.5871 - categorical_crossentropy: 0.5871 - accuracy: 0.8183\n",
      "118102.1075659843\n",
      "Epoch 1/1\n",
      "60000/60000 [==============================] - 2s 29us/step - loss: 0.5699 - categorical_crossentropy: 0.5699 - accuracy: 0.8235\n",
      "118183.94272369817\n",
      "Epoch 1/1\n",
      "60000/60000 [==============================] - 2s 27us/step - loss: 0.5537 - categorical_crossentropy: 0.5537 - accuracy: 0.8292\n",
      "118366.84861826885\n"
     ]
    }
   ],
   "source": [
    "for i in range(10):\n",
    "    model.fit(X, Y, epochs = 1, batch_size=len(X))\n",
    "    H = model.predict(X)\n",
    "    J = -np.sum(Y*np.log(H)+(1-Y)*np.log(1-H))\n",
    "    print(J)"
   ]
  },
  {
   "cell_type": "code",
   "execution_count": 166,
   "metadata": {},
   "outputs": [
    {
     "name": "stdout",
     "output_type": "stream",
     "text": [
      "118366.84861826885\n",
      "0.19727808103044808\n"
     ]
    }
   ],
   "source": [
    "H = model.predict(X)\n",
    "J = -np.sum(Y*np.log(H)+(1-Y)*np.log(1-H))\n",
    "print(J)\n",
    "print(J/60000/10)"
   ]
  },
  {
   "cell_type": "code",
   "execution_count": 167,
   "metadata": {},
   "outputs": [],
   "source": [
    "W1_keras = np.array(model.weights[0][:,:])\n",
    "B1_keras = np.array(model.weights[1][:])\n",
    "W2_keras = np.array(model.weights[2][:,:])\n",
    "B2_keras = np.array(model.weights[3][:])\n",
    "W3_keras = np.array(model.weights[4][:,:])\n",
    "B3_keras = np.array(model.weights[5][:])"
   ]
  },
  {
   "cell_type": "code",
   "execution_count": 168,
   "metadata": {},
   "outputs": [
    {
     "data": {
      "text/plain": [
       "array([[ 1.        , -0.46641235],\n",
       "       [-0.46641235,  1.        ]])"
      ]
     },
     "execution_count": 168,
     "metadata": {},
     "output_type": "execute_result"
    }
   ],
   "source": [
    "np.corrcoef(B3.flatten(),B3_keras.flatten())"
   ]
  },
  {
   "cell_type": "code",
   "execution_count": 169,
   "metadata": {},
   "outputs": [
    {
     "data": {
      "text/plain": [
       "0.8331"
      ]
     },
     "execution_count": 169,
     "metadata": {},
     "output_type": "execute_result"
    }
   ],
   "source": [
    "H = model.predict(X_test)\n",
    "pred = np.argmax(H,axis=1)\n",
    "np.mean(pred == data_test.label.values)"
   ]
  },
  {
   "cell_type": "code",
   "execution_count": 519,
   "metadata": {},
   "outputs": [
    {
     "ename": "NameError",
     "evalue": "name 'pred' is not defined",
     "output_type": "error",
     "traceback": [
      "\u001b[0;31m---------------------------------------------------------------------------\u001b[0m",
      "\u001b[0;31mNameError\u001b[0m                                 Traceback (most recent call last)",
      "\u001b[0;32m<ipython-input-519-60e4fb61bbfe>\u001b[0m in \u001b[0;36m<module>\u001b[0;34m\u001b[0m\n\u001b[1;32m      1\u001b[0m \u001b[0;32mfor\u001b[0m \u001b[0mcls\u001b[0m \u001b[0;32min\u001b[0m \u001b[0mrange\u001b[0m\u001b[0;34m(\u001b[0m\u001b[0;36m10\u001b[0m\u001b[0;34m)\u001b[0m\u001b[0;34m:\u001b[0m\u001b[0;34m\u001b[0m\u001b[0;34m\u001b[0m\u001b[0m\n\u001b[0;32m----> 2\u001b[0;31m     \u001b[0mprint\u001b[0m\u001b[0;34m(\u001b[0m\u001b[0mnp\u001b[0m\u001b[0;34m.\u001b[0m\u001b[0msum\u001b[0m\u001b[0;34m(\u001b[0m\u001b[0;34m(\u001b[0m\u001b[0mdata_test\u001b[0m\u001b[0;34m.\u001b[0m\u001b[0mlabel\u001b[0m\u001b[0;34m.\u001b[0m\u001b[0mvalues\u001b[0m \u001b[0;34m==\u001b[0m \u001b[0mcls\u001b[0m\u001b[0;34m)\u001b[0m \u001b[0;34m*\u001b[0m \u001b[0;34m(\u001b[0m\u001b[0mpred\u001b[0m \u001b[0;34m==\u001b[0m \u001b[0mdata_test\u001b[0m\u001b[0;34m.\u001b[0m\u001b[0mlabel\u001b[0m\u001b[0;34m.\u001b[0m\u001b[0mvalues\u001b[0m\u001b[0;34m)\u001b[0m\u001b[0;34m)\u001b[0m\u001b[0;34m/\u001b[0m\u001b[0mnp\u001b[0m\u001b[0;34m.\u001b[0m\u001b[0msum\u001b[0m\u001b[0;34m(\u001b[0m\u001b[0mdata_test\u001b[0m\u001b[0;34m.\u001b[0m\u001b[0mlabel\u001b[0m\u001b[0;34m.\u001b[0m\u001b[0mvalues\u001b[0m \u001b[0;34m==\u001b[0m \u001b[0mcls\u001b[0m\u001b[0;34m)\u001b[0m\u001b[0;34m)\u001b[0m\u001b[0;34m\u001b[0m\u001b[0;34m\u001b[0m\u001b[0m\n\u001b[0m",
      "\u001b[0;31mNameError\u001b[0m: name 'pred' is not defined"
     ]
    }
   ],
   "source": [
    "for cls in range(10):\n",
    "    print(np.sum((data_test.label.values == cls) * (pred == data_test.label.values))/np.sum(data_test.label.values == cls))"
   ]
  },
  {
   "cell_type": "code",
   "execution_count": null,
   "metadata": {},
   "outputs": [],
   "source": []
  },
  {
   "cell_type": "code",
   "execution_count": 520,
   "metadata": {},
   "outputs": [
    {
     "data": {
      "text/plain": [
       "array([[ -7,   2, -15],\n",
       "       [  2, -18,  16],\n",
       "       [ 10, -11,  -2]])"
      ]
     },
     "execution_count": 520,
     "metadata": {},
     "output_type": "execute_result"
    }
   ],
   "source": [
    "a1"
   ]
  },
  {
   "cell_type": "code",
   "execution_count": 516,
   "metadata": {},
   "outputs": [],
   "source": [
    "A = np.array([[3,6],[-4,2]])\n",
    "B = np.array([[54],[8]])"
   ]
  },
  {
   "cell_type": "code",
   "execution_count": 517,
   "metadata": {},
   "outputs": [],
   "source": [
    "X = np.matmul(np.linalg.pinv(A),B)"
   ]
  },
  {
   "cell_type": "code",
   "execution_count": 518,
   "metadata": {},
   "outputs": [
    {
     "data": {
      "text/plain": [
       "array([[2.],\n",
       "       [8.]])"
      ]
     },
     "execution_count": 518,
     "metadata": {},
     "output_type": "execute_result"
    }
   ],
   "source": [
    "X"
   ]
  },
  {
   "cell_type": "code",
   "execution_count": 497,
   "metadata": {},
   "outputs": [
    {
     "data": {
      "text/plain": [
       "array([[ -52, -160,   89]])"
      ]
     },
     "execution_count": 497,
     "metadata": {},
     "output_type": "execute_result"
    }
   ],
   "source": [
    "X"
   ]
  },
  {
   "cell_type": "code",
   "execution_count": 1352,
   "metadata": {},
   "outputs": [],
   "source": [
    "d = np.array([[0.45453629,0.22482622],[0.00321534,0.25773216]])"
   ]
  },
  {
   "cell_type": "code",
   "execution_count": 1357,
   "metadata": {},
   "outputs": [
    {
     "data": {
      "text/plain": [
       "array([0.45453629, 0.22482622, 0.00321534, 0.25773216])"
      ]
     },
     "execution_count": 1357,
     "metadata": {},
     "output_type": "execute_result"
    }
   ],
   "source": [
    "d.flatten()"
   ]
  },
  {
   "cell_type": "code",
   "execution_count": 1355,
   "metadata": {},
   "outputs": [
    {
     "data": {
      "text/plain": [
       "array([0, 1])"
      ]
     },
     "execution_count": 1355,
     "metadata": {},
     "output_type": "execute_result"
    }
   ],
   "source": [
    "np.argmax(d.T,axis=-1)"
   ]
  },
  {
   "cell_type": "code",
   "execution_count": 1323,
   "metadata": {},
   "outputs": [
    {
     "name": "stdout",
     "output_type": "stream",
     "text": [
      "0\n",
      "1\n"
     ]
    }
   ],
   "source": [
    "for i,v in enumerate(['a','b']):\n",
    "    print(i)"
   ]
  },
  {
   "cell_type": "code",
   "execution_count": null,
   "metadata": {},
   "outputs": [],
   "source": []
  }
 ],
 "metadata": {
  "kernelspec": {
   "display_name": "Python 3",
   "language": "python",
   "name": "python3"
  },
  "language_info": {
   "codemirror_mode": {
    "name": "ipython",
    "version": 3
   },
   "file_extension": ".py",
   "mimetype": "text/x-python",
   "name": "python",
   "nbconvert_exporter": "python",
   "pygments_lexer": "ipython3",
   "version": "3.7.4"
  }
 },
 "nbformat": 4,
 "nbformat_minor": 2
}
