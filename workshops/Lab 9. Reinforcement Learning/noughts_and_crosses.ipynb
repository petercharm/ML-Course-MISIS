{
 "cells": [
  {
   "cell_type": "code",
   "execution_count": 1,
   "metadata": {},
   "outputs": [],
   "source": [
    "import numpy as np\n",
    "import tensorflow as tf\n",
    "from tqdm import tqdm\n",
    "import matplotlib.pyplot as plt\n",
    "\n",
    "%matplotlib inline"
   ]
  },
  {
   "cell_type": "code",
   "execution_count": 2,
   "metadata": {},
   "outputs": [],
   "source": [
    "# Minimax function algorithm\n",
    "# position is a vector of board, where \n",
    "# - 0 - empty square\n",
    "# - 1 - X\n",
    "# - -1 - O\n",
    "\n",
    "def calc_position(position):\n",
    "    # condition of winning - 3 in a row (8 possible cases)\n",
    "    if (position[0] == position[1] == position[2] != 0) or (position[3] == position[4] == position[5] != 0) or \\\n",
    "        (position[6] == position[7] == position[8] != 0) or (position[0] == position[3] == position[6] != 0) or \\\n",
    "        (position[1] == position[4] == position[7] != 0) or (position[2] == position[5] == position[8] != 0) or \\\n",
    "        (position[0] == position[4] == position[8] != 0) or (position[2] == position[4] == position[6] != 0):\n",
    "        #all_positions[tuple(position)]=[[],[],sum(position)*2-1]\n",
    "        return None, sum(position)*2-1 # return -1 if O wins and 1 if X wins\n",
    "    \n",
    "    if 0 not in position:\n",
    "        #all_positions[tuple(position)]=[[],[],0]\n",
    "        return None, 0 # return 0 as draw\n",
    "    \n",
    "    # turn to move\n",
    "    turn=1\n",
    "    if sum(position)!=0: # if sum of positions not equals 0 - then move of O\n",
    "        turn=-1\n",
    "    \n",
    "    # save moves and values of the positions afrer each move\n",
    "    moves=[]\n",
    "    values=[]\n",
    "    for i in range(9):\n",
    "        if position[i]==0:\n",
    "            sub_position=position[:]\n",
    "            sub_position[i]=turn\n",
    "            moves.append(i)\n",
    "            _,value = calc_position(sub_position)\n",
    "            values.append(value)\n",
    "            \n",
    "    if turn==1: \n",
    "        best_value=max(values)\n",
    "        index=np.argmax(values)\n",
    "    else:\n",
    "        best_value=min(values)\n",
    "        index=np.argmin(values)\n",
    "        \n",
    "    good_moves=[] # Save bad and good moves to lists\n",
    "    bad_moves=[]\n",
    "    for i,value in enumerate (values):\n",
    "        if value==best_value:\n",
    "            good_moves.append(moves[i])\n",
    "        else:\n",
    "            bad_moves.append(moves[i])\n",
    "    #all_positions[tuple(position)]=[good_moves,bad_moves,values[index]]\n",
    "    return good_moves,values[index]"
   ]
  },
  {
   "cell_type": "code",
   "execution_count": 3,
   "metadata": {},
   "outputs": [
    {
     "data": {
      "text/plain": [
       "([0, 1, 2, 3, 4, 5, 6, 7, 8], 0)"
      ]
     },
     "execution_count": 3,
     "metadata": {},
     "output_type": "execute_result"
    }
   ],
   "source": [
    "all_positions={}\n",
    "calc_position([0,0,0,0,0,0,0,0,0])"
   ]
  },
  {
   "cell_type": "code",
   "execution_count": null,
   "metadata": {},
   "outputs": [],
   "source": []
  }
 ],
 "metadata": {
  "kernelspec": {
   "display_name": "Python 3",
   "language": "python",
   "name": "python3"
  },
  "language_info": {
   "codemirror_mode": {
    "name": "ipython",
    "version": 3
   },
   "file_extension": ".py",
   "mimetype": "text/x-python",
   "name": "python",
   "nbconvert_exporter": "python",
   "pygments_lexer": "ipython3",
   "version": "3.7.4"
  }
 },
 "nbformat": 4,
 "nbformat_minor": 2
}
